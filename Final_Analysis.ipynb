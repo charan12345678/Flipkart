{
  "nbformat": 4,
  "nbformat_minor": 0,
  "metadata": {
    "colab": {
      "name": "Final_Analysis.ipynb",
      "provenance": [],
      "collapsed_sections": [],
      "toc_visible": true,
      "authorship_tag": "ABX9TyNUF0tYg3QwUaRLa0GqVhh3",
      "include_colab_link": true
    },
    "kernelspec": {
      "name": "python3",
      "display_name": "Python 3"
    }
  },
  "cells": [
    {
      "cell_type": "markdown",
      "metadata": {
        "id": "view-in-github",
        "colab_type": "text"
      },
      "source": [
        "<a href=\"https://colab.research.google.com/github/charan12345678/Flipkart/blob/master/Final_Analysis.ipynb\" target=\"_parent\"><img src=\"https://colab.research.google.com/assets/colab-badge.svg\" alt=\"Open In Colab\"/></a>"
      ]
    },
    {
      "cell_type": "code",
      "metadata": {
        "id": "d_2Xv8mxOl9H",
        "colab_type": "code",
        "colab": {
          "base_uri": "https://localhost:8080/",
          "height": 34
        },
        "outputId": "5cc04a1f-2461-49da-c9ee-b5e0e5c4899b"
      },
      "source": [
        "!git clone https://github.com/charan12345678/Flipkart.git\n"
      ],
      "execution_count": 196,
      "outputs": [
        {
          "output_type": "stream",
          "text": [
            "fatal: destination path 'Flipkart' already exists and is not an empty directory.\n"
          ],
          "name": "stdout"
        }
      ]
    },
    {
      "cell_type": "code",
      "metadata": {
        "id": "e23JcdtzquE0",
        "colab_type": "code",
        "colab": {}
      },
      "source": [
        "import sys\n",
        "import numpy as np\n",
        "import pandas as pd\n",
        "import matplotlib.pyplot as plt \n",
        "import scipy \n",
        "import sklearn\n",
        "import seaborn as sns \n",
        "import re\n"
      ],
      "execution_count": 197,
      "outputs": []
    },
    {
      "cell_type": "code",
      "metadata": {
        "id": "To8GmgPdrSgv",
        "colab_type": "code",
        "colab": {
          "base_uri": "https://localhost:8080/",
          "height": 204
        },
        "outputId": "47be4305-6ffe-41b1-c9ed-6960296f9ab5"
      },
      "source": [
        "df = pd.read_csv(\"New_Flipkart.csv\",)\n",
        "df.drop(['product_name'],axis=1,inplace=True)\n",
        "df.head()"
      ],
      "execution_count": 198,
      "outputs": [
        {
          "output_type": "execute_result",
          "data": {
            "text/html": [
              "<div>\n",
              "<style scoped>\n",
              "    .dataframe tbody tr th:only-of-type {\n",
              "        vertical-align: middle;\n",
              "    }\n",
              "\n",
              "    .dataframe tbody tr th {\n",
              "        vertical-align: top;\n",
              "    }\n",
              "\n",
              "    .dataframe thead th {\n",
              "        text-align: right;\n",
              "    }\n",
              "</style>\n",
              "<table border=\"1\" class=\"dataframe\">\n",
              "  <thead>\n",
              "    <tr style=\"text-align: right;\">\n",
              "      <th></th>\n",
              "      <th>Ram</th>\n",
              "      <th>New_back_camera</th>\n",
              "      <th>battery</th>\n",
              "      <th>Internal_storage</th>\n",
              "      <th>display</th>\n",
              "      <th>rating</th>\n",
              "      <th>price</th>\n",
              "    </tr>\n",
              "  </thead>\n",
              "  <tbody>\n",
              "    <tr>\n",
              "      <th>0</th>\n",
              "      <td>4.0</td>\n",
              "      <td>12</td>\n",
              "      <td>5000</td>\n",
              "      <td>64</td>\n",
              "      <td>6.22</td>\n",
              "      <td>4.4</td>\n",
              "      <td>9799</td>\n",
              "    </tr>\n",
              "    <tr>\n",
              "      <th>1</th>\n",
              "      <td>4.0</td>\n",
              "      <td>48</td>\n",
              "      <td>5000</td>\n",
              "      <td>128</td>\n",
              "      <td>6.50</td>\n",
              "      <td>4.5</td>\n",
              "      <td>11999</td>\n",
              "    </tr>\n",
              "    <tr>\n",
              "      <th>2</th>\n",
              "      <td>4.0</td>\n",
              "      <td>48</td>\n",
              "      <td>5000</td>\n",
              "      <td>128</td>\n",
              "      <td>6.50</td>\n",
              "      <td>4.5</td>\n",
              "      <td>11999</td>\n",
              "    </tr>\n",
              "    <tr>\n",
              "      <th>3</th>\n",
              "      <td>6.0</td>\n",
              "      <td>64</td>\n",
              "      <td>4500</td>\n",
              "      <td>128</td>\n",
              "      <td>6.53</td>\n",
              "      <td>4.5</td>\n",
              "      <td>16999</td>\n",
              "    </tr>\n",
              "    <tr>\n",
              "      <th>4</th>\n",
              "      <td>8.0</td>\n",
              "      <td>64</td>\n",
              "      <td>4300</td>\n",
              "      <td>128</td>\n",
              "      <td>6.50</td>\n",
              "      <td>4.4</td>\n",
              "      <td>17999</td>\n",
              "    </tr>\n",
              "  </tbody>\n",
              "</table>\n",
              "</div>"
            ],
            "text/plain": [
              "   Ram  New_back_camera  battery  Internal_storage  display  rating  price\n",
              "0  4.0               12     5000                64     6.22     4.4   9799\n",
              "1  4.0               48     5000               128     6.50     4.5  11999\n",
              "2  4.0               48     5000               128     6.50     4.5  11999\n",
              "3  6.0               64     4500               128     6.53     4.5  16999\n",
              "4  8.0               64     4300               128     6.50     4.4  17999"
            ]
          },
          "metadata": {
            "tags": []
          },
          "execution_count": 198
        }
      ]
    },
    {
      "cell_type": "code",
      "metadata": {
        "id": "FAI_HZhWrVFS",
        "colab_type": "code",
        "colab": {
          "base_uri": "https://localhost:8080/",
          "height": 34
        },
        "outputId": "d7dca8ec-f09a-44cb-eb7c-a57ce23527ca"
      },
      "source": [
        "df.shape"
      ],
      "execution_count": 199,
      "outputs": [
        {
          "output_type": "execute_result",
          "data": {
            "text/plain": [
              "(315, 7)"
            ]
          },
          "metadata": {
            "tags": []
          },
          "execution_count": 199
        }
      ]
    },
    {
      "cell_type": "markdown",
      "metadata": {
        "id": "nVOjuiQc35Sj",
        "colab_type": "text"
      },
      "source": [
        "# **EXPLORATORY DATA ANALYSIS**\n",
        "\n",
        "\n"
      ]
    },
    {
      "cell_type": "markdown",
      "metadata": {
        "id": "FuuGmq-SxFec",
        "colab_type": "text"
      },
      "source": [
        "**Inference :-**\n",
        " **1)There are 315 rows and 7 columns in this dataset**\n",
        "\n",
        "\n",
        "\n",
        "\n"
      ]
    },
    {
      "cell_type": "code",
      "metadata": {
        "id": "jEu_pL2Vvwmy",
        "colab_type": "code",
        "colab": {
          "base_uri": "https://localhost:8080/",
          "height": 255
        },
        "outputId": "c88c3ba3-2d07-4b26-bc4e-8dbfefc27348"
      },
      "source": [
        "df.info()"
      ],
      "execution_count": 200,
      "outputs": [
        {
          "output_type": "stream",
          "text": [
            "<class 'pandas.core.frame.DataFrame'>\n",
            "RangeIndex: 315 entries, 0 to 314\n",
            "Data columns (total 7 columns):\n",
            " #   Column            Non-Null Count  Dtype  \n",
            "---  ------            --------------  -----  \n",
            " 0   Ram               315 non-null    float64\n",
            " 1   New_back_camera   315 non-null    int64  \n",
            " 2   battery           315 non-null    int64  \n",
            " 3   Internal_storage  315 non-null    int64  \n",
            " 4   display           315 non-null    float64\n",
            " 5   rating            315 non-null    float64\n",
            " 6   price             315 non-null    int64  \n",
            "dtypes: float64(3), int64(4)\n",
            "memory usage: 17.4 KB\n"
          ],
          "name": "stdout"
        }
      ]
    },
    {
      "cell_type": "markdown",
      "metadata": {
        "id": "-HAPHeLYxT3Y",
        "colab_type": "text"
      },
      "source": [
        "**Inference :-** \n",
        "**1) There are 315 non null objects of type int and float in each column**"
      ]
    },
    {
      "cell_type": "code",
      "metadata": {
        "id": "-JVSHzker1Py",
        "colab_type": "code",
        "colab": {
          "base_uri": "https://localhost:8080/",
          "height": 297
        },
        "outputId": "4a5ecd14-5101-4897-b413-7e9476170d05"
      },
      "source": [
        "df.describe()"
      ],
      "execution_count": 201,
      "outputs": [
        {
          "output_type": "execute_result",
          "data": {
            "text/html": [
              "<div>\n",
              "<style scoped>\n",
              "    .dataframe tbody tr th:only-of-type {\n",
              "        vertical-align: middle;\n",
              "    }\n",
              "\n",
              "    .dataframe tbody tr th {\n",
              "        vertical-align: top;\n",
              "    }\n",
              "\n",
              "    .dataframe thead th {\n",
              "        text-align: right;\n",
              "    }\n",
              "</style>\n",
              "<table border=\"1\" class=\"dataframe\">\n",
              "  <thead>\n",
              "    <tr style=\"text-align: right;\">\n",
              "      <th></th>\n",
              "      <th>Ram</th>\n",
              "      <th>New_back_camera</th>\n",
              "      <th>battery</th>\n",
              "      <th>Internal_storage</th>\n",
              "      <th>display</th>\n",
              "      <th>rating</th>\n",
              "      <th>price</th>\n",
              "    </tr>\n",
              "  </thead>\n",
              "  <tbody>\n",
              "    <tr>\n",
              "      <th>count</th>\n",
              "      <td>315.000000</td>\n",
              "      <td>315.000000</td>\n",
              "      <td>315.000000</td>\n",
              "      <td>315.000000</td>\n",
              "      <td>315.000000</td>\n",
              "      <td>315.000000</td>\n",
              "      <td>315.000000</td>\n",
              "    </tr>\n",
              "    <tr>\n",
              "      <th>mean</th>\n",
              "      <td>14.474603</td>\n",
              "      <td>21.946032</td>\n",
              "      <td>3443.380952</td>\n",
              "      <td>87.092063</td>\n",
              "      <td>5.430032</td>\n",
              "      <td>4.207302</td>\n",
              "      <td>19321.806349</td>\n",
              "    </tr>\n",
              "    <tr>\n",
              "      <th>std</th>\n",
              "      <td>50.513330</td>\n",
              "      <td>21.927942</td>\n",
              "      <td>1209.793863</td>\n",
              "      <td>83.700450</td>\n",
              "      <td>1.595658</td>\n",
              "      <td>0.370459</td>\n",
              "      <td>18292.210867</td>\n",
              "    </tr>\n",
              "    <tr>\n",
              "      <th>min</th>\n",
              "      <td>1.000000</td>\n",
              "      <td>1.000000</td>\n",
              "      <td>1000.000000</td>\n",
              "      <td>1.000000</td>\n",
              "      <td>1.770000</td>\n",
              "      <td>2.100000</td>\n",
              "      <td>648.000000</td>\n",
              "    </tr>\n",
              "    <tr>\n",
              "      <th>25%</th>\n",
              "      <td>4.000000</td>\n",
              "      <td>12.000000</td>\n",
              "      <td>3000.000000</td>\n",
              "      <td>32.000000</td>\n",
              "      <td>5.475000</td>\n",
              "      <td>4.000000</td>\n",
              "      <td>9549.500000</td>\n",
              "    </tr>\n",
              "    <tr>\n",
              "      <th>50%</th>\n",
              "      <td>6.000000</td>\n",
              "      <td>13.000000</td>\n",
              "      <td>4000.000000</td>\n",
              "      <td>64.000000</td>\n",
              "      <td>6.200000</td>\n",
              "      <td>4.300000</td>\n",
              "      <td>14999.000000</td>\n",
              "    </tr>\n",
              "    <tr>\n",
              "      <th>75%</th>\n",
              "      <td>8.000000</td>\n",
              "      <td>36.500000</td>\n",
              "      <td>4230.000000</td>\n",
              "      <td>128.000000</td>\n",
              "      <td>6.400000</td>\n",
              "      <td>4.500000</td>\n",
              "      <td>22569.500000</td>\n",
              "    </tr>\n",
              "    <tr>\n",
              "      <th>max</th>\n",
              "      <td>512.000000</td>\n",
              "      <td>108.000000</td>\n",
              "      <td>6000.000000</td>\n",
              "      <td>512.000000</td>\n",
              "      <td>6.800000</td>\n",
              "      <td>5.000000</td>\n",
              "      <td>124999.000000</td>\n",
              "    </tr>\n",
              "  </tbody>\n",
              "</table>\n",
              "</div>"
            ],
            "text/plain": [
              "              Ram  New_back_camera  ...      rating          price\n",
              "count  315.000000       315.000000  ...  315.000000     315.000000\n",
              "mean    14.474603        21.946032  ...    4.207302   19321.806349\n",
              "std     50.513330        21.927942  ...    0.370459   18292.210867\n",
              "min      1.000000         1.000000  ...    2.100000     648.000000\n",
              "25%      4.000000        12.000000  ...    4.000000    9549.500000\n",
              "50%      6.000000        13.000000  ...    4.300000   14999.000000\n",
              "75%      8.000000        36.500000  ...    4.500000   22569.500000\n",
              "max    512.000000       108.000000  ...    5.000000  124999.000000\n",
              "\n",
              "[8 rows x 7 columns]"
            ]
          },
          "metadata": {
            "tags": []
          },
          "execution_count": 201
        }
      ]
    },
    {
      "cell_type": "markdown",
      "metadata": {
        "id": "-xJWCU2m6K1c",
        "colab_type": "text"
      },
      "source": [
        "\n",
        "**Inference**\n",
        "\n",
        "**1.   The above table shows the mean , standard deviation,minimum and maximum values ,first,second and third quartile values of each column of the dataset 'df',with Outliers**\n",
        "\n",
        "\n"
      ]
    },
    {
      "cell_type": "code",
      "metadata": {
        "id": "hm7K8N0Ou77S",
        "colab_type": "code",
        "colab": {
          "base_uri": "https://localhost:8080/",
          "height": 34
        },
        "outputId": "972a356c-27a9-4201-bf2b-7c81369e5567"
      },
      "source": [
        "df.loc[:,\"Ram\"].mean()"
      ],
      "execution_count": 202,
      "outputs": [
        {
          "output_type": "execute_result",
          "data": {
            "text/plain": [
              "14.474603174603175"
            ]
          },
          "metadata": {
            "tags": []
          },
          "execution_count": 202
        }
      ]
    },
    {
      "cell_type": "markdown",
      "metadata": {
        "id": "10FIICZtrSi9",
        "colab_type": "text"
      },
      "source": [
        "# **Univariate Analysis of each feature in the dataset**"
      ]
    },
    {
      "cell_type": "markdown",
      "metadata": {
        "id": "6E_sRULQBL69",
        "colab_type": "text"
      },
      "source": [
        "**Univariate Analysis of RAM**"
      ]
    },
    {
      "cell_type": "code",
      "metadata": {
        "id": "1rVJZpMi8a2A",
        "colab_type": "code",
        "colab": {
          "base_uri": "https://localhost:8080/",
          "height": 170
        },
        "outputId": "573c1a99-d03d-42c6-9696-102878285272"
      },
      "source": [
        "df['Ram'].describe()"
      ],
      "execution_count": 203,
      "outputs": [
        {
          "output_type": "execute_result",
          "data": {
            "text/plain": [
              "count    315.000000\n",
              "mean      14.474603\n",
              "std       50.513330\n",
              "min        1.000000\n",
              "25%        4.000000\n",
              "50%        6.000000\n",
              "75%        8.000000\n",
              "max      512.000000\n",
              "Name: Ram, dtype: float64"
            ]
          },
          "metadata": {
            "tags": []
          },
          "execution_count": 203
        }
      ]
    },
    {
      "cell_type": "markdown",
      "metadata": {
        "id": "HFD712vucGXT",
        "colab_type": "text"
      },
      "source": [
        "**Inference :-** \n",
        "\n",
        "*  1) The mean value of the column 'Ram' is 14.47 GB ,standard deviation is 50.51 GB ,minimum value is 1 GB and maximum value is 512 MB \n",
        "*  2)The 25th percentile value is 4 GB,50th percentile is 6 GB,75th percentile is 8 GB ,the median value is 6 GB\n",
        "\n",
        "\n"
      ]
    },
    {
      "cell_type": "code",
      "metadata": {
        "id": "vdIMi7PX25Qr",
        "colab_type": "code",
        "colab": {
          "base_uri": "https://localhost:8080/",
          "height": 576
        },
        "outputId": "5bf8a838-a341-4c43-84ef-bf8b007a8595"
      },
      "source": [
        "ram_grp = df.groupby('Ram')\n",
        "ram_grp.count()\n",
        "#ram_grp.size()"
      ],
      "execution_count": 204,
      "outputs": [
        {
          "output_type": "execute_result",
          "data": {
            "text/html": [
              "<div>\n",
              "<style scoped>\n",
              "    .dataframe tbody tr th:only-of-type {\n",
              "        vertical-align: middle;\n",
              "    }\n",
              "\n",
              "    .dataframe tbody tr th {\n",
              "        vertical-align: top;\n",
              "    }\n",
              "\n",
              "    .dataframe thead th {\n",
              "        text-align: right;\n",
              "    }\n",
              "</style>\n",
              "<table border=\"1\" class=\"dataframe\">\n",
              "  <thead>\n",
              "    <tr style=\"text-align: right;\">\n",
              "      <th></th>\n",
              "      <th>New_back_camera</th>\n",
              "      <th>battery</th>\n",
              "      <th>Internal_storage</th>\n",
              "      <th>display</th>\n",
              "      <th>rating</th>\n",
              "      <th>price</th>\n",
              "    </tr>\n",
              "    <tr>\n",
              "      <th>Ram</th>\n",
              "      <th></th>\n",
              "      <th></th>\n",
              "      <th></th>\n",
              "      <th></th>\n",
              "      <th></th>\n",
              "      <th></th>\n",
              "    </tr>\n",
              "  </thead>\n",
              "  <tbody>\n",
              "    <tr>\n",
              "      <th>1.0</th>\n",
              "      <td>7</td>\n",
              "      <td>7</td>\n",
              "      <td>7</td>\n",
              "      <td>7</td>\n",
              "      <td>7</td>\n",
              "      <td>7</td>\n",
              "    </tr>\n",
              "    <tr>\n",
              "      <th>1.5</th>\n",
              "      <td>1</td>\n",
              "      <td>1</td>\n",
              "      <td>1</td>\n",
              "      <td>1</td>\n",
              "      <td>1</td>\n",
              "      <td>1</td>\n",
              "    </tr>\n",
              "    <tr>\n",
              "      <th>2.0</th>\n",
              "      <td>22</td>\n",
              "      <td>22</td>\n",
              "      <td>22</td>\n",
              "      <td>22</td>\n",
              "      <td>22</td>\n",
              "      <td>22</td>\n",
              "    </tr>\n",
              "    <tr>\n",
              "      <th>3.0</th>\n",
              "      <td>45</td>\n",
              "      <td>45</td>\n",
              "      <td>45</td>\n",
              "      <td>45</td>\n",
              "      <td>45</td>\n",
              "      <td>45</td>\n",
              "    </tr>\n",
              "    <tr>\n",
              "      <th>4.0</th>\n",
              "      <td>80</td>\n",
              "      <td>80</td>\n",
              "      <td>80</td>\n",
              "      <td>80</td>\n",
              "      <td>80</td>\n",
              "      <td>80</td>\n",
              "    </tr>\n",
              "    <tr>\n",
              "      <th>6.0</th>\n",
              "      <td>48</td>\n",
              "      <td>48</td>\n",
              "      <td>48</td>\n",
              "      <td>48</td>\n",
              "      <td>48</td>\n",
              "      <td>48</td>\n",
              "    </tr>\n",
              "    <tr>\n",
              "      <th>8.0</th>\n",
              "      <td>51</td>\n",
              "      <td>51</td>\n",
              "      <td>51</td>\n",
              "      <td>51</td>\n",
              "      <td>51</td>\n",
              "      <td>51</td>\n",
              "    </tr>\n",
              "    <tr>\n",
              "      <th>10.0</th>\n",
              "      <td>1</td>\n",
              "      <td>1</td>\n",
              "      <td>1</td>\n",
              "      <td>1</td>\n",
              "      <td>1</td>\n",
              "      <td>1</td>\n",
              "    </tr>\n",
              "    <tr>\n",
              "      <th>12.0</th>\n",
              "      <td>8</td>\n",
              "      <td>8</td>\n",
              "      <td>8</td>\n",
              "      <td>8</td>\n",
              "      <td>8</td>\n",
              "      <td>8</td>\n",
              "    </tr>\n",
              "    <tr>\n",
              "      <th>16.0</th>\n",
              "      <td>3</td>\n",
              "      <td>3</td>\n",
              "      <td>3</td>\n",
              "      <td>3</td>\n",
              "      <td>3</td>\n",
              "      <td>3</td>\n",
              "    </tr>\n",
              "    <tr>\n",
              "      <th>24.0</th>\n",
              "      <td>1</td>\n",
              "      <td>1</td>\n",
              "      <td>1</td>\n",
              "      <td>1</td>\n",
              "      <td>1</td>\n",
              "      <td>1</td>\n",
              "    </tr>\n",
              "    <tr>\n",
              "      <th>32.0</th>\n",
              "      <td>40</td>\n",
              "      <td>40</td>\n",
              "      <td>40</td>\n",
              "      <td>40</td>\n",
              "      <td>40</td>\n",
              "      <td>40</td>\n",
              "    </tr>\n",
              "    <tr>\n",
              "      <th>42.0</th>\n",
              "      <td>1</td>\n",
              "      <td>1</td>\n",
              "      <td>1</td>\n",
              "      <td>1</td>\n",
              "      <td>1</td>\n",
              "      <td>1</td>\n",
              "    </tr>\n",
              "    <tr>\n",
              "      <th>64.0</th>\n",
              "      <td>3</td>\n",
              "      <td>3</td>\n",
              "      <td>3</td>\n",
              "      <td>3</td>\n",
              "      <td>3</td>\n",
              "      <td>3</td>\n",
              "    </tr>\n",
              "    <tr>\n",
              "      <th>128.0</th>\n",
              "      <td>1</td>\n",
              "      <td>1</td>\n",
              "      <td>1</td>\n",
              "      <td>1</td>\n",
              "      <td>1</td>\n",
              "      <td>1</td>\n",
              "    </tr>\n",
              "    <tr>\n",
              "      <th>512.0</th>\n",
              "      <td>3</td>\n",
              "      <td>3</td>\n",
              "      <td>3</td>\n",
              "      <td>3</td>\n",
              "      <td>3</td>\n",
              "      <td>3</td>\n",
              "    </tr>\n",
              "  </tbody>\n",
              "</table>\n",
              "</div>"
            ],
            "text/plain": [
              "       New_back_camera  battery  Internal_storage  display  rating  price\n",
              "Ram                                                                      \n",
              "1.0                  7        7                 7        7       7      7\n",
              "1.5                  1        1                 1        1       1      1\n",
              "2.0                 22       22                22       22      22     22\n",
              "3.0                 45       45                45       45      45     45\n",
              "4.0                 80       80                80       80      80     80\n",
              "6.0                 48       48                48       48      48     48\n",
              "8.0                 51       51                51       51      51     51\n",
              "10.0                 1        1                 1        1       1      1\n",
              "12.0                 8        8                 8        8       8      8\n",
              "16.0                 3        3                 3        3       3      3\n",
              "24.0                 1        1                 1        1       1      1\n",
              "32.0                40       40                40       40      40     40\n",
              "42.0                 1        1                 1        1       1      1\n",
              "64.0                 3        3                 3        3       3      3\n",
              "128.0                1        1                 1        1       1      1\n",
              "512.0                3        3                 3        3       3      3"
            ]
          },
          "metadata": {
            "tags": []
          },
          "execution_count": 204
        }
      ]
    },
    {
      "cell_type": "markdown",
      "metadata": {
        "id": "4k7d2BGIdOFC",
        "colab_type": "text"
      },
      "source": [
        "# Inference:-\n",
        "\n",
        "\n",
        "1.   Most of the mobiles have Rams between 2 GB to 8 GB and there are very less mobiles with Rams between 10-24 GB and even lesser number of mobiles between  42 GB and 128 Gb, but mobiles with Ram 32 GB are also in majority and fall under the normal distribution\n",
        "\n",
        "2.   Mobiles with Ram 512 MB and 128 GB seem like outliers drifting away from the normal distribution ,also there are just 3 mobiles with 128 GB and just 1 mobile with Ram 512 MB ,it seems safe to drop just 4 rows with outliers in Ram. \n",
        "\n"
      ]
    },
    {
      "cell_type": "code",
      "metadata": {
        "id": "Tvbk5PgRuc8x",
        "colab_type": "code",
        "colab": {
          "base_uri": "https://localhost:8080/",
          "height": 386
        },
        "outputId": "2225be6d-6eab-4a02-ece8-020d07d6af73"
      },
      "source": [
        "sns.catplot(x = \"Ram\", kind = \"count\", palette = \"ch: 0.25\", data = df,aspect=2)\n",
        "\n"
      ],
      "execution_count": 205,
      "outputs": [
        {
          "output_type": "execute_result",
          "data": {
            "text/plain": [
              "<seaborn.axisgrid.FacetGrid at 0x7f5474539550>"
            ]
          },
          "metadata": {
            "tags": []
          },
          "execution_count": 205
        },
        {
          "output_type": "display_data",
          "data": {
            "image/png": "[encoded data removed]",
            "text/plain": [
              "<Figure size 720x360 with 1 Axes>"
            ]
          },
          "metadata": {
            "tags": [],
            "needs_background": "light"
          }
        }
      ]
    },
    {
      "cell_type": "markdown",
      "metadata": {
        "id": "awt6X27IykmG",
        "colab_type": "text"
      },
      "source": [
        "**Inference :-**\n",
        "\n",
        "*   The above graph is right skewed and the data distribution falls between 2 GB and 32 GB  and very few mobiles have Rams from 16 GB to 128 GB \n",
        "*   The graph clearly shows that most of the mobiles have a RAM of 4GB,almost around 80 mobiles among 315 mobiles have a RAM of 4 GB and very few mobiles have Rams of 1.5,10,16,24,64,42,128 GBs \n",
        "\n"
      ]
    },
    {
      "cell_type": "code",
      "metadata": {
        "id": "mAHd8bKdRKaK",
        "colab_type": "code",
        "colab": {
          "base_uri": "https://localhost:8080/",
          "height": 386
        },
        "outputId": "f28565f3-0b72-473c-9f58-d8c01a0f7ed6"
      },
      "source": [
        "sns.catplot(x=\"Ram\",data=df,kind='box',aspect=2)"
      ],
      "execution_count": 206,
      "outputs": [
        {
          "output_type": "execute_result",
          "data": {
            "text/plain": [
              "<seaborn.axisgrid.FacetGrid at 0x7f547472a898>"
            ]
          },
          "metadata": {
            "tags": []
          },
          "execution_count": 206
        },
        {
          "output_type": "display_data",
          "data": {
            "image/png": "[encoded data removed]",
            "text/plain": [
              "<Figure size 720x360 with 1 Axes>"
            ]
          },
          "metadata": {
            "tags": [],
            "needs_background": "light"
          }
        }
      ]
    },
    {
      "cell_type": "markdown",
      "metadata": {
        "id": "qsWzVEGG_jAj",
        "colab_type": "text"
      },
      "source": [
        "**Inference :-**\n",
        "\n",
        "1.   The Box plot suggests that all Rams more than say 12 GB are outliers\n",
        "2.   The mobile with RAM 512 MB is clearly an extreme outlier\n",
        "\n"
      ]
    },
    {
      "cell_type": "markdown",
      "metadata": {
        "id": "bWeCgQs_BGDR",
        "colab_type": "text"
      },
      "source": [
        "**Univariate Analysis of the feature Camera**"
      ]
    },
    {
      "cell_type": "code",
      "metadata": {
        "id": "WfDL1M4jArHp",
        "colab_type": "code",
        "colab": {
          "base_uri": "https://localhost:8080/",
          "height": 170
        },
        "outputId": "b3a2a513-e128-4972-c595-6f4f49f1e653"
      },
      "source": [
        "df['New_back_camera'].describe()"
      ],
      "execution_count": 207,
      "outputs": [
        {
          "output_type": "execute_result",
          "data": {
            "text/plain": [
              "count    315.000000\n",
              "mean      21.946032\n",
              "std       21.927942\n",
              "min        1.000000\n",
              "25%       12.000000\n",
              "50%       13.000000\n",
              "75%       36.500000\n",
              "max      108.000000\n",
              "Name: New_back_camera, dtype: float64"
            ]
          },
          "metadata": {
            "tags": []
          },
          "execution_count": 207
        }
      ]
    },
    {
      "cell_type": "markdown",
      "metadata": {
        "id": "jy84rRSk8gI3",
        "colab_type": "text"
      },
      "source": [
        "**Inference :-**\n",
        "\n",
        "1.   The mean value of the column 'New_back_camera' is 21.94 MP ,standard deviation is 21.92 MP ,minimum value is 1 MP and maximum value is 108 MP\n",
        "2.   The 25th percentile value is 12 MP,50th percentile is 13 MP,75th percentile is 36.5 MP ,the median value is 13 MP\n",
        "\n",
        "\n",
        "\n",
        "\n"
      ]
    },
    {
      "cell_type": "code",
      "metadata": {
        "id": "nrCzDxK6G7k5",
        "colab_type": "code",
        "colab": {
          "base_uri": "https://localhost:8080/",
          "height": 483
        },
        "outputId": "daa5ac75-daf3-4e1d-def7-430a7dcbc1b4"
      },
      "source": [
        "cam_grp = df.groupby('New_back_camera')\n",
        "cam_grp.count()\n"
      ],
      "execution_count": 208,
      "outputs": [
        {
          "output_type": "execute_result",
          "data": {
            "text/html": [
              "<div>\n",
              "<style scoped>\n",
              "    .dataframe tbody tr th:only-of-type {\n",
              "        vertical-align: middle;\n",
              "    }\n",
              "\n",
              "    .dataframe tbody tr th {\n",
              "        vertical-align: top;\n",
              "    }\n",
              "\n",
              "    .dataframe thead th {\n",
              "        text-align: right;\n",
              "    }\n",
              "</style>\n",
              "<table border=\"1\" class=\"dataframe\">\n",
              "  <thead>\n",
              "    <tr style=\"text-align: right;\">\n",
              "      <th></th>\n",
              "      <th>Ram</th>\n",
              "      <th>battery</th>\n",
              "      <th>Internal_storage</th>\n",
              "      <th>display</th>\n",
              "      <th>rating</th>\n",
              "      <th>price</th>\n",
              "    </tr>\n",
              "    <tr>\n",
              "      <th>New_back_camera</th>\n",
              "      <th></th>\n",
              "      <th></th>\n",
              "      <th></th>\n",
              "      <th></th>\n",
              "      <th></th>\n",
              "      <th></th>\n",
              "    </tr>\n",
              "  </thead>\n",
              "  <tbody>\n",
              "    <tr>\n",
              "      <th>1</th>\n",
              "      <td>46</td>\n",
              "      <td>46</td>\n",
              "      <td>46</td>\n",
              "      <td>46</td>\n",
              "      <td>46</td>\n",
              "      <td>46</td>\n",
              "    </tr>\n",
              "    <tr>\n",
              "      <th>2</th>\n",
              "      <td>7</td>\n",
              "      <td>7</td>\n",
              "      <td>7</td>\n",
              "      <td>7</td>\n",
              "      <td>7</td>\n",
              "      <td>7</td>\n",
              "    </tr>\n",
              "    <tr>\n",
              "      <th>3</th>\n",
              "      <td>2</td>\n",
              "      <td>2</td>\n",
              "      <td>2</td>\n",
              "      <td>2</td>\n",
              "      <td>2</td>\n",
              "      <td>2</td>\n",
              "    </tr>\n",
              "    <tr>\n",
              "      <th>5</th>\n",
              "      <td>2</td>\n",
              "      <td>2</td>\n",
              "      <td>2</td>\n",
              "      <td>2</td>\n",
              "      <td>2</td>\n",
              "      <td>2</td>\n",
              "    </tr>\n",
              "    <tr>\n",
              "      <th>8</th>\n",
              "      <td>11</td>\n",
              "      <td>11</td>\n",
              "      <td>11</td>\n",
              "      <td>11</td>\n",
              "      <td>11</td>\n",
              "      <td>11</td>\n",
              "    </tr>\n",
              "    <tr>\n",
              "      <th>12</th>\n",
              "      <td>40</td>\n",
              "      <td>40</td>\n",
              "      <td>40</td>\n",
              "      <td>40</td>\n",
              "      <td>40</td>\n",
              "      <td>40</td>\n",
              "    </tr>\n",
              "    <tr>\n",
              "      <th>13</th>\n",
              "      <td>84</td>\n",
              "      <td>84</td>\n",
              "      <td>84</td>\n",
              "      <td>84</td>\n",
              "      <td>84</td>\n",
              "      <td>84</td>\n",
              "    </tr>\n",
              "    <tr>\n",
              "      <th>16</th>\n",
              "      <td>38</td>\n",
              "      <td>38</td>\n",
              "      <td>38</td>\n",
              "      <td>38</td>\n",
              "      <td>38</td>\n",
              "      <td>38</td>\n",
              "    </tr>\n",
              "    <tr>\n",
              "      <th>20</th>\n",
              "      <td>1</td>\n",
              "      <td>1</td>\n",
              "      <td>1</td>\n",
              "      <td>1</td>\n",
              "      <td>1</td>\n",
              "      <td>1</td>\n",
              "    </tr>\n",
              "    <tr>\n",
              "      <th>25</th>\n",
              "      <td>5</td>\n",
              "      <td>5</td>\n",
              "      <td>5</td>\n",
              "      <td>5</td>\n",
              "      <td>5</td>\n",
              "      <td>5</td>\n",
              "    </tr>\n",
              "    <tr>\n",
              "      <th>48</th>\n",
              "      <td>56</td>\n",
              "      <td>56</td>\n",
              "      <td>56</td>\n",
              "      <td>56</td>\n",
              "      <td>56</td>\n",
              "      <td>56</td>\n",
              "    </tr>\n",
              "    <tr>\n",
              "      <th>64</th>\n",
              "      <td>17</td>\n",
              "      <td>17</td>\n",
              "      <td>17</td>\n",
              "      <td>17</td>\n",
              "      <td>17</td>\n",
              "      <td>17</td>\n",
              "    </tr>\n",
              "    <tr>\n",
              "      <th>108</th>\n",
              "      <td>6</td>\n",
              "      <td>6</td>\n",
              "      <td>6</td>\n",
              "      <td>6</td>\n",
              "      <td>6</td>\n",
              "      <td>6</td>\n",
              "    </tr>\n",
              "  </tbody>\n",
              "</table>\n",
              "</div>"
            ],
            "text/plain": [
              "                 Ram  battery  Internal_storage  display  rating  price\n",
              "New_back_camera                                                        \n",
              "1                 46       46                46       46      46     46\n",
              "2                  7        7                 7        7       7      7\n",
              "3                  2        2                 2        2       2      2\n",
              "5                  2        2                 2        2       2      2\n",
              "8                 11       11                11       11      11     11\n",
              "12                40       40                40       40      40     40\n",
              "13                84       84                84       84      84     84\n",
              "16                38       38                38       38      38     38\n",
              "20                 1        1                 1        1       1      1\n",
              "25                 5        5                 5        5       5      5\n",
              "48                56       56                56       56      56     56\n",
              "64                17       17                17       17      17     17\n",
              "108                6        6                 6        6       6      6"
            ]
          },
          "metadata": {
            "tags": []
          },
          "execution_count": 208
        }
      ]
    },
    {
      "cell_type": "markdown",
      "metadata": {
        "id": "ankptsl2-CE2",
        "colab_type": "text"
      },
      "source": [
        "**Inference:-**\n",
        "\n",
        "*   Most of the mobiles have Cameras with Mega pixels between 8 MP to 16 MP and there are very less mobiles with Camera between 2,3,5,20 and 108 MP \n",
        "*   Mobiles with cameras of 108 MP are outliers and mobiles with 1 MP camera although in majority, are outliers\n",
        "\n"
      ]
    },
    {
      "cell_type": "code",
      "metadata": {
        "id": "jRWL3jvYHG1B",
        "colab_type": "code",
        "colab": {
          "base_uri": "https://localhost:8080/",
          "height": 386
        },
        "outputId": "b5b2f35b-eb11-49fe-a6e3-f2440a330fa3"
      },
      "source": [
        "sns.catplot(x = \"New_back_camera\", kind = \"count\", palette = \"ch: 0.25\", data = df,aspect=2)\n",
        "\n"
      ],
      "execution_count": 209,
      "outputs": [
        {
          "output_type": "execute_result",
          "data": {
            "text/plain": [
              "<seaborn.axisgrid.FacetGrid at 0x7f54744c3668>"
            ]
          },
          "metadata": {
            "tags": []
          },
          "execution_count": 209
        },
        {
          "output_type": "display_data",
          "data": {
            "image/png": "[encoded data removed]",
            "text/plain": [
              "<Figure size 720x360 with 1 Axes>"
            ]
          },
          "metadata": {
            "tags": [],
            "needs_background": "light"
          }
        }
      ]
    },
    {
      "cell_type": "markdown",
      "metadata": {
        "id": "YxnSs1I9Bv_h",
        "colab_type": "text"
      },
      "source": [
        "**Inference :-**\n",
        "\n",
        "1.   The above graph suggests that the major data distribution is between 8 MP to 64 MP ,which means most of the mobiles have camera with mega pixel between 8 MP to 64 MP\n",
        "2.   Mobiles with camera 1 MP and 108 MP are outliers as per the above graph\n",
        "\n"
      ]
    },
    {
      "cell_type": "code",
      "metadata": {
        "id": "l3dzoACQILs1",
        "colab_type": "code",
        "colab": {
          "base_uri": "https://localhost:8080/",
          "height": 386
        },
        "outputId": "682b0bdf-8de1-4cf5-c199-9f21176ac762"
      },
      "source": [
        "sns.catplot(x=\"New_back_camera\",data=df,kind='box',aspect=2)"
      ],
      "execution_count": 210,
      "outputs": [
        {
          "output_type": "execute_result",
          "data": {
            "text/plain": [
              "<seaborn.axisgrid.FacetGrid at 0x7f54744ec550>"
            ]
          },
          "metadata": {
            "tags": []
          },
          "execution_count": 210
        },
        {
          "output_type": "display_data",
          "data": {
            "image/png": "[encoded data removed]",
            "text/plain": [
              "<Figure size 720x360 with 1 Axes>"
            ]
          },
          "metadata": {
            "tags": [],
            "needs_background": "light"
          }
        }
      ]
    },
    {
      "cell_type": "markdown",
      "metadata": {
        "id": "6EujC6vGE_ZZ",
        "colab_type": "text"
      },
      "source": [
        "**Inference :-**\n",
        "\n",
        "1.   The above Box plot clearly says that mobiles with camera 108 MP is an outlier and the upper quartile is around 64 MP and lower quartile is around 1 MP\n",
        "\n",
        "\n"
      ]
    },
    {
      "cell_type": "markdown",
      "metadata": {
        "id": "lG8Tr8oPF1tl",
        "colab_type": "text"
      },
      "source": [
        "**Univariate Analysis of the feature Battery**"
      ]
    },
    {
      "cell_type": "code",
      "metadata": {
        "id": "Af-IcR6LInBQ",
        "colab_type": "code",
        "colab": {
          "base_uri": "https://localhost:8080/",
          "height": 170
        },
        "outputId": "2e8162c0-905b-4d30-e9bd-2fc122f617af"
      },
      "source": [
        "df['battery'].describe()"
      ],
      "execution_count": 211,
      "outputs": [
        {
          "output_type": "execute_result",
          "data": {
            "text/plain": [
              "count     315.000000\n",
              "mean     3443.380952\n",
              "std      1209.793863\n",
              "min      1000.000000\n",
              "25%      3000.000000\n",
              "50%      4000.000000\n",
              "75%      4230.000000\n",
              "max      6000.000000\n",
              "Name: battery, dtype: float64"
            ]
          },
          "metadata": {
            "tags": []
          },
          "execution_count": 211
        }
      ]
    },
    {
      "cell_type": "markdown",
      "metadata": {
        "id": "ubd2mFQ2GZRx",
        "colab_type": "text"
      },
      "source": [
        "Inference :-\n",
        "\n",
        "1.   The mean value of the column 'Battery' is 3443.38 mAh ,standard deviation is 1209.79 mAh ,the mobile with the least battery has 1000 mAh and the one with highest battery has 6000 mAh \n",
        "2.   The 25th percentile value is 3000 mAh,50th percentile is 4000 mAh,75th percentile is 4230 mAh ,the median value is 4000 mAh\n",
        "\n"
      ]
    },
    {
      "cell_type": "code",
      "metadata": {
        "id": "eGWKuLCgI2Q-",
        "colab_type": "code",
        "colab": {
          "base_uri": "https://localhost:8080/",
          "height": 1000
        },
        "outputId": "10514882-aadb-45b8-9f48-176f093216e9"
      },
      "source": [
        "bat_grp = df.groupby('battery')\n",
        "bat_grp.count()"
      ],
      "execution_count": 212,
      "outputs": [
        {
          "output_type": "execute_result",
          "data": {
            "text/html": [
              "<div>\n",
              "<style scoped>\n",
              "    .dataframe tbody tr th:only-of-type {\n",
              "        vertical-align: middle;\n",
              "    }\n",
              "\n",
              "    .dataframe tbody tr th {\n",
              "        vertical-align: top;\n",
              "    }\n",
              "\n",
              "    .dataframe thead th {\n",
              "        text-align: right;\n",
              "    }\n",
              "</style>\n",
              "<table border=\"1\" class=\"dataframe\">\n",
              "  <thead>\n",
              "    <tr style=\"text-align: right;\">\n",
              "      <th></th>\n",
              "      <th>Ram</th>\n",
              "      <th>New_back_camera</th>\n",
              "      <th>Internal_storage</th>\n",
              "      <th>display</th>\n",
              "      <th>rating</th>\n",
              "      <th>price</th>\n",
              "    </tr>\n",
              "    <tr>\n",
              "      <th>battery</th>\n",
              "      <th></th>\n",
              "      <th></th>\n",
              "      <th></th>\n",
              "      <th></th>\n",
              "      <th></th>\n",
              "      <th></th>\n",
              "    </tr>\n",
              "  </thead>\n",
              "  <tbody>\n",
              "    <tr>\n",
              "      <th>1000</th>\n",
              "      <td>14</td>\n",
              "      <td>14</td>\n",
              "      <td>14</td>\n",
              "      <td>14</td>\n",
              "      <td>14</td>\n",
              "      <td>14</td>\n",
              "    </tr>\n",
              "    <tr>\n",
              "      <th>1050</th>\n",
              "      <td>20</td>\n",
              "      <td>20</td>\n",
              "      <td>20</td>\n",
              "      <td>20</td>\n",
              "      <td>20</td>\n",
              "      <td>20</td>\n",
              "    </tr>\n",
              "    <tr>\n",
              "      <th>1100</th>\n",
              "      <td>1</td>\n",
              "      <td>1</td>\n",
              "      <td>1</td>\n",
              "      <td>1</td>\n",
              "      <td>1</td>\n",
              "      <td>1</td>\n",
              "    </tr>\n",
              "    <tr>\n",
              "      <th>1200</th>\n",
              "      <td>5</td>\n",
              "      <td>5</td>\n",
              "      <td>5</td>\n",
              "      <td>5</td>\n",
              "      <td>5</td>\n",
              "      <td>5</td>\n",
              "    </tr>\n",
              "    <tr>\n",
              "      <th>1400</th>\n",
              "      <td>1</td>\n",
              "      <td>1</td>\n",
              "      <td>1</td>\n",
              "      <td>1</td>\n",
              "      <td>1</td>\n",
              "      <td>1</td>\n",
              "    </tr>\n",
              "    <tr>\n",
              "      <th>1450</th>\n",
              "      <td>2</td>\n",
              "      <td>2</td>\n",
              "      <td>2</td>\n",
              "      <td>2</td>\n",
              "      <td>2</td>\n",
              "      <td>2</td>\n",
              "    </tr>\n",
              "    <tr>\n",
              "      <th>1500</th>\n",
              "      <td>2</td>\n",
              "      <td>2</td>\n",
              "      <td>2</td>\n",
              "      <td>2</td>\n",
              "      <td>2</td>\n",
              "      <td>2</td>\n",
              "    </tr>\n",
              "    <tr>\n",
              "      <th>1750</th>\n",
              "      <td>3</td>\n",
              "      <td>3</td>\n",
              "      <td>3</td>\n",
              "      <td>3</td>\n",
              "      <td>3</td>\n",
              "      <td>3</td>\n",
              "    </tr>\n",
              "    <tr>\n",
              "      <th>1800</th>\n",
              "      <td>2</td>\n",
              "      <td>2</td>\n",
              "      <td>2</td>\n",
              "      <td>2</td>\n",
              "      <td>2</td>\n",
              "      <td>2</td>\n",
              "    </tr>\n",
              "    <tr>\n",
              "      <th>1900</th>\n",
              "      <td>1</td>\n",
              "      <td>1</td>\n",
              "      <td>1</td>\n",
              "      <td>1</td>\n",
              "      <td>1</td>\n",
              "      <td>1</td>\n",
              "    </tr>\n",
              "    <tr>\n",
              "      <th>2000</th>\n",
              "      <td>1</td>\n",
              "      <td>1</td>\n",
              "      <td>1</td>\n",
              "      <td>1</td>\n",
              "      <td>1</td>\n",
              "      <td>1</td>\n",
              "    </tr>\n",
              "    <tr>\n",
              "      <th>2100</th>\n",
              "      <td>1</td>\n",
              "      <td>1</td>\n",
              "      <td>1</td>\n",
              "      <td>1</td>\n",
              "      <td>1</td>\n",
              "      <td>1</td>\n",
              "    </tr>\n",
              "    <tr>\n",
              "      <th>2200</th>\n",
              "      <td>1</td>\n",
              "      <td>1</td>\n",
              "      <td>1</td>\n",
              "      <td>1</td>\n",
              "      <td>1</td>\n",
              "      <td>1</td>\n",
              "    </tr>\n",
              "    <tr>\n",
              "      <th>2400</th>\n",
              "      <td>2</td>\n",
              "      <td>2</td>\n",
              "      <td>2</td>\n",
              "      <td>2</td>\n",
              "      <td>2</td>\n",
              "      <td>2</td>\n",
              "    </tr>\n",
              "    <tr>\n",
              "      <th>2500</th>\n",
              "      <td>6</td>\n",
              "      <td>6</td>\n",
              "      <td>6</td>\n",
              "      <td>6</td>\n",
              "      <td>6</td>\n",
              "      <td>6</td>\n",
              "    </tr>\n",
              "    <tr>\n",
              "      <th>2510</th>\n",
              "      <td>1</td>\n",
              "      <td>1</td>\n",
              "      <td>1</td>\n",
              "      <td>1</td>\n",
              "      <td>1</td>\n",
              "      <td>1</td>\n",
              "    </tr>\n",
              "    <tr>\n",
              "      <th>2540</th>\n",
              "      <td>2</td>\n",
              "      <td>2</td>\n",
              "      <td>2</td>\n",
              "      <td>2</td>\n",
              "      <td>2</td>\n",
              "      <td>2</td>\n",
              "    </tr>\n",
              "    <tr>\n",
              "      <th>2600</th>\n",
              "      <td>2</td>\n",
              "      <td>2</td>\n",
              "      <td>2</td>\n",
              "      <td>2</td>\n",
              "      <td>2</td>\n",
              "      <td>2</td>\n",
              "    </tr>\n",
              "    <tr>\n",
              "      <th>2700</th>\n",
              "      <td>3</td>\n",
              "      <td>3</td>\n",
              "      <td>3</td>\n",
              "      <td>3</td>\n",
              "      <td>3</td>\n",
              "      <td>3</td>\n",
              "    </tr>\n",
              "    <tr>\n",
              "      <th>2800</th>\n",
              "      <td>1</td>\n",
              "      <td>1</td>\n",
              "      <td>1</td>\n",
              "      <td>1</td>\n",
              "      <td>1</td>\n",
              "      <td>1</td>\n",
              "    </tr>\n",
              "    <tr>\n",
              "      <th>2900</th>\n",
              "      <td>1</td>\n",
              "      <td>1</td>\n",
              "      <td>1</td>\n",
              "      <td>1</td>\n",
              "      <td>1</td>\n",
              "      <td>1</td>\n",
              "    </tr>\n",
              "    <tr>\n",
              "      <th>2970</th>\n",
              "      <td>1</td>\n",
              "      <td>1</td>\n",
              "      <td>1</td>\n",
              "      <td>1</td>\n",
              "      <td>1</td>\n",
              "      <td>1</td>\n",
              "    </tr>\n",
              "    <tr>\n",
              "      <th>3000</th>\n",
              "      <td>27</td>\n",
              "      <td>27</td>\n",
              "      <td>27</td>\n",
              "      <td>27</td>\n",
              "      <td>27</td>\n",
              "      <td>27</td>\n",
              "    </tr>\n",
              "    <tr>\n",
              "      <th>3010</th>\n",
              "      <td>1</td>\n",
              "      <td>1</td>\n",
              "      <td>1</td>\n",
              "      <td>1</td>\n",
              "      <td>1</td>\n",
              "      <td>1</td>\n",
              "    </tr>\n",
              "    <tr>\n",
              "      <th>3050</th>\n",
              "      <td>1</td>\n",
              "      <td>1</td>\n",
              "      <td>1</td>\n",
              "      <td>1</td>\n",
              "      <td>1</td>\n",
              "      <td>1</td>\n",
              "    </tr>\n",
              "    <tr>\n",
              "      <th>3055</th>\n",
              "      <td>1</td>\n",
              "      <td>1</td>\n",
              "      <td>1</td>\n",
              "      <td>1</td>\n",
              "      <td>1</td>\n",
              "      <td>1</td>\n",
              "    </tr>\n",
              "    <tr>\n",
              "      <th>3060</th>\n",
              "      <td>1</td>\n",
              "      <td>1</td>\n",
              "      <td>1</td>\n",
              "      <td>1</td>\n",
              "      <td>1</td>\n",
              "      <td>1</td>\n",
              "    </tr>\n",
              "    <tr>\n",
              "      <th>3080</th>\n",
              "      <td>1</td>\n",
              "      <td>1</td>\n",
              "      <td>1</td>\n",
              "      <td>1</td>\n",
              "      <td>1</td>\n",
              "      <td>1</td>\n",
              "    </tr>\n",
              "    <tr>\n",
              "      <th>3100</th>\n",
              "      <td>3</td>\n",
              "      <td>3</td>\n",
              "      <td>3</td>\n",
              "      <td>3</td>\n",
              "      <td>3</td>\n",
              "      <td>3</td>\n",
              "    </tr>\n",
              "    <tr>\n",
              "      <th>3180</th>\n",
              "      <td>3</td>\n",
              "      <td>3</td>\n",
              "      <td>3</td>\n",
              "      <td>3</td>\n",
              "      <td>3</td>\n",
              "      <td>3</td>\n",
              "    </tr>\n",
              "    <tr>\n",
              "      <th>3200</th>\n",
              "      <td>4</td>\n",
              "      <td>4</td>\n",
              "      <td>4</td>\n",
              "      <td>4</td>\n",
              "      <td>4</td>\n",
              "      <td>4</td>\n",
              "    </tr>\n",
              "    <tr>\n",
              "      <th>3260</th>\n",
              "      <td>3</td>\n",
              "      <td>3</td>\n",
              "      <td>3</td>\n",
              "      <td>3</td>\n",
              "      <td>3</td>\n",
              "      <td>3</td>\n",
              "    </tr>\n",
              "    <tr>\n",
              "      <th>3300</th>\n",
              "      <td>1</td>\n",
              "      <td>1</td>\n",
              "      <td>1</td>\n",
              "      <td>1</td>\n",
              "      <td>1</td>\n",
              "      <td>1</td>\n",
              "    </tr>\n",
              "    <tr>\n",
              "      <th>3315</th>\n",
              "      <td>2</td>\n",
              "      <td>2</td>\n",
              "      <td>2</td>\n",
              "      <td>2</td>\n",
              "      <td>2</td>\n",
              "      <td>2</td>\n",
              "    </tr>\n",
              "    <tr>\n",
              "      <th>3340</th>\n",
              "      <td>1</td>\n",
              "      <td>1</td>\n",
              "      <td>1</td>\n",
              "      <td>1</td>\n",
              "      <td>1</td>\n",
              "      <td>1</td>\n",
              "    </tr>\n",
              "    <tr>\n",
              "      <th>3400</th>\n",
              "      <td>1</td>\n",
              "      <td>1</td>\n",
              "      <td>1</td>\n",
              "      <td>1</td>\n",
              "      <td>1</td>\n",
              "      <td>1</td>\n",
              "    </tr>\n",
              "    <tr>\n",
              "      <th>3500</th>\n",
              "      <td>15</td>\n",
              "      <td>15</td>\n",
              "      <td>15</td>\n",
              "      <td>15</td>\n",
              "      <td>15</td>\n",
              "      <td>15</td>\n",
              "    </tr>\n",
              "    <tr>\n",
              "      <th>3600</th>\n",
              "      <td>2</td>\n",
              "      <td>2</td>\n",
              "      <td>2</td>\n",
              "      <td>2</td>\n",
              "      <td>2</td>\n",
              "      <td>2</td>\n",
              "    </tr>\n",
              "    <tr>\n",
              "      <th>3700</th>\n",
              "      <td>7</td>\n",
              "      <td>7</td>\n",
              "      <td>7</td>\n",
              "      <td>7</td>\n",
              "      <td>7</td>\n",
              "      <td>7</td>\n",
              "    </tr>\n",
              "    <tr>\n",
              "      <th>3730</th>\n",
              "      <td>1</td>\n",
              "      <td>1</td>\n",
              "      <td>1</td>\n",
              "      <td>1</td>\n",
              "      <td>1</td>\n",
              "      <td>1</td>\n",
              "    </tr>\n",
              "    <tr>\n",
              "      <th>3750</th>\n",
              "      <td>4</td>\n",
              "      <td>4</td>\n",
              "      <td>4</td>\n",
              "      <td>4</td>\n",
              "      <td>4</td>\n",
              "      <td>4</td>\n",
              "    </tr>\n",
              "    <tr>\n",
              "      <th>3765</th>\n",
              "      <td>1</td>\n",
              "      <td>1</td>\n",
              "      <td>1</td>\n",
              "      <td>1</td>\n",
              "      <td>1</td>\n",
              "      <td>1</td>\n",
              "    </tr>\n",
              "    <tr>\n",
              "      <th>4000</th>\n",
              "      <td>65</td>\n",
              "      <td>65</td>\n",
              "      <td>65</td>\n",
              "      <td>65</td>\n",
              "      <td>65</td>\n",
              "      <td>65</td>\n",
              "    </tr>\n",
              "    <tr>\n",
              "      <th>4010</th>\n",
              "      <td>2</td>\n",
              "      <td>2</td>\n",
              "      <td>2</td>\n",
              "      <td>2</td>\n",
              "      <td>2</td>\n",
              "      <td>2</td>\n",
              "    </tr>\n",
              "    <tr>\n",
              "      <th>4030</th>\n",
              "      <td>7</td>\n",
              "      <td>7</td>\n",
              "      <td>7</td>\n",
              "      <td>7</td>\n",
              "      <td>7</td>\n",
              "      <td>7</td>\n",
              "    </tr>\n",
              "    <tr>\n",
              "      <th>4045</th>\n",
              "      <td>2</td>\n",
              "      <td>2</td>\n",
              "      <td>2</td>\n",
              "      <td>2</td>\n",
              "      <td>2</td>\n",
              "      <td>2</td>\n",
              "    </tr>\n",
              "    <tr>\n",
              "      <th>4050</th>\n",
              "      <td>1</td>\n",
              "      <td>1</td>\n",
              "      <td>1</td>\n",
              "      <td>1</td>\n",
              "      <td>1</td>\n",
              "      <td>1</td>\n",
              "    </tr>\n",
              "    <tr>\n",
              "      <th>4085</th>\n",
              "      <td>1</td>\n",
              "      <td>1</td>\n",
              "      <td>1</td>\n",
              "      <td>1</td>\n",
              "      <td>1</td>\n",
              "      <td>1</td>\n",
              "    </tr>\n",
              "    <tr>\n",
              "      <th>4100</th>\n",
              "      <td>2</td>\n",
              "      <td>2</td>\n",
              "      <td>2</td>\n",
              "      <td>2</td>\n",
              "      <td>2</td>\n",
              "      <td>2</td>\n",
              "    </tr>\n",
              "    <tr>\n",
              "      <th>4230</th>\n",
              "      <td>15</td>\n",
              "      <td>15</td>\n",
              "      <td>15</td>\n",
              "      <td>15</td>\n",
              "      <td>15</td>\n",
              "      <td>15</td>\n",
              "    </tr>\n",
              "    <tr>\n",
              "      <th>4300</th>\n",
              "      <td>2</td>\n",
              "      <td>2</td>\n",
              "      <td>2</td>\n",
              "      <td>2</td>\n",
              "      <td>2</td>\n",
              "      <td>2</td>\n",
              "    </tr>\n",
              "    <tr>\n",
              "      <th>4440</th>\n",
              "      <td>3</td>\n",
              "      <td>3</td>\n",
              "      <td>3</td>\n",
              "      <td>3</td>\n",
              "      <td>3</td>\n",
              "      <td>3</td>\n",
              "    </tr>\n",
              "    <tr>\n",
              "      <th>4500</th>\n",
              "      <td>21</td>\n",
              "      <td>21</td>\n",
              "      <td>21</td>\n",
              "      <td>21</td>\n",
              "      <td>21</td>\n",
              "      <td>21</td>\n",
              "    </tr>\n",
              "    <tr>\n",
              "      <th>4780</th>\n",
              "      <td>4</td>\n",
              "      <td>4</td>\n",
              "      <td>4</td>\n",
              "      <td>4</td>\n",
              "      <td>4</td>\n",
              "      <td>4</td>\n",
              "    </tr>\n",
              "    <tr>\n",
              "      <th>4850</th>\n",
              "      <td>1</td>\n",
              "      <td>1</td>\n",
              "      <td>1</td>\n",
              "      <td>1</td>\n",
              "      <td>1</td>\n",
              "      <td>1</td>\n",
              "    </tr>\n",
              "    <tr>\n",
              "      <th>4900</th>\n",
              "      <td>1</td>\n",
              "      <td>1</td>\n",
              "      <td>1</td>\n",
              "      <td>1</td>\n",
              "      <td>1</td>\n",
              "      <td>1</td>\n",
              "    </tr>\n",
              "    <tr>\n",
              "      <th>5000</th>\n",
              "      <td>32</td>\n",
              "      <td>32</td>\n",
              "      <td>32</td>\n",
              "      <td>32</td>\n",
              "      <td>32</td>\n",
              "      <td>32</td>\n",
              "    </tr>\n",
              "    <tr>\n",
              "      <th>5020</th>\n",
              "      <td>1</td>\n",
              "      <td>1</td>\n",
              "      <td>1</td>\n",
              "      <td>1</td>\n",
              "      <td>1</td>\n",
              "      <td>1</td>\n",
              "    </tr>\n",
              "    <tr>\n",
              "      <th>6000</th>\n",
              "      <td>2</td>\n",
              "      <td>2</td>\n",
              "      <td>2</td>\n",
              "      <td>2</td>\n",
              "      <td>2</td>\n",
              "      <td>2</td>\n",
              "    </tr>\n",
              "  </tbody>\n",
              "</table>\n",
              "</div>"
            ],
            "text/plain": [
              "         Ram  New_back_camera  Internal_storage  display  rating  price\n",
              "battery                                                                \n",
              "1000      14               14                14       14      14     14\n",
              "1050      20               20                20       20      20     20\n",
              "1100       1                1                 1        1       1      1\n",
              "1200       5                5                 5        5       5      5\n",
              "1400       1                1                 1        1       1      1\n",
              "1450       2                2                 2        2       2      2\n",
              "1500       2                2                 2        2       2      2\n",
              "1750       3                3                 3        3       3      3\n",
              "1800       2                2                 2        2       2      2\n",
              "1900       1                1                 1        1       1      1\n",
              "2000       1                1                 1        1       1      1\n",
              "2100       1                1                 1        1       1      1\n",
              "2200       1                1                 1        1       1      1\n",
              "2400       2                2                 2        2       2      2\n",
              "2500       6                6                 6        6       6      6\n",
              "2510       1                1                 1        1       1      1\n",
              "2540       2                2                 2        2       2      2\n",
              "2600       2                2                 2        2       2      2\n",
              "2700       3                3                 3        3       3      3\n",
              "2800       1                1                 1        1       1      1\n",
              "2900       1                1                 1        1       1      1\n",
              "2970       1                1                 1        1       1      1\n",
              "3000      27               27                27       27      27     27\n",
              "3010       1                1                 1        1       1      1\n",
              "3050       1                1                 1        1       1      1\n",
              "3055       1                1                 1        1       1      1\n",
              "3060       1                1                 1        1       1      1\n",
              "3080       1                1                 1        1       1      1\n",
              "3100       3                3                 3        3       3      3\n",
              "3180       3                3                 3        3       3      3\n",
              "3200       4                4                 4        4       4      4\n",
              "3260       3                3                 3        3       3      3\n",
              "3300       1                1                 1        1       1      1\n",
              "3315       2                2                 2        2       2      2\n",
              "3340       1                1                 1        1       1      1\n",
              "3400       1                1                 1        1       1      1\n",
              "3500      15               15                15       15      15     15\n",
              "3600       2                2                 2        2       2      2\n",
              "3700       7                7                 7        7       7      7\n",
              "3730       1                1                 1        1       1      1\n",
              "3750       4                4                 4        4       4      4\n",
              "3765       1                1                 1        1       1      1\n",
              "4000      65               65                65       65      65     65\n",
              "4010       2                2                 2        2       2      2\n",
              "4030       7                7                 7        7       7      7\n",
              "4045       2                2                 2        2       2      2\n",
              "4050       1                1                 1        1       1      1\n",
              "4085       1                1                 1        1       1      1\n",
              "4100       2                2                 2        2       2      2\n",
              "4230      15               15                15       15      15     15\n",
              "4300       2                2                 2        2       2      2\n",
              "4440       3                3                 3        3       3      3\n",
              "4500      21               21                21       21      21     21\n",
              "4780       4                4                 4        4       4      4\n",
              "4850       1                1                 1        1       1      1\n",
              "4900       1                1                 1        1       1      1\n",
              "5000      32               32                32       32      32     32\n",
              "5020       1                1                 1        1       1      1\n",
              "6000       2                2                 2        2       2      2"
            ]
          },
          "metadata": {
            "tags": []
          },
          "execution_count": 212
        }
      ]
    },
    {
      "cell_type": "code",
      "metadata": {
        "id": "VTStMPOQJFVt",
        "colab_type": "code",
        "colab": {
          "base_uri": "https://localhost:8080/",
          "height": 204
        },
        "outputId": "08016657-762e-441f-d121-d5507f694c42"
      },
      "source": [
        "bat = pd.cut(df['battery'], bins=10)\n",
        "bat.value_counts()"
      ],
      "execution_count": 213,
      "outputs": [
        {
          "output_type": "execute_result",
          "data": {
            "text/plain": [
              "(3500.0, 4000.0]    80\n",
              "(4000.0, 4500.0]    56\n",
              "(995.0, 1500.0]     45\n",
              "(4500.0, 5000.0]    38\n",
              "(3000.0, 3500.0]    38\n",
              "(2500.0, 3000.0]    38\n",
              "(2000.0, 2500.0]    10\n",
              "(1500.0, 2000.0]     7\n",
              "(5500.0, 6000.0]     2\n",
              "(5000.0, 5500.0]     1\n",
              "Name: battery, dtype: int64"
            ]
          },
          "metadata": {
            "tags": []
          },
          "execution_count": 213
        }
      ]
    },
    {
      "cell_type": "code",
      "metadata": {
        "id": "PMmKN4POJi3t",
        "colab_type": "code",
        "colab": {
          "base_uri": "https://localhost:8080/",
          "height": 820
        },
        "outputId": "8e0d7475-1795-415e-f1d9-89fd2a1a766f"
      },
      "source": [
        "bat1 = [\"(3500.0, 4000.0)\",\"(4000.0, 4500.0)\",\"(995.0, 1500.0)\",\"(4500.0, 5000.0)\",\"(3000.0, 3500.0]\",\"(2500.0, 3000.0]\",\"(2000.0, 2500.0]\",\"(1500.0, 2000.0] \",\"(5500.0, 6000.0]\",\"(5000.0, 5500.0]\"]\n",
        "bat2 = [80,56,45,38,38,38,10,7,2,1]\n",
        "plt.pie(bat2, labels= bat1, autopct= '%0.0f%%',radius= 1.5)"
      ],
      "execution_count": 214,
      "outputs": [
        {
          "output_type": "execute_result",
          "data": {
            "text/plain": [
              "([<matplotlib.patches.Wedge at 0x7f54742e7080>,\n",
              "  <matplotlib.patches.Wedge at 0x7f54742e77b8>,\n",
              "  <matplotlib.patches.Wedge at 0x7f54742e7e80>,\n",
              "  <matplotlib.patches.Wedge at 0x7f54742f1588>,\n",
              "  <matplotlib.patches.Wedge at 0x7f54742f1c50>,\n",
              "  <matplotlib.patches.Wedge at 0x7f54742ff358>,\n",
              "  <matplotlib.patches.Wedge at 0x7f54742ffa20>,\n",
              "  <matplotlib.patches.Wedge at 0x7f547430c128>,\n",
              "  <matplotlib.patches.Wedge at 0x7f547430c7f0>,\n",
              "  <matplotlib.patches.Wedge at 0x7f547430ceb8>],\n",
              " [Text(1.1520906954246775, 1.1811803543557113, '(3500.0, 4000.0)'),\n",
              "  Text(-0.9089801649008037, 1.3770457725932381, '(4000.0, 4500.0)'),\n",
              "  Text(-1.6496717654886262, -0.03290997036825478, '(995.0, 1500.0)'),\n",
              "  Text(-1.0917814339299112, -1.237139159725351, '(4500.0, 5000.0)'),\n",
              "  Text(0.05758443631080847, -1.6489948552663125, '(3000.0, 3500.0]'),\n",
              "  Text(1.1754207491825737, -1.1579663476936959, '(2500.0, 3000.0]'),\n",
              "  Text(1.5766952122148221, -0.48634576977584315, '(2000.0, 2500.0]'),\n",
              "  Text(1.6361512795757134, -0.21332836272459385, '(1500.0, 2000.0] '),\n",
              "  Text(1.6486872226782372, -0.06580609225232287, '(5500.0, 6000.0]'),\n",
              "  Text(1.6499179434360438, -0.016455392057798533, '(5000.0, 5500.0]')],\n",
              " [Text(0.6284131065952785, 0.6442801932849332, '25%'),\n",
              "  Text(-0.4958073626731656, 0.751115875959948, '18%'),\n",
              "  Text(-0.899820962993796, -0.017950892928138965, '14%'),\n",
              "  Text(-0.5955171457799514, -0.6748031780320095, '12%'),\n",
              "  Text(0.031409692533168256, -0.8994517392361703, '12%'),\n",
              "  Text(0.641138590463222, -0.6316180078329249, '12%'),\n",
              "  Text(0.8600155702989938, -0.2652795107868235, '3%'),\n",
              "  Text(0.8924461524958436, -0.11636092512250572, '2%'),\n",
              "  Text(0.8992839396426747, -0.03589423213763065, '1%'),\n",
              "  Text(0.8999552418742056, -0.008975668395162834, '0%')])"
            ]
          },
          "metadata": {
            "tags": []
          },
          "execution_count": 214
        },
        {
          "output_type": "display_data",
          "data": {
            "image/png": "[encoded data removed]",
            "text/plain": [
              "<Figure size 432x288 with 1 Axes>"
            ]
          },
          "metadata": {
            "tags": []
          }
        }
      ]
    },
    {
      "cell_type": "code",
      "metadata": {
        "id": "orMcd8zQLhCE",
        "colab_type": "code",
        "colab": {
          "base_uri": "https://localhost:8080/",
          "height": 297
        },
        "outputId": "78973f53-efe8-4ad9-f342-c798d8b219c5"
      },
      "source": [
        "sns.distplot(df.battery,bins=6)"
      ],
      "execution_count": 215,
      "outputs": [
        {
          "output_type": "execute_result",
          "data": {
            "text/plain": [
              "<matplotlib.axes._subplots.AxesSubplot at 0x7f5474334048>"
            ]
          },
          "metadata": {
            "tags": []
          },
          "execution_count": 215
        },
        {
          "output_type": "display_data",
          "data": {
            "image/png": "[encoded data removed]",
            "text/plain": [
              "<Figure size 432x288 with 1 Axes>"
            ]
          },
          "metadata": {
            "tags": [],
            "needs_background": "light"
          }
        }
      ]
    },
    {
      "cell_type": "markdown",
      "metadata": {
        "id": "80T0OCpRLpAR",
        "colab_type": "text"
      },
      "source": [
        "**Inference :-**\n",
        "\n",
        "1.   The above distribution plot shows that the major data distribution is between 3000 mAh and 5000 mAh and most of the mobiles have a battery of around 4000 mAh\n",
        "2.   Very few mobiles have a battery more than 5500 mAh and could be outliers in the data set\n",
        "\n"
      ]
    },
    {
      "cell_type": "code",
      "metadata": {
        "id": "pUzOkIDQL-F-",
        "colab_type": "code",
        "colab": {
          "base_uri": "https://localhost:8080/",
          "height": 386
        },
        "outputId": "67bcbe78-e858-4917-9df9-e40b68409afe"
      },
      "source": [
        "sns.catplot(x=\"battery\",data=df,kind='box',aspect=2)"
      ],
      "execution_count": 216,
      "outputs": [
        {
          "output_type": "execute_result",
          "data": {
            "text/plain": [
              "<seaborn.axisgrid.FacetGrid at 0x7f547425c828>"
            ]
          },
          "metadata": {
            "tags": []
          },
          "execution_count": 216
        },
        {
          "output_type": "display_data",
          "data": {
            "image/png": "[encoded data removed]",
            "text/plain": [
              "<Figure size 720x360 with 1 Axes>"
            ]
          },
          "metadata": {
            "tags": [],
            "needs_background": "light"
          }
        }
      ]
    },
    {
      "cell_type": "markdown",
      "metadata": {
        "id": "uB49kH9mM7bM",
        "colab_type": "text"
      },
      "source": [
        "**Inference :-**\n",
        "\n",
        "1.   The box plot clearly shows that the batteries around 1000 mAh are outliers\n",
        "\n"
      ]
    },
    {
      "cell_type": "code",
      "metadata": {
        "id": "vOSM09GWPoGv",
        "colab_type": "code",
        "colab": {
          "base_uri": "https://localhost:8080/",
          "height": 170
        },
        "outputId": "2139ae87-807b-47a6-d4ee-55ac9d621fe4"
      },
      "source": [
        "df['Internal_storage'].describe()"
      ],
      "execution_count": 217,
      "outputs": [
        {
          "output_type": "execute_result",
          "data": {
            "text/plain": [
              "count    315.000000\n",
              "mean      87.092063\n",
              "std       83.700450\n",
              "min        1.000000\n",
              "25%       32.000000\n",
              "50%       64.000000\n",
              "75%      128.000000\n",
              "max      512.000000\n",
              "Name: Internal_storage, dtype: float64"
            ]
          },
          "metadata": {
            "tags": []
          },
          "execution_count": 217
        }
      ]
    },
    {
      "cell_type": "markdown",
      "metadata": {
        "id": "-pWMBJqHQuVh",
        "colab_type": "text"
      },
      "source": [
        "**Inference :-**\n",
        "1.   The mean value of the column 'Internal storage' is 87 GB ,standard deviation is 83.7 GB ,minimum value is 1 GB and maximum value is 512 GB \n",
        "2.   The 25th percentile value is 32 GB,50th percentile is 64 GB,75th percentile is 128 GB ,the median value is 64 GB\n",
        "\n"
      ]
    },
    {
      "cell_type": "code",
      "metadata": {
        "id": "I2Q-s0KUP2l7",
        "colab_type": "code",
        "colab": {
          "base_uri": "https://localhost:8080/",
          "height": 452
        },
        "outputId": "4b7911af-40b8-43ec-84f7-cf99ba2e6144"
      },
      "source": [
        "store_grp = df.groupby('Internal_storage')\n",
        "store_grp.count()"
      ],
      "execution_count": 218,
      "outputs": [
        {
          "output_type": "execute_result",
          "data": {
            "text/html": [
              "<div>\n",
              "<style scoped>\n",
              "    .dataframe tbody tr th:only-of-type {\n",
              "        vertical-align: middle;\n",
              "    }\n",
              "\n",
              "    .dataframe tbody tr th {\n",
              "        vertical-align: top;\n",
              "    }\n",
              "\n",
              "    .dataframe thead th {\n",
              "        text-align: right;\n",
              "    }\n",
              "</style>\n",
              "<table border=\"1\" class=\"dataframe\">\n",
              "  <thead>\n",
              "    <tr style=\"text-align: right;\">\n",
              "      <th></th>\n",
              "      <th>Ram</th>\n",
              "      <th>New_back_camera</th>\n",
              "      <th>battery</th>\n",
              "      <th>display</th>\n",
              "      <th>rating</th>\n",
              "      <th>price</th>\n",
              "    </tr>\n",
              "    <tr>\n",
              "      <th>Internal_storage</th>\n",
              "      <th></th>\n",
              "      <th></th>\n",
              "      <th></th>\n",
              "      <th></th>\n",
              "      <th></th>\n",
              "      <th></th>\n",
              "    </tr>\n",
              "  </thead>\n",
              "  <tbody>\n",
              "    <tr>\n",
              "      <th>1</th>\n",
              "      <td>1</td>\n",
              "      <td>1</td>\n",
              "      <td>1</td>\n",
              "      <td>1</td>\n",
              "      <td>1</td>\n",
              "      <td>1</td>\n",
              "    </tr>\n",
              "    <tr>\n",
              "      <th>4</th>\n",
              "      <td>2</td>\n",
              "      <td>2</td>\n",
              "      <td>2</td>\n",
              "      <td>2</td>\n",
              "      <td>2</td>\n",
              "      <td>2</td>\n",
              "    </tr>\n",
              "    <tr>\n",
              "      <th>8</th>\n",
              "      <td>4</td>\n",
              "      <td>4</td>\n",
              "      <td>4</td>\n",
              "      <td>4</td>\n",
              "      <td>4</td>\n",
              "      <td>4</td>\n",
              "    </tr>\n",
              "    <tr>\n",
              "      <th>15</th>\n",
              "      <td>1</td>\n",
              "      <td>1</td>\n",
              "      <td>1</td>\n",
              "      <td>1</td>\n",
              "      <td>1</td>\n",
              "      <td>1</td>\n",
              "    </tr>\n",
              "    <tr>\n",
              "      <th>16</th>\n",
              "      <td>19</td>\n",
              "      <td>19</td>\n",
              "      <td>19</td>\n",
              "      <td>19</td>\n",
              "      <td>19</td>\n",
              "      <td>19</td>\n",
              "    </tr>\n",
              "    <tr>\n",
              "      <th>24</th>\n",
              "      <td>1</td>\n",
              "      <td>1</td>\n",
              "      <td>1</td>\n",
              "      <td>1</td>\n",
              "      <td>1</td>\n",
              "      <td>1</td>\n",
              "    </tr>\n",
              "    <tr>\n",
              "      <th>32</th>\n",
              "      <td>94</td>\n",
              "      <td>94</td>\n",
              "      <td>94</td>\n",
              "      <td>94</td>\n",
              "      <td>94</td>\n",
              "      <td>94</td>\n",
              "    </tr>\n",
              "    <tr>\n",
              "      <th>42</th>\n",
              "      <td>1</td>\n",
              "      <td>1</td>\n",
              "      <td>1</td>\n",
              "      <td>1</td>\n",
              "      <td>1</td>\n",
              "      <td>1</td>\n",
              "    </tr>\n",
              "    <tr>\n",
              "      <th>64</th>\n",
              "      <td>87</td>\n",
              "      <td>87</td>\n",
              "      <td>87</td>\n",
              "      <td>87</td>\n",
              "      <td>87</td>\n",
              "      <td>87</td>\n",
              "    </tr>\n",
              "    <tr>\n",
              "      <th>128</th>\n",
              "      <td>76</td>\n",
              "      <td>76</td>\n",
              "      <td>76</td>\n",
              "      <td>76</td>\n",
              "      <td>76</td>\n",
              "      <td>76</td>\n",
              "    </tr>\n",
              "    <tr>\n",
              "      <th>256</th>\n",
              "      <td>24</td>\n",
              "      <td>24</td>\n",
              "      <td>24</td>\n",
              "      <td>24</td>\n",
              "      <td>24</td>\n",
              "      <td>24</td>\n",
              "    </tr>\n",
              "    <tr>\n",
              "      <th>512</th>\n",
              "      <td>5</td>\n",
              "      <td>5</td>\n",
              "      <td>5</td>\n",
              "      <td>5</td>\n",
              "      <td>5</td>\n",
              "      <td>5</td>\n",
              "    </tr>\n",
              "  </tbody>\n",
              "</table>\n",
              "</div>"
            ],
            "text/plain": [
              "                  Ram  New_back_camera  battery  display  rating  price\n",
              "Internal_storage                                                       \n",
              "1                   1                1        1        1       1      1\n",
              "4                   2                2        2        2       2      2\n",
              "8                   4                4        4        4       4      4\n",
              "15                  1                1        1        1       1      1\n",
              "16                 19               19       19       19      19     19\n",
              "24                  1                1        1        1       1      1\n",
              "32                 94               94       94       94      94     94\n",
              "42                  1                1        1        1       1      1\n",
              "64                 87               87       87       87      87     87\n",
              "128                76               76       76       76      76     76\n",
              "256                24               24       24       24      24     24\n",
              "512                 5                5        5        5       5      5"
            ]
          },
          "metadata": {
            "tags": []
          },
          "execution_count": 218
        }
      ]
    },
    {
      "cell_type": "code",
      "metadata": {
        "id": "yFNDZdRkO3WK",
        "colab_type": "code",
        "colab": {
          "base_uri": "https://localhost:8080/",
          "height": 386
        },
        "outputId": "1fa4b9e3-f0cf-463c-97e5-9da026027abe"
      },
      "source": [
        "sns.catplot(x = \"Internal_storage\", kind = \"count\", palette = \"ch: 0.25\", data = df,aspect=2)\n",
        "\n"
      ],
      "execution_count": 219,
      "outputs": [
        {
          "output_type": "execute_result",
          "data": {
            "text/plain": [
              "<seaborn.axisgrid.FacetGrid at 0x7f54741fe780>"
            ]
          },
          "metadata": {
            "tags": []
          },
          "execution_count": 219
        },
        {
          "output_type": "display_data",
          "data": {
            "image/png": "[encoded data removed]",
            "text/plain": [
              "<Figure size 720x360 with 1 Axes>"
            ]
          },
          "metadata": {
            "tags": [],
            "needs_background": "light"
          }
        }
      ]
    },
    {
      "cell_type": "markdown",
      "metadata": {
        "id": "oviLuE0GUgFE",
        "colab_type": "text"
      },
      "source": [
        "**Inference :-**\n",
        "\n",
        "1.   The above graph says that most of the mobiles have an Internal storage of 32 GB and the major data distribution is between 32 GB to 256 GB\n",
        "2.   Very Few mobiles have Internal storage between 1 GB to 15 GB these mobiles seem like outliers along with 512 GB Internal storage\n",
        "\n"
      ]
    },
    {
      "cell_type": "code",
      "metadata": {
        "id": "66TLsUXxRZJ1",
        "colab_type": "code",
        "colab": {
          "base_uri": "https://localhost:8080/",
          "height": 297
        },
        "outputId": "e31efc0a-46f7-4763-a4f1-cccb6c5bcd75"
      },
      "source": [
        "sns.distplot(df.Internal_storage,bins=6)"
      ],
      "execution_count": 220,
      "outputs": [
        {
          "output_type": "execute_result",
          "data": {
            "text/plain": [
              "<matplotlib.axes._subplots.AxesSubplot at 0x7f5474170278>"
            ]
          },
          "metadata": {
            "tags": []
          },
          "execution_count": 220
        },
        {
          "output_type": "display_data",
          "data": {
            "image/png": "[encoded data removed]",
            "text/plain": [
              "<Figure size 432x288 with 1 Axes>"
            ]
          },
          "metadata": {
            "tags": [],
            "needs_background": "light"
          }
        }
      ]
    },
    {
      "cell_type": "code",
      "metadata": {
        "id": "dyO2cli4ST6w",
        "colab_type": "code",
        "colab": {
          "base_uri": "https://localhost:8080/",
          "height": 386
        },
        "outputId": "1bfbfeff-b7ef-4c24-8b24-c23be17111a0"
      },
      "source": [
        "sns.catplot(x=\"Internal_storage\",data=df,kind='box',aspect=2)"
      ],
      "execution_count": 221,
      "outputs": [
        {
          "output_type": "execute_result",
          "data": {
            "text/plain": [
              "<seaborn.axisgrid.FacetGrid at 0x7f547424a780>"
            ]
          },
          "metadata": {
            "tags": []
          },
          "execution_count": 221
        },
        {
          "output_type": "display_data",
          "data": {
            "image/png": "[encoded data removed]",
            "text/plain": [
              "<Figure size 720x360 with 1 Axes>"
            ]
          },
          "metadata": {
            "tags": [],
            "needs_background": "light"
          }
        }
      ]
    },
    {
      "cell_type": "markdown",
      "metadata": {
        "id": "VJxM5w9LWQzv",
        "colab_type": "text"
      },
      "source": [
        "**Inference :-**\n",
        "\n",
        "1.   The box plot clearly says that the mobiles with 512 GB of Internal storage are outliers\n",
        "\n"
      ]
    },
    {
      "cell_type": "code",
      "metadata": {
        "id": "W-8UFe6tdHGr",
        "colab_type": "code",
        "colab": {
          "base_uri": "https://localhost:8080/",
          "height": 170
        },
        "outputId": "187abb84-6dc0-4aba-d2ad-5db18585c4c7"
      },
      "source": [
        "df['display'].describe()"
      ],
      "execution_count": 222,
      "outputs": [
        {
          "output_type": "execute_result",
          "data": {
            "text/plain": [
              "count    315.000000\n",
              "mean       5.430032\n",
              "std        1.595658\n",
              "min        1.770000\n",
              "25%        5.475000\n",
              "50%        6.200000\n",
              "75%        6.400000\n",
              "max        6.800000\n",
              "Name: display, dtype: float64"
            ]
          },
          "metadata": {
            "tags": []
          },
          "execution_count": 222
        }
      ]
    },
    {
      "cell_type": "markdown",
      "metadata": {
        "id": "5aeHKNUZhL5E",
        "colab_type": "text"
      },
      "source": [
        "**Inference :-**\n",
        "\n",
        "1.   The mean value of the column 'display' is 5.43 inches  ,standard deviation is 1.59 inches ,minimum value is 1.77 inches and maximum value is 6.8 inches \n",
        "2.   The lower quartile is 5.475 inches,the upper quartile is 6.4 inches and the median is 6.2 inches \n",
        "\n"
      ]
    },
    {
      "cell_type": "code",
      "metadata": {
        "id": "_0q64xhWdR1q",
        "colab_type": "code",
        "colab": {
          "base_uri": "https://localhost:8080/",
          "height": 1000
        },
        "outputId": "55fc770d-f200-4920-cb2b-f777e738aa28"
      },
      "source": [
        "disp_grp = df.groupby('display')\n",
        "disp_grp.count()"
      ],
      "execution_count": 223,
      "outputs": [
        {
          "output_type": "execute_result",
          "data": {
            "text/html": [
              "<div>\n",
              "<style scoped>\n",
              "    .dataframe tbody tr th:only-of-type {\n",
              "        vertical-align: middle;\n",
              "    }\n",
              "\n",
              "    .dataframe tbody tr th {\n",
              "        vertical-align: top;\n",
              "    }\n",
              "\n",
              "    .dataframe thead th {\n",
              "        text-align: right;\n",
              "    }\n",
              "</style>\n",
              "<table border=\"1\" class=\"dataframe\">\n",
              "  <thead>\n",
              "    <tr style=\"text-align: right;\">\n",
              "      <th></th>\n",
              "      <th>Ram</th>\n",
              "      <th>New_back_camera</th>\n",
              "      <th>battery</th>\n",
              "      <th>Internal_storage</th>\n",
              "      <th>rating</th>\n",
              "      <th>price</th>\n",
              "    </tr>\n",
              "    <tr>\n",
              "      <th>display</th>\n",
              "      <th></th>\n",
              "      <th></th>\n",
              "      <th></th>\n",
              "      <th></th>\n",
              "      <th></th>\n",
              "      <th></th>\n",
              "    </tr>\n",
              "  </thead>\n",
              "  <tbody>\n",
              "    <tr>\n",
              "      <th>1.77</th>\n",
              "      <td>3</td>\n",
              "      <td>3</td>\n",
              "      <td>3</td>\n",
              "      <td>3</td>\n",
              "      <td>3</td>\n",
              "      <td>3</td>\n",
              "    </tr>\n",
              "    <tr>\n",
              "      <th>1.80</th>\n",
              "      <td>27</td>\n",
              "      <td>27</td>\n",
              "      <td>27</td>\n",
              "      <td>27</td>\n",
              "      <td>27</td>\n",
              "      <td>27</td>\n",
              "    </tr>\n",
              "    <tr>\n",
              "      <th>2.10</th>\n",
              "      <td>1</td>\n",
              "      <td>1</td>\n",
              "      <td>1</td>\n",
              "      <td>1</td>\n",
              "      <td>1</td>\n",
              "      <td>1</td>\n",
              "    </tr>\n",
              "    <tr>\n",
              "      <th>2.30</th>\n",
              "      <td>1</td>\n",
              "      <td>1</td>\n",
              "      <td>1</td>\n",
              "      <td>1</td>\n",
              "      <td>1</td>\n",
              "      <td>1</td>\n",
              "    </tr>\n",
              "    <tr>\n",
              "      <th>2.40</th>\n",
              "      <td>19</td>\n",
              "      <td>19</td>\n",
              "      <td>19</td>\n",
              "      <td>19</td>\n",
              "      <td>19</td>\n",
              "      <td>19</td>\n",
              "    </tr>\n",
              "    <tr>\n",
              "      <th>2.44</th>\n",
              "      <td>1</td>\n",
              "      <td>1</td>\n",
              "      <td>1</td>\n",
              "      <td>1</td>\n",
              "      <td>1</td>\n",
              "      <td>1</td>\n",
              "    </tr>\n",
              "    <tr>\n",
              "      <th>2.80</th>\n",
              "      <td>1</td>\n",
              "      <td>1</td>\n",
              "      <td>1</td>\n",
              "      <td>1</td>\n",
              "      <td>1</td>\n",
              "      <td>1</td>\n",
              "    </tr>\n",
              "    <tr>\n",
              "      <th>4.00</th>\n",
              "      <td>4</td>\n",
              "      <td>4</td>\n",
              "      <td>4</td>\n",
              "      <td>4</td>\n",
              "      <td>4</td>\n",
              "      <td>4</td>\n",
              "    </tr>\n",
              "    <tr>\n",
              "      <th>4.70</th>\n",
              "      <td>1</td>\n",
              "      <td>1</td>\n",
              "      <td>1</td>\n",
              "      <td>1</td>\n",
              "      <td>1</td>\n",
              "      <td>1</td>\n",
              "    </tr>\n",
              "    <tr>\n",
              "      <th>4.80</th>\n",
              "      <td>1</td>\n",
              "      <td>1</td>\n",
              "      <td>1</td>\n",
              "      <td>1</td>\n",
              "      <td>1</td>\n",
              "      <td>1</td>\n",
              "    </tr>\n",
              "    <tr>\n",
              "      <th>5.00</th>\n",
              "      <td>13</td>\n",
              "      <td>13</td>\n",
              "      <td>13</td>\n",
              "      <td>13</td>\n",
              "      <td>13</td>\n",
              "      <td>13</td>\n",
              "    </tr>\n",
              "    <tr>\n",
              "      <th>5.20</th>\n",
              "      <td>5</td>\n",
              "      <td>5</td>\n",
              "      <td>5</td>\n",
              "      <td>5</td>\n",
              "      <td>5</td>\n",
              "      <td>5</td>\n",
              "    </tr>\n",
              "    <tr>\n",
              "      <th>5.45</th>\n",
              "      <td>2</td>\n",
              "      <td>2</td>\n",
              "      <td>2</td>\n",
              "      <td>2</td>\n",
              "      <td>2</td>\n",
              "      <td>2</td>\n",
              "    </tr>\n",
              "    <tr>\n",
              "      <th>5.50</th>\n",
              "      <td>18</td>\n",
              "      <td>18</td>\n",
              "      <td>18</td>\n",
              "      <td>18</td>\n",
              "      <td>18</td>\n",
              "      <td>18</td>\n",
              "    </tr>\n",
              "    <tr>\n",
              "      <th>5.60</th>\n",
              "      <td>1</td>\n",
              "      <td>1</td>\n",
              "      <td>1</td>\n",
              "      <td>1</td>\n",
              "      <td>1</td>\n",
              "      <td>1</td>\n",
              "    </tr>\n",
              "    <tr>\n",
              "      <th>5.70</th>\n",
              "      <td>5</td>\n",
              "      <td>5</td>\n",
              "      <td>5</td>\n",
              "      <td>5</td>\n",
              "      <td>5</td>\n",
              "      <td>5</td>\n",
              "    </tr>\n",
              "    <tr>\n",
              "      <th>5.71</th>\n",
              "      <td>1</td>\n",
              "      <td>1</td>\n",
              "      <td>1</td>\n",
              "      <td>1</td>\n",
              "      <td>1</td>\n",
              "      <td>1</td>\n",
              "    </tr>\n",
              "    <tr>\n",
              "      <th>5.80</th>\n",
              "      <td>3</td>\n",
              "      <td>3</td>\n",
              "      <td>3</td>\n",
              "      <td>3</td>\n",
              "      <td>3</td>\n",
              "      <td>3</td>\n",
              "    </tr>\n",
              "    <tr>\n",
              "      <th>5.84</th>\n",
              "      <td>6</td>\n",
              "      <td>6</td>\n",
              "      <td>6</td>\n",
              "      <td>6</td>\n",
              "      <td>6</td>\n",
              "      <td>6</td>\n",
              "    </tr>\n",
              "    <tr>\n",
              "      <th>5.90</th>\n",
              "      <td>4</td>\n",
              "      <td>4</td>\n",
              "      <td>4</td>\n",
              "      <td>4</td>\n",
              "      <td>4</td>\n",
              "      <td>4</td>\n",
              "    </tr>\n",
              "    <tr>\n",
              "      <th>5.93</th>\n",
              "      <td>1</td>\n",
              "      <td>1</td>\n",
              "      <td>1</td>\n",
              "      <td>1</td>\n",
              "      <td>1</td>\n",
              "      <td>1</td>\n",
              "    </tr>\n",
              "    <tr>\n",
              "      <th>5.99</th>\n",
              "      <td>7</td>\n",
              "      <td>7</td>\n",
              "      <td>7</td>\n",
              "      <td>7</td>\n",
              "      <td>7</td>\n",
              "      <td>7</td>\n",
              "    </tr>\n",
              "    <tr>\n",
              "      <th>6.00</th>\n",
              "      <td>9</td>\n",
              "      <td>9</td>\n",
              "      <td>9</td>\n",
              "      <td>9</td>\n",
              "      <td>9</td>\n",
              "      <td>9</td>\n",
              "    </tr>\n",
              "    <tr>\n",
              "      <th>6.08</th>\n",
              "      <td>2</td>\n",
              "      <td>2</td>\n",
              "      <td>2</td>\n",
              "      <td>2</td>\n",
              "      <td>2</td>\n",
              "      <td>2</td>\n",
              "    </tr>\n",
              "    <tr>\n",
              "      <th>6.10</th>\n",
              "      <td>2</td>\n",
              "      <td>2</td>\n",
              "      <td>2</td>\n",
              "      <td>2</td>\n",
              "      <td>2</td>\n",
              "      <td>2</td>\n",
              "    </tr>\n",
              "    <tr>\n",
              "      <th>6.18</th>\n",
              "      <td>4</td>\n",
              "      <td>4</td>\n",
              "      <td>4</td>\n",
              "      <td>4</td>\n",
              "      <td>4</td>\n",
              "      <td>4</td>\n",
              "    </tr>\n",
              "    <tr>\n",
              "      <th>6.20</th>\n",
              "      <td>24</td>\n",
              "      <td>24</td>\n",
              "      <td>24</td>\n",
              "      <td>24</td>\n",
              "      <td>24</td>\n",
              "      <td>24</td>\n",
              "    </tr>\n",
              "    <tr>\n",
              "      <th>6.21</th>\n",
              "      <td>2</td>\n",
              "      <td>2</td>\n",
              "      <td>2</td>\n",
              "      <td>2</td>\n",
              "      <td>2</td>\n",
              "      <td>2</td>\n",
              "    </tr>\n",
              "    <tr>\n",
              "      <th>6.22</th>\n",
              "      <td>10</td>\n",
              "      <td>10</td>\n",
              "      <td>10</td>\n",
              "      <td>10</td>\n",
              "      <td>10</td>\n",
              "      <td>10</td>\n",
              "    </tr>\n",
              "    <tr>\n",
              "      <th>6.26</th>\n",
              "      <td>6</td>\n",
              "      <td>6</td>\n",
              "      <td>6</td>\n",
              "      <td>6</td>\n",
              "      <td>6</td>\n",
              "      <td>6</td>\n",
              "    </tr>\n",
              "    <tr>\n",
              "      <th>6.30</th>\n",
              "      <td>12</td>\n",
              "      <td>12</td>\n",
              "      <td>12</td>\n",
              "      <td>12</td>\n",
              "      <td>12</td>\n",
              "      <td>12</td>\n",
              "    </tr>\n",
              "    <tr>\n",
              "      <th>6.35</th>\n",
              "      <td>3</td>\n",
              "      <td>3</td>\n",
              "      <td>3</td>\n",
              "      <td>3</td>\n",
              "      <td>3</td>\n",
              "      <td>3</td>\n",
              "    </tr>\n",
              "    <tr>\n",
              "      <th>6.38</th>\n",
              "      <td>7</td>\n",
              "      <td>7</td>\n",
              "      <td>7</td>\n",
              "      <td>7</td>\n",
              "      <td>7</td>\n",
              "      <td>7</td>\n",
              "    </tr>\n",
              "    <tr>\n",
              "      <th>6.39</th>\n",
              "      <td>13</td>\n",
              "      <td>13</td>\n",
              "      <td>13</td>\n",
              "      <td>13</td>\n",
              "      <td>13</td>\n",
              "      <td>13</td>\n",
              "    </tr>\n",
              "    <tr>\n",
              "      <th>6.40</th>\n",
              "      <td>27</td>\n",
              "      <td>27</td>\n",
              "      <td>27</td>\n",
              "      <td>27</td>\n",
              "      <td>27</td>\n",
              "      <td>27</td>\n",
              "    </tr>\n",
              "    <tr>\n",
              "      <th>6.41</th>\n",
              "      <td>3</td>\n",
              "      <td>3</td>\n",
              "      <td>3</td>\n",
              "      <td>3</td>\n",
              "      <td>3</td>\n",
              "      <td>3</td>\n",
              "    </tr>\n",
              "    <tr>\n",
              "      <th>6.44</th>\n",
              "      <td>7</td>\n",
              "      <td>7</td>\n",
              "      <td>7</td>\n",
              "      <td>7</td>\n",
              "      <td>7</td>\n",
              "      <td>7</td>\n",
              "    </tr>\n",
              "    <tr>\n",
              "      <th>6.50</th>\n",
              "      <td>25</td>\n",
              "      <td>25</td>\n",
              "      <td>25</td>\n",
              "      <td>25</td>\n",
              "      <td>25</td>\n",
              "      <td>25</td>\n",
              "    </tr>\n",
              "    <tr>\n",
              "      <th>6.52</th>\n",
              "      <td>4</td>\n",
              "      <td>4</td>\n",
              "      <td>4</td>\n",
              "      <td>4</td>\n",
              "      <td>4</td>\n",
              "      <td>4</td>\n",
              "    </tr>\n",
              "    <tr>\n",
              "      <th>6.53</th>\n",
              "      <td>9</td>\n",
              "      <td>9</td>\n",
              "      <td>9</td>\n",
              "      <td>9</td>\n",
              "      <td>9</td>\n",
              "      <td>9</td>\n",
              "    </tr>\n",
              "    <tr>\n",
              "      <th>6.59</th>\n",
              "      <td>2</td>\n",
              "      <td>2</td>\n",
              "      <td>2</td>\n",
              "      <td>2</td>\n",
              "      <td>2</td>\n",
              "      <td>2</td>\n",
              "    </tr>\n",
              "    <tr>\n",
              "      <th>6.60</th>\n",
              "      <td>1</td>\n",
              "      <td>1</td>\n",
              "      <td>1</td>\n",
              "      <td>1</td>\n",
              "      <td>1</td>\n",
              "      <td>1</td>\n",
              "    </tr>\n",
              "    <tr>\n",
              "      <th>6.67</th>\n",
              "      <td>6</td>\n",
              "      <td>6</td>\n",
              "      <td>6</td>\n",
              "      <td>6</td>\n",
              "      <td>6</td>\n",
              "      <td>6</td>\n",
              "    </tr>\n",
              "    <tr>\n",
              "      <th>6.70</th>\n",
              "      <td>11</td>\n",
              "      <td>11</td>\n",
              "      <td>11</td>\n",
              "      <td>11</td>\n",
              "      <td>11</td>\n",
              "      <td>11</td>\n",
              "    </tr>\n",
              "    <tr>\n",
              "      <th>6.80</th>\n",
              "      <td>1</td>\n",
              "      <td>1</td>\n",
              "      <td>1</td>\n",
              "      <td>1</td>\n",
              "      <td>1</td>\n",
              "      <td>1</td>\n",
              "    </tr>\n",
              "  </tbody>\n",
              "</table>\n",
              "</div>"
            ],
            "text/plain": [
              "         Ram  New_back_camera  battery  Internal_storage  rating  price\n",
              "display                                                                \n",
              "1.77       3                3        3                 3       3      3\n",
              "1.80      27               27       27                27      27     27\n",
              "2.10       1                1        1                 1       1      1\n",
              "2.30       1                1        1                 1       1      1\n",
              "2.40      19               19       19                19      19     19\n",
              "2.44       1                1        1                 1       1      1\n",
              "2.80       1                1        1                 1       1      1\n",
              "4.00       4                4        4                 4       4      4\n",
              "4.70       1                1        1                 1       1      1\n",
              "4.80       1                1        1                 1       1      1\n",
              "5.00      13               13       13                13      13     13\n",
              "5.20       5                5        5                 5       5      5\n",
              "5.45       2                2        2                 2       2      2\n",
              "5.50      18               18       18                18      18     18\n",
              "5.60       1                1        1                 1       1      1\n",
              "5.70       5                5        5                 5       5      5\n",
              "5.71       1                1        1                 1       1      1\n",
              "5.80       3                3        3                 3       3      3\n",
              "5.84       6                6        6                 6       6      6\n",
              "5.90       4                4        4                 4       4      4\n",
              "5.93       1                1        1                 1       1      1\n",
              "5.99       7                7        7                 7       7      7\n",
              "6.00       9                9        9                 9       9      9\n",
              "6.08       2                2        2                 2       2      2\n",
              "6.10       2                2        2                 2       2      2\n",
              "6.18       4                4        4                 4       4      4\n",
              "6.20      24               24       24                24      24     24\n",
              "6.21       2                2        2                 2       2      2\n",
              "6.22      10               10       10                10      10     10\n",
              "6.26       6                6        6                 6       6      6\n",
              "6.30      12               12       12                12      12     12\n",
              "6.35       3                3        3                 3       3      3\n",
              "6.38       7                7        7                 7       7      7\n",
              "6.39      13               13       13                13      13     13\n",
              "6.40      27               27       27                27      27     27\n",
              "6.41       3                3        3                 3       3      3\n",
              "6.44       7                7        7                 7       7      7\n",
              "6.50      25               25       25                25      25     25\n",
              "6.52       4                4        4                 4       4      4\n",
              "6.53       9                9        9                 9       9      9\n",
              "6.59       2                2        2                 2       2      2\n",
              "6.60       1                1        1                 1       1      1\n",
              "6.67       6                6        6                 6       6      6\n",
              "6.70      11               11       11                11      11     11\n",
              "6.80       1                1        1                 1       1      1"
            ]
          },
          "metadata": {
            "tags": []
          },
          "execution_count": 223
        }
      ]
    },
    {
      "cell_type": "code",
      "metadata": {
        "id": "-dkdcZw4Ta5A",
        "colab_type": "code",
        "colab": {
          "base_uri": "https://localhost:8080/",
          "height": 282
        },
        "outputId": "9a7bcc36-2ca7-462f-de31-7edac281813c"
      },
      "source": [
        "df.display.plot(kind= 'hist',bins = 10,rwidth = 0.95)"
      ],
      "execution_count": 224,
      "outputs": [
        {
          "output_type": "execute_result",
          "data": {
            "text/plain": [
              "<matplotlib.axes._subplots.AxesSubplot at 0x7f54740782e8>"
            ]
          },
          "metadata": {
            "tags": []
          },
          "execution_count": 224
        },
        {
          "output_type": "display_data",
          "data": {
            "image/png": "[encoded data removed]",
            "text/plain": [
              "<Figure size 432x288 with 1 Axes>"
            ]
          },
          "metadata": {
            "tags": [],
            "needs_background": "light"
          }
        }
      ]
    },
    {
      "cell_type": "code",
      "metadata": {
        "id": "q3PU5KWyUiMQ",
        "colab_type": "code",
        "colab": {
          "base_uri": "https://localhost:8080/",
          "height": 296
        },
        "outputId": "b8ea2d62-ddc0-40b8-c1c2-df2949a84679"
      },
      "source": [
        "sns.distplot(df.display,bins=6)"
      ],
      "execution_count": 225,
      "outputs": [
        {
          "output_type": "execute_result",
          "data": {
            "text/plain": [
              "<matplotlib.axes._subplots.AxesSubplot at 0x7f5473feb5c0>"
            ]
          },
          "metadata": {
            "tags": []
          },
          "execution_count": 225
        },
        {
          "output_type": "display_data",
          "data": {
            "image/png": "[encoded data removed]",
            "text/plain": [
              "<Figure size 432x288 with 1 Axes>"
            ]
          },
          "metadata": {
            "tags": [],
            "needs_background": "light"
          }
        }
      ]
    },
    {
      "cell_type": "markdown",
      "metadata": {
        "id": "U53DOES0jA3c",
        "colab_type": "text"
      },
      "source": [
        "**Inference :-**\n",
        "\n",
        "1.   The above graph is left skewed indicating that the major data distribution is between 5 to 7 inches,which means most of the mobiles have display size around 5 to 7 inches\n",
        "2.   Mobiles with display size of 2 inches seem like an outlier from the above graph\n",
        "\n"
      ]
    },
    {
      "cell_type": "code",
      "metadata": {
        "id": "LoUVvQ3OVg7u",
        "colab_type": "code",
        "colab": {
          "base_uri": "https://localhost:8080/",
          "height": 386
        },
        "outputId": "326bd620-c7e9-42e1-fa7e-d8f86750c89a"
      },
      "source": [
        "sns.catplot(x=\"display\",data=df,kind='box',aspect=2)"
      ],
      "execution_count": 226,
      "outputs": [
        {
          "output_type": "execute_result",
          "data": {
            "text/plain": [
              "<seaborn.axisgrid.FacetGrid at 0x7f5474049a90>"
            ]
          },
          "metadata": {
            "tags": []
          },
          "execution_count": 226
        },
        {
          "output_type": "display_data",
          "data": {
            "image/png": "[encoded data removed]",
            "text/plain": [
              "<Figure size 720x360 with 1 Axes>"
            ]
          },
          "metadata": {
            "tags": [],
            "needs_background": "light"
          }
        }
      ]
    },
    {
      "cell_type": "markdown",
      "metadata": {
        "id": "mej1yRvqj68Y",
        "colab_type": "text"
      },
      "source": [
        "**Inference :-**\n",
        "\n",
        "1.   The Box plot says that the mobiles with display size between 1.5 to 4.2 inches are outliers from the normal distribution.\n",
        "\n",
        "2.   The lower quartile is near 5 inches and upper quartile is 7 inches and the major distribution of data is between this 5 to 7 inches range ,which implies that most of the mobiles have a display size of 5 to 7 inches\n",
        "\n",
        "\n"
      ]
    },
    {
      "cell_type": "code",
      "metadata": {
        "id": "IhMoLtRvdune",
        "colab_type": "code",
        "colab": {
          "base_uri": "https://localhost:8080/",
          "height": 170
        },
        "outputId": "a65d476a-261c-4640-9f59-b3b6d79b4c28"
      },
      "source": [
        "df['rating'].describe()"
      ],
      "execution_count": 227,
      "outputs": [
        {
          "output_type": "execute_result",
          "data": {
            "text/plain": [
              "count    315.000000\n",
              "mean       4.207302\n",
              "std        0.370459\n",
              "min        2.100000\n",
              "25%        4.000000\n",
              "50%        4.300000\n",
              "75%        4.500000\n",
              "max        5.000000\n",
              "Name: rating, dtype: float64"
            ]
          },
          "metadata": {
            "tags": []
          },
          "execution_count": 227
        }
      ]
    },
    {
      "cell_type": "markdown",
      "metadata": {
        "id": "jAsIgbnFmV09",
        "colab_type": "text"
      },
      "source": [
        "**Inference :-**\n",
        "\n",
        "1.    The mean value of the column 'rating' is 4.2 ,standard deviation is 0.37 ,minimum value is 2.1 and maximum value is 5  \n",
        "2.   The 25th percentile value is 4,50th percentile is 4.3,75th percentile is 4.5 ,the median value is 4.3\n",
        "\n"
      ]
    },
    {
      "cell_type": "code",
      "metadata": {
        "id": "lBriLiiddmNb",
        "colab_type": "code",
        "colab": {
          "base_uri": "https://localhost:8080/",
          "height": 669
        },
        "outputId": "f6b5c4d7-25a7-484d-e320-f3568f5d687d"
      },
      "source": [
        "rat_grp = df.groupby('rating')\n",
        "rat_grp.count()"
      ],
      "execution_count": 228,
      "outputs": [
        {
          "output_type": "execute_result",
          "data": {
            "text/html": [
              "<div>\n",
              "<style scoped>\n",
              "    .dataframe tbody tr th:only-of-type {\n",
              "        vertical-align: middle;\n",
              "    }\n",
              "\n",
              "    .dataframe tbody tr th {\n",
              "        vertical-align: top;\n",
              "    }\n",
              "\n",
              "    .dataframe thead th {\n",
              "        text-align: right;\n",
              "    }\n",
              "</style>\n",
              "<table border=\"1\" class=\"dataframe\">\n",
              "  <thead>\n",
              "    <tr style=\"text-align: right;\">\n",
              "      <th></th>\n",
              "      <th>Ram</th>\n",
              "      <th>New_back_camera</th>\n",
              "      <th>battery</th>\n",
              "      <th>Internal_storage</th>\n",
              "      <th>display</th>\n",
              "      <th>price</th>\n",
              "    </tr>\n",
              "    <tr>\n",
              "      <th>rating</th>\n",
              "      <th></th>\n",
              "      <th></th>\n",
              "      <th></th>\n",
              "      <th></th>\n",
              "      <th></th>\n",
              "      <th></th>\n",
              "    </tr>\n",
              "  </thead>\n",
              "  <tbody>\n",
              "    <tr>\n",
              "      <th>2.1</th>\n",
              "      <td>1</td>\n",
              "      <td>1</td>\n",
              "      <td>1</td>\n",
              "      <td>1</td>\n",
              "      <td>1</td>\n",
              "      <td>1</td>\n",
              "    </tr>\n",
              "    <tr>\n",
              "      <th>2.9</th>\n",
              "      <td>1</td>\n",
              "      <td>1</td>\n",
              "      <td>1</td>\n",
              "      <td>1</td>\n",
              "      <td>1</td>\n",
              "      <td>1</td>\n",
              "    </tr>\n",
              "    <tr>\n",
              "      <th>3.1</th>\n",
              "      <td>1</td>\n",
              "      <td>1</td>\n",
              "      <td>1</td>\n",
              "      <td>1</td>\n",
              "      <td>1</td>\n",
              "      <td>1</td>\n",
              "    </tr>\n",
              "    <tr>\n",
              "      <th>3.3</th>\n",
              "      <td>4</td>\n",
              "      <td>4</td>\n",
              "      <td>4</td>\n",
              "      <td>4</td>\n",
              "      <td>4</td>\n",
              "      <td>4</td>\n",
              "    </tr>\n",
              "    <tr>\n",
              "      <th>3.4</th>\n",
              "      <td>3</td>\n",
              "      <td>3</td>\n",
              "      <td>3</td>\n",
              "      <td>3</td>\n",
              "      <td>3</td>\n",
              "      <td>3</td>\n",
              "    </tr>\n",
              "    <tr>\n",
              "      <th>3.5</th>\n",
              "      <td>11</td>\n",
              "      <td>11</td>\n",
              "      <td>11</td>\n",
              "      <td>11</td>\n",
              "      <td>11</td>\n",
              "      <td>11</td>\n",
              "    </tr>\n",
              "    <tr>\n",
              "      <th>3.6</th>\n",
              "      <td>18</td>\n",
              "      <td>18</td>\n",
              "      <td>18</td>\n",
              "      <td>18</td>\n",
              "      <td>18</td>\n",
              "      <td>18</td>\n",
              "    </tr>\n",
              "    <tr>\n",
              "      <th>3.7</th>\n",
              "      <td>7</td>\n",
              "      <td>7</td>\n",
              "      <td>7</td>\n",
              "      <td>7</td>\n",
              "      <td>7</td>\n",
              "      <td>7</td>\n",
              "    </tr>\n",
              "    <tr>\n",
              "      <th>3.8</th>\n",
              "      <td>6</td>\n",
              "      <td>6</td>\n",
              "      <td>6</td>\n",
              "      <td>6</td>\n",
              "      <td>6</td>\n",
              "      <td>6</td>\n",
              "    </tr>\n",
              "    <tr>\n",
              "      <th>3.9</th>\n",
              "      <td>15</td>\n",
              "      <td>15</td>\n",
              "      <td>15</td>\n",
              "      <td>15</td>\n",
              "      <td>15</td>\n",
              "      <td>15</td>\n",
              "    </tr>\n",
              "    <tr>\n",
              "      <th>4.0</th>\n",
              "      <td>16</td>\n",
              "      <td>16</td>\n",
              "      <td>16</td>\n",
              "      <td>16</td>\n",
              "      <td>16</td>\n",
              "      <td>16</td>\n",
              "    </tr>\n",
              "    <tr>\n",
              "      <th>4.1</th>\n",
              "      <td>19</td>\n",
              "      <td>19</td>\n",
              "      <td>19</td>\n",
              "      <td>19</td>\n",
              "      <td>19</td>\n",
              "      <td>19</td>\n",
              "    </tr>\n",
              "    <tr>\n",
              "      <th>4.2</th>\n",
              "      <td>18</td>\n",
              "      <td>18</td>\n",
              "      <td>18</td>\n",
              "      <td>18</td>\n",
              "      <td>18</td>\n",
              "      <td>18</td>\n",
              "    </tr>\n",
              "    <tr>\n",
              "      <th>4.3</th>\n",
              "      <td>46</td>\n",
              "      <td>46</td>\n",
              "      <td>46</td>\n",
              "      <td>46</td>\n",
              "      <td>46</td>\n",
              "      <td>46</td>\n",
              "    </tr>\n",
              "    <tr>\n",
              "      <th>4.4</th>\n",
              "      <td>66</td>\n",
              "      <td>66</td>\n",
              "      <td>66</td>\n",
              "      <td>66</td>\n",
              "      <td>66</td>\n",
              "      <td>66</td>\n",
              "    </tr>\n",
              "    <tr>\n",
              "      <th>4.5</th>\n",
              "      <td>54</td>\n",
              "      <td>54</td>\n",
              "      <td>54</td>\n",
              "      <td>54</td>\n",
              "      <td>54</td>\n",
              "      <td>54</td>\n",
              "    </tr>\n",
              "    <tr>\n",
              "      <th>4.6</th>\n",
              "      <td>24</td>\n",
              "      <td>24</td>\n",
              "      <td>24</td>\n",
              "      <td>24</td>\n",
              "      <td>24</td>\n",
              "      <td>24</td>\n",
              "    </tr>\n",
              "    <tr>\n",
              "      <th>4.8</th>\n",
              "      <td>4</td>\n",
              "      <td>4</td>\n",
              "      <td>4</td>\n",
              "      <td>4</td>\n",
              "      <td>4</td>\n",
              "      <td>4</td>\n",
              "    </tr>\n",
              "    <tr>\n",
              "      <th>5.0</th>\n",
              "      <td>1</td>\n",
              "      <td>1</td>\n",
              "      <td>1</td>\n",
              "      <td>1</td>\n",
              "      <td>1</td>\n",
              "      <td>1</td>\n",
              "    </tr>\n",
              "  </tbody>\n",
              "</table>\n",
              "</div>"
            ],
            "text/plain": [
              "        Ram  New_back_camera  battery  Internal_storage  display  price\n",
              "rating                                                                 \n",
              "2.1       1                1        1                 1        1      1\n",
              "2.9       1                1        1                 1        1      1\n",
              "3.1       1                1        1                 1        1      1\n",
              "3.3       4                4        4                 4        4      4\n",
              "3.4       3                3        3                 3        3      3\n",
              "3.5      11               11       11                11       11     11\n",
              "3.6      18               18       18                18       18     18\n",
              "3.7       7                7        7                 7        7      7\n",
              "3.8       6                6        6                 6        6      6\n",
              "3.9      15               15       15                15       15     15\n",
              "4.0      16               16       16                16       16     16\n",
              "4.1      19               19       19                19       19     19\n",
              "4.2      18               18       18                18       18     18\n",
              "4.3      46               46       46                46       46     46\n",
              "4.4      66               66       66                66       66     66\n",
              "4.5      54               54       54                54       54     54\n",
              "4.6      24               24       24                24       24     24\n",
              "4.8       4                4        4                 4        4      4\n",
              "5.0       1                1        1                 1        1      1"
            ]
          },
          "metadata": {
            "tags": []
          },
          "execution_count": 228
        }
      ]
    },
    {
      "cell_type": "code",
      "metadata": {
        "id": "LF7szW5kWx1S",
        "colab_type": "code",
        "colab": {
          "base_uri": "https://localhost:8080/",
          "height": 386
        },
        "outputId": "2c042b3d-fbc9-4f0c-ca69-4c1df3d14f35"
      },
      "source": [
        "sns.catplot(x = \"rating\", kind = \"count\", palette = \"ch: 0.25\", data = df,aspect=2)\n",
        "\n"
      ],
      "execution_count": 229,
      "outputs": [
        {
          "output_type": "execute_result",
          "data": {
            "text/plain": [
              "<seaborn.axisgrid.FacetGrid at 0x7f5473fa6dd8>"
            ]
          },
          "metadata": {
            "tags": []
          },
          "execution_count": 229
        },
        {
          "output_type": "display_data",
          "data": {
            "image/png": "[encoded data removed]",
            "text/plain": [
              "<Figure size 720x360 with 1 Axes>"
            ]
          },
          "metadata": {
            "tags": [],
            "needs_background": "light"
          }
        }
      ]
    },
    {
      "cell_type": "code",
      "metadata": {
        "id": "uXn8cjxIXArG",
        "colab_type": "code",
        "colab": {
          "base_uri": "https://localhost:8080/",
          "height": 299
        },
        "outputId": "f05e2dca-f9db-4e9b-8d35-2c1ae529b322"
      },
      "source": [
        "sns.distplot(df.rating,bins=6)"
      ],
      "execution_count": 230,
      "outputs": [
        {
          "output_type": "execute_result",
          "data": {
            "text/plain": [
              "<matplotlib.axes._subplots.AxesSubplot at 0x7f5473e89ac8>"
            ]
          },
          "metadata": {
            "tags": []
          },
          "execution_count": 230
        },
        {
          "output_type": "display_data",
          "data": {
            "image/png": "[encoded data removed]",
            "text/plain": [
              "<Figure size 432x288 with 1 Axes>"
            ]
          },
          "metadata": {
            "tags": [],
            "needs_background": "light"
          }
        }
      ]
    },
    {
      "cell_type": "markdown",
      "metadata": {
        "id": "JLARm0vaossk",
        "colab_type": "text"
      },
      "source": [
        "**Inference :-**\n",
        "\n",
        "1.   The above graph is bell curved with a slight left skew and the mojority distribution is between the range 3.7 to 4.8\n",
        "2.   Most of the mobiles have a rating between 4.2 to 4.5\n",
        "\n"
      ]
    },
    {
      "cell_type": "code",
      "metadata": {
        "id": "h5ixFXSKXHDL",
        "colab_type": "code",
        "colab": {
          "base_uri": "https://localhost:8080/",
          "height": 386
        },
        "outputId": "82b1ffe3-d8d4-497a-9798-dc5dbe476877"
      },
      "source": [
        "sns.catplot(x=\"rating\",data=df,kind='box',aspect=2)"
      ],
      "execution_count": 231,
      "outputs": [
        {
          "output_type": "execute_result",
          "data": {
            "text/plain": [
              "<seaborn.axisgrid.FacetGrid at 0x7f5473dd6e80>"
            ]
          },
          "metadata": {
            "tags": []
          },
          "execution_count": 231
        },
        {
          "output_type": "display_data",
          "data": {
            "image/png": "[encoded data removed]",
            "text/plain": [
              "<Figure size 720x360 with 1 Axes>"
            ]
          },
          "metadata": {
            "tags": [],
            "needs_background": "light"
          }
        }
      ]
    },
    {
      "cell_type": "markdown",
      "metadata": {
        "id": "32PO21vsqGPm",
        "colab_type": "text"
      },
      "source": [
        "**Inference :-**\n",
        "\n",
        "1.   The Box plot says the outliers are between 2.2 to 3.4\n",
        "2.   The Upper quartile bound is 5 and the lower quartile bound is 3.5\n",
        "\n"
      ]
    },
    {
      "cell_type": "code",
      "metadata": {
        "id": "Xak8F5vJfhiN",
        "colab_type": "code",
        "colab": {
          "base_uri": "https://localhost:8080/",
          "height": 170
        },
        "outputId": "eba268e4-6a4c-451e-abf5-084061495381"
      },
      "source": [
        "df['price'].describe()"
      ],
      "execution_count": 232,
      "outputs": [
        {
          "output_type": "execute_result",
          "data": {
            "text/plain": [
              "count       315.000000\n",
              "mean      19321.806349\n",
              "std       18292.210867\n",
              "min         648.000000\n",
              "25%        9549.500000\n",
              "50%       14999.000000\n",
              "75%       22569.500000\n",
              "max      124999.000000\n",
              "Name: price, dtype: float64"
            ]
          },
          "metadata": {
            "tags": []
          },
          "execution_count": 232
        }
      ]
    },
    {
      "cell_type": "markdown",
      "metadata": {
        "id": "BWc9goYlrnOi",
        "colab_type": "text"
      },
      "source": [
        "**Inference :-**\n",
        "\n",
        "1.   The mean value of the column 'price' is 19321.8 ,standard deviation is 18292.21,minimum value is 648 and maximum value is 124999 \n",
        "2.   The 25th percentile value is 9549.5,50th percentile is 22569.5, the median value is 14999 Rs.\n",
        "\n"
      ]
    },
    {
      "cell_type": "code",
      "metadata": {
        "id": "PmG_elHHXvgQ",
        "colab_type": "code",
        "colab": {
          "base_uri": "https://localhost:8080/",
          "height": 386
        },
        "outputId": "67eeb1c9-de87-4f39-e77d-7cbf3d38e293"
      },
      "source": [
        " sns.catplot(x=\"price\",data=df,kind='box',aspect=2)"
      ],
      "execution_count": 233,
      "outputs": [
        {
          "output_type": "execute_result",
          "data": {
            "text/plain": [
              "<seaborn.axisgrid.FacetGrid at 0x7f5473d57160>"
            ]
          },
          "metadata": {
            "tags": []
          },
          "execution_count": 233
        },
        {
          "output_type": "display_data",
          "data": {
            "image/png": "[encoded data removed]",
            "text/plain": [
              "<Figure size 720x360 with 1 Axes>"
            ]
          },
          "metadata": {
            "tags": [],
            "needs_background": "light"
          }
        }
      ]
    },
    {
      "cell_type": "markdown",
      "metadata": {
        "id": "yaij-98mrQQ0",
        "colab_type": "text"
      },
      "source": [
        "**Inference :-**\n",
        "\n",
        "1.   The Box plot shows that the mobiles with prices more than 40000 are outliers\n",
        "2.   The lower quartile bound is 0 and the upper quartile bound is 40000\n",
        "\n"
      ]
    },
    {
      "cell_type": "code",
      "metadata": {
        "id": "dYq70SeaYUNp",
        "colab_type": "code",
        "colab": {
          "base_uri": "https://localhost:8080/",
          "height": 307
        },
        "outputId": "563e1015-669d-44d5-c953-6f1777e902b3"
      },
      "source": [
        "sns.distplot(df.price,bins=6)"
      ],
      "execution_count": 234,
      "outputs": [
        {
          "output_type": "execute_result",
          "data": {
            "text/plain": [
              "<matplotlib.axes._subplots.AxesSubplot at 0x7f5473fb4e48>"
            ]
          },
          "metadata": {
            "tags": []
          },
          "execution_count": 234
        },
        {
          "output_type": "display_data",
          "data": {
            "image/png": "[encoded data removed]",
            "text/plain": [
              "<Figure size 432x288 with 1 Axes>"
            ]
          },
          "metadata": {
            "tags": [],
            "needs_background": "light"
          }
        }
      ]
    },
    {
      "cell_type": "code",
      "metadata": {
        "id": "PwA8DdrzYduh",
        "colab_type": "code",
        "colab": {
          "base_uri": "https://localhost:8080/",
          "height": 282
        },
        "outputId": "318f1085-4840-461d-aa69-c8d00f13cfc1"
      },
      "source": [
        "df.price.plot(kind= 'hist',bins = 10,rwidth = 0.95)\n"
      ],
      "execution_count": 235,
      "outputs": [
        {
          "output_type": "execute_result",
          "data": {
            "text/plain": [
              "<matplotlib.axes._subplots.AxesSubplot at 0x7f5473cc7dd8>"
            ]
          },
          "metadata": {
            "tags": []
          },
          "execution_count": 235
        },
        {
          "output_type": "display_data",
          "data": {
            "image/png": "[encoded data removed]",
            "text/plain": [
              "<Figure size 432x288 with 1 Axes>"
            ]
          },
          "metadata": {
            "tags": [],
            "needs_background": "light"
          }
        }
      ]
    },
    {
      "cell_type": "markdown",
      "metadata": {
        "id": "ylQBQ3nbr9QH",
        "colab_type": "text"
      },
      "source": [
        "**Inference:-**\n",
        "1.   The above 2 graphs ,ditribution plot and histogram shows that the graph is right skewed and the majority of the data distribution is 1000 to 25000\n",
        "2.   The mobiles with prices above 60000 are rare and far from the normal distribution and can be treated as outliers \n",
        "\n"
      ]
    },
    {
      "cell_type": "code",
      "metadata": {
        "id": "lVTcFkuAgPKG",
        "colab_type": "code",
        "colab": {
          "base_uri": "https://localhost:8080/",
          "height": 369
        },
        "outputId": "092642bd-52ff-4c97-bef0-3308e401de20"
      },
      "source": [
        "corelation = df.corr()\n",
        "sns.heatmap(corelation, xticklabels=corelation.columns, yticklabels=corelation.columns, annot=True)\n"
      ],
      "execution_count": 236,
      "outputs": [
        {
          "output_type": "execute_result",
          "data": {
            "text/plain": [
              "<matplotlib.axes._subplots.AxesSubplot at 0x7f5473e89ba8>"
            ]
          },
          "metadata": {
            "tags": []
          },
          "execution_count": 236
        },
        {
          "output_type": "display_data",
          "data": {
            "image/png": "[encoded data removed]",
            "text/plain": [
              "<Figure size 432x288 with 2 Axes>"
            ]
          },
          "metadata": {
            "tags": [],
            "needs_background": "light"
          }
        }
      ]
    },
    {
      "cell_type": "markdown",
      "metadata": {
        "id": "5iWnv4pk3-i_",
        "colab_type": "text"
      },
      "source": [
        "**Inference**:-\n",
        "\n",
        "1.   The correlation matrix above clearly shows that the features 'Battery' and 'Display' are very strongly corelated with a correlation score of 0.9 ,so they both carry the same information to the dataset and they might harm the model , and one of them can be dropped \n",
        "2.   The features 'rating' and 'battery' are also corelated but not so strogly corelated with a corelation score of 0.73 \n",
        "3. The features 'rating' and 'display' are also corelated but not so strogly corelated with a corelation score of 0.73\n",
        "\n"
      ]
    },
    {
      "cell_type": "code",
      "metadata": {
        "id": "RlMEsaVFjVpD",
        "colab_type": "code",
        "colab": {
          "base_uri": "https://localhost:8080/",
          "height": 187
        },
        "outputId": "a66149fb-f14f-4152-fbc6-7104417caa77"
      },
      "source": [
        "corr = df.corr() #plot with actual values\n",
        "corr.style.background_gradient(cmap='coolwarm').set_precision(2)"
      ],
      "execution_count": 237,
      "outputs": [
        {
          "output_type": "execute_result",
          "data": {
            "text/html": [
              "<style  type=\"text/css\" >\n",
              "    #T_c5fd6948_c371_11ea_8b1b_0242ac1c0002row0_col0 {\n",
              "            background-color:  #b40426;\n",
              "            color:  #f1f1f1;\n",
              "        }    #T_c5fd6948_c371_11ea_8b1b_0242ac1c0002row0_col1 {\n",
              "            background-color:  #3b4cc0;\n",
              "            color:  #f1f1f1;\n",
              "        }    #T_c5fd6948_c371_11ea_8b1b_0242ac1c0002row0_col2 {\n",
              "            background-color:  #3b4cc0;\n",
              "            color:  #f1f1f1;\n",
              "        }    #T_c5fd6948_c371_11ea_8b1b_0242ac1c0002row0_col3 {\n",
              "            background-color:  #3b4cc0;\n",
              "            color:  #f1f1f1;\n",
              "        }    #T_c5fd6948_c371_11ea_8b1b_0242ac1c0002row0_col4 {\n",
              "            background-color:  #3b4cc0;\n",
              "            color:  #f1f1f1;\n",
              "        }    #T_c5fd6948_c371_11ea_8b1b_0242ac1c0002row0_col5 {\n",
              "            background-color:  #3b4cc0;\n",
              "            color:  #f1f1f1;\n",
              "        }    #T_c5fd6948_c371_11ea_8b1b_0242ac1c0002row0_col6 {\n",
              "            background-color:  #3b4cc0;\n",
              "            color:  #f1f1f1;\n",
              "        }    #T_c5fd6948_c371_11ea_8b1b_0242ac1c0002row1_col0 {\n",
              "            background-color:  #6687ed;\n",
              "            color:  #000000;\n",
              "        }    #T_c5fd6948_c371_11ea_8b1b_0242ac1c0002row1_col1 {\n",
              "            background-color:  #b40426;\n",
              "            color:  #f1f1f1;\n",
              "        }    #T_c5fd6948_c371_11ea_8b1b_0242ac1c0002row1_col2 {\n",
              "            background-color:  #f6bda2;\n",
              "            color:  #000000;\n",
              "        }    #T_c5fd6948_c371_11ea_8b1b_0242ac1c0002row1_col3 {\n",
              "            background-color:  #d8dce2;\n",
              "            color:  #000000;\n",
              "        }    #T_c5fd6948_c371_11ea_8b1b_0242ac1c0002row1_col4 {\n",
              "            background-color:  #f7ba9f;\n",
              "            color:  #000000;\n",
              "        }    #T_c5fd6948_c371_11ea_8b1b_0242ac1c0002row1_col5 {\n",
              "            background-color:  #f1cdba;\n",
              "            color:  #000000;\n",
              "        }    #T_c5fd6948_c371_11ea_8b1b_0242ac1c0002row1_col6 {\n",
              "            background-color:  #e7d7ce;\n",
              "            color:  #000000;\n",
              "        }    #T_c5fd6948_c371_11ea_8b1b_0242ac1c0002row2_col0 {\n",
              "            background-color:  #465ecf;\n",
              "            color:  #f1f1f1;\n",
              "        }    #T_c5fd6948_c371_11ea_8b1b_0242ac1c0002row2_col1 {\n",
              "            background-color:  #f3c8b2;\n",
              "            color:  #000000;\n",
              "        }    #T_c5fd6948_c371_11ea_8b1b_0242ac1c0002row2_col2 {\n",
              "            background-color:  #b40426;\n",
              "            color:  #f1f1f1;\n",
              "        }    #T_c5fd6948_c371_11ea_8b1b_0242ac1c0002row2_col3 {\n",
              "            background-color:  #a6c4fe;\n",
              "            color:  #000000;\n",
              "        }    #T_c5fd6948_c371_11ea_8b1b_0242ac1c0002row2_col4 {\n",
              "            background-color:  #cd423b;\n",
              "            color:  #f1f1f1;\n",
              "        }    #T_c5fd6948_c371_11ea_8b1b_0242ac1c0002row2_col5 {\n",
              "            background-color:  #f08a6c;\n",
              "            color:  #000000;\n",
              "        }    #T_c5fd6948_c371_11ea_8b1b_0242ac1c0002row2_col6 {\n",
              "            background-color:  #d6dce4;\n",
              "            color:  #000000;\n",
              "        }    #T_c5fd6948_c371_11ea_8b1b_0242ac1c0002row3_col0 {\n",
              "            background-color:  #81a4fb;\n",
              "            color:  #000000;\n",
              "        }    #T_c5fd6948_c371_11ea_8b1b_0242ac1c0002row3_col1 {\n",
              "            background-color:  #e4d9d2;\n",
              "            color:  #000000;\n",
              "        }    #T_c5fd6948_c371_11ea_8b1b_0242ac1c0002row3_col2 {\n",
              "            background-color:  #cdd9ec;\n",
              "            color:  #000000;\n",
              "        }    #T_c5fd6948_c371_11ea_8b1b_0242ac1c0002row3_col3 {\n",
              "            background-color:  #b40426;\n",
              "            color:  #f1f1f1;\n",
              "        }    #T_c5fd6948_c371_11ea_8b1b_0242ac1c0002row3_col4 {\n",
              "            background-color:  #d2dbe8;\n",
              "            color:  #000000;\n",
              "        }    #T_c5fd6948_c371_11ea_8b1b_0242ac1c0002row3_col5 {\n",
              "            background-color:  #d4dbe6;\n",
              "            color:  #000000;\n",
              "        }    #T_c5fd6948_c371_11ea_8b1b_0242ac1c0002row3_col6 {\n",
              "            background-color:  #eed0c0;\n",
              "            color:  #000000;\n",
              "        }    #T_c5fd6948_c371_11ea_8b1b_0242ac1c0002row4_col0 {\n",
              "            background-color:  #3b4cc0;\n",
              "            color:  #f1f1f1;\n",
              "        }    #T_c5fd6948_c371_11ea_8b1b_0242ac1c0002row4_col1 {\n",
              "            background-color:  #f2cbb7;\n",
              "            color:  #000000;\n",
              "        }    #T_c5fd6948_c371_11ea_8b1b_0242ac1c0002row4_col2 {\n",
              "            background-color:  #cf453c;\n",
              "            color:  #f1f1f1;\n",
              "        }    #T_c5fd6948_c371_11ea_8b1b_0242ac1c0002row4_col3 {\n",
              "            background-color:  #a2c1ff;\n",
              "            color:  #000000;\n",
              "        }    #T_c5fd6948_c371_11ea_8b1b_0242ac1c0002row4_col4 {\n",
              "            background-color:  #b40426;\n",
              "            color:  #f1f1f1;\n",
              "        }    #T_c5fd6948_c371_11ea_8b1b_0242ac1c0002row4_col5 {\n",
              "            background-color:  #ee8468;\n",
              "            color:  #000000;\n",
              "        }    #T_c5fd6948_c371_11ea_8b1b_0242ac1c0002row4_col6 {\n",
              "            background-color:  #ebd3c6;\n",
              "            color:  #000000;\n",
              "        }    #T_c5fd6948_c371_11ea_8b1b_0242ac1c0002row5_col0 {\n",
              "            background-color:  #4a63d3;\n",
              "            color:  #f1f1f1;\n",
              "        }    #T_c5fd6948_c371_11ea_8b1b_0242ac1c0002row5_col1 {\n",
              "            background-color:  #ead5c9;\n",
              "            color:  #000000;\n",
              "        }    #T_c5fd6948_c371_11ea_8b1b_0242ac1c0002row5_col2 {\n",
              "            background-color:  #f08a6c;\n",
              "            color:  #000000;\n",
              "        }    #T_c5fd6948_c371_11ea_8b1b_0242ac1c0002row5_col3 {\n",
              "            background-color:  #b1cbfc;\n",
              "            color:  #000000;\n",
              "        }    #T_c5fd6948_c371_11ea_8b1b_0242ac1c0002row5_col4 {\n",
              "            background-color:  #ec7f63;\n",
              "            color:  #000000;\n",
              "        }    #T_c5fd6948_c371_11ea_8b1b_0242ac1c0002row5_col5 {\n",
              "            background-color:  #b40426;\n",
              "            color:  #f1f1f1;\n",
              "        }    #T_c5fd6948_c371_11ea_8b1b_0242ac1c0002row5_col6 {\n",
              "            background-color:  #e7d7ce;\n",
              "            color:  #000000;\n",
              "        }    #T_c5fd6948_c371_11ea_8b1b_0242ac1c0002row6_col0 {\n",
              "            background-color:  #688aef;\n",
              "            color:  #000000;\n",
              "        }    #T_c5fd6948_c371_11ea_8b1b_0242ac1c0002row6_col1 {\n",
              "            background-color:  #e8d6cc;\n",
              "            color:  #000000;\n",
              "        }    #T_c5fd6948_c371_11ea_8b1b_0242ac1c0002row6_col2 {\n",
              "            background-color:  #e5d8d1;\n",
              "            color:  #000000;\n",
              "        }    #T_c5fd6948_c371_11ea_8b1b_0242ac1c0002row6_col3 {\n",
              "            background-color:  #e7d7ce;\n",
              "            color:  #000000;\n",
              "        }    #T_c5fd6948_c371_11ea_8b1b_0242ac1c0002row6_col4 {\n",
              "            background-color:  #f4c5ad;\n",
              "            color:  #000000;\n",
              "        }    #T_c5fd6948_c371_11ea_8b1b_0242ac1c0002row6_col5 {\n",
              "            background-color:  #f0cdbb;\n",
              "            color:  #000000;\n",
              "        }    #T_c5fd6948_c371_11ea_8b1b_0242ac1c0002row6_col6 {\n",
              "            background-color:  #b40426;\n",
              "            color:  #f1f1f1;\n",
              "        }</style><table id=\"T_c5fd6948_c371_11ea_8b1b_0242ac1c0002\" ><thead>    <tr>        <th class=\"blank level0\" ></th>        <th class=\"col_heading level0 col0\" >Ram</th>        <th class=\"col_heading level0 col1\" >New_back_camera</th>        <th class=\"col_heading level0 col2\" >battery</th>        <th class=\"col_heading level0 col3\" >Internal_storage</th>        <th class=\"col_heading level0 col4\" >display</th>        <th class=\"col_heading level0 col5\" >rating</th>        <th class=\"col_heading level0 col6\" >price</th>    </tr></thead><tbody>\n",
              "                <tr>\n",
              "                        <th id=\"T_c5fd6948_c371_11ea_8b1b_0242ac1c0002level0_row0\" class=\"row_heading level0 row0\" >Ram</th>\n",
              "                        <td id=\"T_c5fd6948_c371_11ea_8b1b_0242ac1c0002row0_col0\" class=\"data row0 col0\" >1.00</td>\n",
              "                        <td id=\"T_c5fd6948_c371_11ea_8b1b_0242ac1c0002row0_col1\" class=\"data row0 col1\" >-0.15</td>\n",
              "                        <td id=\"T_c5fd6948_c371_11ea_8b1b_0242ac1c0002row0_col2\" class=\"data row0 col2\" >-0.28</td>\n",
              "                        <td id=\"T_c5fd6948_c371_11ea_8b1b_0242ac1c0002row0_col3\" class=\"data row0 col3\" >-0.05</td>\n",
              "                        <td id=\"T_c5fd6948_c371_11ea_8b1b_0242ac1c0002row0_col4\" class=\"data row0 col4\" >-0.34</td>\n",
              "                        <td id=\"T_c5fd6948_c371_11ea_8b1b_0242ac1c0002row0_col5\" class=\"data row0 col5\" >-0.27</td>\n",
              "                        <td id=\"T_c5fd6948_c371_11ea_8b1b_0242ac1c0002row0_col6\" class=\"data row0 col6\" >-0.14</td>\n",
              "            </tr>\n",
              "            <tr>\n",
              "                        <th id=\"T_c5fd6948_c371_11ea_8b1b_0242ac1c0002level0_row1\" class=\"row_heading level0 row1\" >New_back_camera</th>\n",
              "                        <td id=\"T_c5fd6948_c371_11ea_8b1b_0242ac1c0002row1_col0\" class=\"data row1 col0\" >-0.15</td>\n",
              "                        <td id=\"T_c5fd6948_c371_11ea_8b1b_0242ac1c0002row1_col1\" class=\"data row1 col1\" >1.00</td>\n",
              "                        <td id=\"T_c5fd6948_c371_11ea_8b1b_0242ac1c0002row1_col2\" class=\"data row1 col2\" >0.55</td>\n",
              "                        <td id=\"T_c5fd6948_c371_11ea_8b1b_0242ac1c0002row1_col3\" class=\"data row1 col3\" >0.46</td>\n",
              "                        <td id=\"T_c5fd6948_c371_11ea_8b1b_0242ac1c0002row1_col4\" class=\"data row1 col4\" >0.54</td>\n",
              "                        <td id=\"T_c5fd6948_c371_11ea_8b1b_0242ac1c0002row1_col5\" class=\"data row1 col5\" >0.48</td>\n",
              "                        <td id=\"T_c5fd6948_c371_11ea_8b1b_0242ac1c0002row1_col6\" class=\"data row1 col6\" >0.48</td>\n",
              "            </tr>\n",
              "            <tr>\n",
              "                        <th id=\"T_c5fd6948_c371_11ea_8b1b_0242ac1c0002level0_row2\" class=\"row_heading level0 row2\" >battery</th>\n",
              "                        <td id=\"T_c5fd6948_c371_11ea_8b1b_0242ac1c0002row2_col0\" class=\"data row2 col0\" >-0.28</td>\n",
              "                        <td id=\"T_c5fd6948_c371_11ea_8b1b_0242ac1c0002row2_col1\" class=\"data row2 col1\" >0.55</td>\n",
              "                        <td id=\"T_c5fd6948_c371_11ea_8b1b_0242ac1c0002row2_col2\" class=\"data row2 col2\" >1.00</td>\n",
              "                        <td id=\"T_c5fd6948_c371_11ea_8b1b_0242ac1c0002row2_col3\" class=\"data row2 col3\" >0.29</td>\n",
              "                        <td id=\"T_c5fd6948_c371_11ea_8b1b_0242ac1c0002row2_col4\" class=\"data row2 col4\" >0.90</td>\n",
              "                        <td id=\"T_c5fd6948_c371_11ea_8b1b_0242ac1c0002row2_col5\" class=\"data row2 col5\" >0.73</td>\n",
              "                        <td id=\"T_c5fd6948_c371_11ea_8b1b_0242ac1c0002row2_col6\" class=\"data row2 col6\" >0.40</td>\n",
              "            </tr>\n",
              "            <tr>\n",
              "                        <th id=\"T_c5fd6948_c371_11ea_8b1b_0242ac1c0002level0_row3\" class=\"row_heading level0 row3\" >Internal_storage</th>\n",
              "                        <td id=\"T_c5fd6948_c371_11ea_8b1b_0242ac1c0002row3_col0\" class=\"data row3 col0\" >-0.05</td>\n",
              "                        <td id=\"T_c5fd6948_c371_11ea_8b1b_0242ac1c0002row3_col1\" class=\"data row3 col1\" >0.46</td>\n",
              "                        <td id=\"T_c5fd6948_c371_11ea_8b1b_0242ac1c0002row3_col2\" class=\"data row3 col2\" >0.29</td>\n",
              "                        <td id=\"T_c5fd6948_c371_11ea_8b1b_0242ac1c0002row3_col3\" class=\"data row3 col3\" >1.00</td>\n",
              "                        <td id=\"T_c5fd6948_c371_11ea_8b1b_0242ac1c0002row3_col4\" class=\"data row3 col4\" >0.28</td>\n",
              "                        <td id=\"T_c5fd6948_c371_11ea_8b1b_0242ac1c0002row3_col5\" class=\"data row3 col5\" >0.32</td>\n",
              "                        <td id=\"T_c5fd6948_c371_11ea_8b1b_0242ac1c0002row3_col6\" class=\"data row3 col6\" >0.52</td>\n",
              "            </tr>\n",
              "            <tr>\n",
              "                        <th id=\"T_c5fd6948_c371_11ea_8b1b_0242ac1c0002level0_row4\" class=\"row_heading level0 row4\" >display</th>\n",
              "                        <td id=\"T_c5fd6948_c371_11ea_8b1b_0242ac1c0002row4_col0\" class=\"data row4 col0\" >-0.34</td>\n",
              "                        <td id=\"T_c5fd6948_c371_11ea_8b1b_0242ac1c0002row4_col1\" class=\"data row4 col1\" >0.54</td>\n",
              "                        <td id=\"T_c5fd6948_c371_11ea_8b1b_0242ac1c0002row4_col2\" class=\"data row4 col2\" >0.90</td>\n",
              "                        <td id=\"T_c5fd6948_c371_11ea_8b1b_0242ac1c0002row4_col3\" class=\"data row4 col3\" >0.28</td>\n",
              "                        <td id=\"T_c5fd6948_c371_11ea_8b1b_0242ac1c0002row4_col4\" class=\"data row4 col4\" >1.00</td>\n",
              "                        <td id=\"T_c5fd6948_c371_11ea_8b1b_0242ac1c0002row4_col5\" class=\"data row4 col5\" >0.74</td>\n",
              "                        <td id=\"T_c5fd6948_c371_11ea_8b1b_0242ac1c0002row4_col6\" class=\"data row4 col6\" >0.50</td>\n",
              "            </tr>\n",
              "            <tr>\n",
              "                        <th id=\"T_c5fd6948_c371_11ea_8b1b_0242ac1c0002level0_row5\" class=\"row_heading level0 row5\" >rating</th>\n",
              "                        <td id=\"T_c5fd6948_c371_11ea_8b1b_0242ac1c0002row5_col0\" class=\"data row5 col0\" >-0.27</td>\n",
              "                        <td id=\"T_c5fd6948_c371_11ea_8b1b_0242ac1c0002row5_col1\" class=\"data row5 col1\" >0.48</td>\n",
              "                        <td id=\"T_c5fd6948_c371_11ea_8b1b_0242ac1c0002row5_col2\" class=\"data row5 col2\" >0.73</td>\n",
              "                        <td id=\"T_c5fd6948_c371_11ea_8b1b_0242ac1c0002row5_col3\" class=\"data row5 col3\" >0.32</td>\n",
              "                        <td id=\"T_c5fd6948_c371_11ea_8b1b_0242ac1c0002row5_col4\" class=\"data row5 col4\" >0.74</td>\n",
              "                        <td id=\"T_c5fd6948_c371_11ea_8b1b_0242ac1c0002row5_col5\" class=\"data row5 col5\" >1.00</td>\n",
              "                        <td id=\"T_c5fd6948_c371_11ea_8b1b_0242ac1c0002row5_col6\" class=\"data row5 col6\" >0.48</td>\n",
              "            </tr>\n",
              "            <tr>\n",
              "                        <th id=\"T_c5fd6948_c371_11ea_8b1b_0242ac1c0002level0_row6\" class=\"row_heading level0 row6\" >price</th>\n",
              "                        <td id=\"T_c5fd6948_c371_11ea_8b1b_0242ac1c0002row6_col0\" class=\"data row6 col0\" >-0.14</td>\n",
              "                        <td id=\"T_c5fd6948_c371_11ea_8b1b_0242ac1c0002row6_col1\" class=\"data row6 col1\" >0.48</td>\n",
              "                        <td id=\"T_c5fd6948_c371_11ea_8b1b_0242ac1c0002row6_col2\" class=\"data row6 col2\" >0.40</td>\n",
              "                        <td id=\"T_c5fd6948_c371_11ea_8b1b_0242ac1c0002row6_col3\" class=\"data row6 col3\" >0.52</td>\n",
              "                        <td id=\"T_c5fd6948_c371_11ea_8b1b_0242ac1c0002row6_col4\" class=\"data row6 col4\" >0.50</td>\n",
              "                        <td id=\"T_c5fd6948_c371_11ea_8b1b_0242ac1c0002row6_col5\" class=\"data row6 col5\" >0.48</td>\n",
              "                        <td id=\"T_c5fd6948_c371_11ea_8b1b_0242ac1c0002row6_col6\" class=\"data row6 col6\" >1.00</td>\n",
              "            </tr>\n",
              "    </tbody></table>"
            ],
            "text/plain": [
              "<pandas.io.formats.style.Styler at 0x7f54763ec898>"
            ]
          },
          "metadata": {
            "tags": []
          },
          "execution_count": 237
        }
      ]
    },
    {
      "cell_type": "code",
      "metadata": {
        "id": "-XrBlWJ9jqyD",
        "colab_type": "code",
        "colab": {
          "base_uri": "https://localhost:8080/",
          "height": 153
        },
        "outputId": "4a8889b1-ac36-4701-8658-4ef89e2c0ab3"
      },
      "source": [
        "price_corr = df.corr()['price']\n",
        "price_corr"
      ],
      "execution_count": 238,
      "outputs": [
        {
          "output_type": "execute_result",
          "data": {
            "text/plain": [
              "Ram                -0.144331\n",
              "New_back_camera     0.476944\n",
              "battery             0.399584\n",
              "Internal_storage    0.516987\n",
              "display             0.497244\n",
              "rating              0.475312\n",
              "price               1.000000\n",
              "Name: price, dtype: float64"
            ]
          },
          "metadata": {
            "tags": []
          },
          "execution_count": 238
        }
      ]
    },
    {
      "cell_type": "markdown",
      "metadata": {
        "id": "rqELPAyj7rkp",
        "colab_type": "text"
      },
      "source": [
        "**Inference :-**\n",
        "\n",
        "1.   The above 'Price correlation' table shows the extent of impact every feature has on the dependent variable 'Price'.\n",
        "2.   The features 'Internal storage' and 'display' has the highest effect on 'Price' with Corelation scores of 0.51 and 0.49 each\n",
        "\n"
      ]
    },
    {
      "cell_type": "code",
      "metadata": {
        "id": "ScWmxvQjpNh6",
        "colab_type": "code",
        "colab": {
          "base_uri": "https://localhost:8080/",
          "height": 1000
        },
        "outputId": "5fb3e5c9-019b-474a-88d3-bb5a7ce13922"
      },
      "source": [
        "sns.pairplot(df)"
      ],
      "execution_count": 239,
      "outputs": [
        {
          "output_type": "execute_result",
          "data": {
            "text/plain": [
              "<seaborn.axisgrid.PairGrid at 0x7f5475b1eb38>"
            ]
          },
          "metadata": {
            "tags": []
          },
          "execution_count": 239
        },
        {
          "output_type": "display_data",
          "data": {
            "image/png": "[encoded data removed]",
            "text/plain": [
              "<Figure size 1260x1260 with 56 Axes>"
            ]
          },
          "metadata": {
            "tags": [],
            "needs_background": "light"
          }
        }
      ]
    },
    {
      "cell_type": "markdown",
      "metadata": {
        "id": "5bx0mM3ZFiI6",
        "colab_type": "text"
      },
      "source": [
        "**Inference :-**\n",
        "\n",
        "*   The pairplot shows that there's a linear relation between features with higher corelation scores and no linear relation between features with medium and lesser corelation scores\n",
        "*   The features battery and display have a linear relation \n",
        "\n"
      ]
    },
    {
      "cell_type": "code",
      "metadata": {
        "id": "gGMYVnodlOr0",
        "colab_type": "code",
        "colab": {
          "base_uri": "https://localhost:8080/",
          "height": 386
        },
        "outputId": "f9a1d2d7-e1a6-4bc8-fa45-6fdb312dd66f"
      },
      "source": [
        "sns.relplot('display','battery',data=df,kind='line')"
      ],
      "execution_count": 240,
      "outputs": [
        {
          "output_type": "execute_result",
          "data": {
            "text/plain": [
              "<seaborn.axisgrid.FacetGrid at 0x7f54728f13c8>"
            ]
          },
          "metadata": {
            "tags": []
          },
          "execution_count": 240
        },
        {
          "output_type": "display_data",
          "data": {
            "image/png": "[encoded data removed]",
            "text/plain": [
              "<Figure size 360x360 with 1 Axes>"
            ]
          },
          "metadata": {
            "tags": [],
            "needs_background": "light"
          }
        }
      ]
    },
    {
      "cell_type": "code",
      "metadata": {
        "id": "X8R1_wKflpx0",
        "colab_type": "code",
        "colab": {
          "base_uri": "https://localhost:8080/",
          "height": 458
        },
        "outputId": "66d1a9fa-a9b1-4e81-8266-a1a1bfd138f8"
      },
      "source": [
        "sns.jointplot('display','battery',df)"
      ],
      "execution_count": 241,
      "outputs": [
        {
          "output_type": "execute_result",
          "data": {
            "text/plain": [
              "<seaborn.axisgrid.JointGrid at 0x7f5472903048>"
            ]
          },
          "metadata": {
            "tags": []
          },
          "execution_count": 241
        },
        {
          "output_type": "display_data",
          "data": {
            "image/png": "[encoded data removed]",
            "text/plain": [
              "<Figure size 432x432 with 3 Axes>"
            ]
          },
          "metadata": {
            "tags": [],
            "needs_background": "light"
          }
        }
      ]
    },
    {
      "cell_type": "markdown",
      "metadata": {
        "id": "v2Gl9CVG91gR",
        "colab_type": "text"
      },
      "source": [
        "**Inference:-**\n",
        "\n",
        "1.   Since the corelation score between the features 'battery' and 'display' is 0.9 ,they give a linear distribution curve in the jointplot and relative plots, as we can clearly see how the battery is increasing with increase in the value of display.\n",
        "\n",
        "2. Since both these features have the same effect on the dataset v ,one of them can be dropped\n",
        "\n",
        "\n"
      ]
    },
    {
      "cell_type": "code",
      "metadata": {
        "id": "aZPyuQ1_89Yt",
        "colab_type": "code",
        "colab": {
          "base_uri": "https://localhost:8080/",
          "height": 458
        },
        "outputId": "bcc0d28e-39c4-41b0-adf4-1248f25cb366"
      },
      "source": [
        "sns.jointplot('battery','rating',df)"
      ],
      "execution_count": 271,
      "outputs": [
        {
          "output_type": "execute_result",
          "data": {
            "text/plain": [
              "<seaborn.axisgrid.JointGrid at 0x7f547263c6a0>"
            ]
          },
          "metadata": {
            "tags": []
          },
          "execution_count": 271
        },
        {
          "output_type": "display_data",
          "data": {
            "image/png": "[encoded data removed]",
            "text/plain": [
              "<Figure size 432x432 with 3 Axes>"
            ]
          },
          "metadata": {
            "tags": [],
            "needs_background": "light"
          }
        }
      ]
    },
    {
      "cell_type": "markdown",
      "metadata": {
        "id": "v9PQ2B9s_z9I",
        "colab_type": "text"
      },
      "source": [
        "**Inference :-**\n",
        "\n",
        "1.   Since the corelation between battery and rating is 0.73 and not so strongly corelated the Jointplot doesn't show a linear relationship between these features\n",
        "\n"
      ]
    },
    {
      "cell_type": "code",
      "metadata": {
        "id": "Wl4mMOSw_L8X",
        "colab_type": "code",
        "colab": {
          "base_uri": "https://localhost:8080/",
          "height": 419
        },
        "outputId": "95bd2a0e-c6d1-4b5e-a24c-c12102bb89c9"
      },
      "source": [
        "df"
      ],
      "execution_count": 242,
      "outputs": [
        {
          "output_type": "execute_result",
          "data": {
            "text/html": [
              "<div>\n",
              "<style scoped>\n",
              "    .dataframe tbody tr th:only-of-type {\n",
              "        vertical-align: middle;\n",
              "    }\n",
              "\n",
              "    .dataframe tbody tr th {\n",
              "        vertical-align: top;\n",
              "    }\n",
              "\n",
              "    .dataframe thead th {\n",
              "        text-align: right;\n",
              "    }\n",
              "</style>\n",
              "<table border=\"1\" class=\"dataframe\">\n",
              "  <thead>\n",
              "    <tr style=\"text-align: right;\">\n",
              "      <th></th>\n",
              "      <th>Ram</th>\n",
              "      <th>New_back_camera</th>\n",
              "      <th>battery</th>\n",
              "      <th>Internal_storage</th>\n",
              "      <th>display</th>\n",
              "      <th>rating</th>\n",
              "      <th>price</th>\n",
              "    </tr>\n",
              "  </thead>\n",
              "  <tbody>\n",
              "    <tr>\n",
              "      <th>0</th>\n",
              "      <td>4.0</td>\n",
              "      <td>12</td>\n",
              "      <td>5000</td>\n",
              "      <td>64</td>\n",
              "      <td>6.22</td>\n",
              "      <td>4.4</td>\n",
              "      <td>9799</td>\n",
              "    </tr>\n",
              "    <tr>\n",
              "      <th>1</th>\n",
              "      <td>4.0</td>\n",
              "      <td>48</td>\n",
              "      <td>5000</td>\n",
              "      <td>128</td>\n",
              "      <td>6.50</td>\n",
              "      <td>4.5</td>\n",
              "      <td>11999</td>\n",
              "    </tr>\n",
              "    <tr>\n",
              "      <th>2</th>\n",
              "      <td>4.0</td>\n",
              "      <td>48</td>\n",
              "      <td>5000</td>\n",
              "      <td>128</td>\n",
              "      <td>6.50</td>\n",
              "      <td>4.5</td>\n",
              "      <td>11999</td>\n",
              "    </tr>\n",
              "    <tr>\n",
              "      <th>3</th>\n",
              "      <td>6.0</td>\n",
              "      <td>64</td>\n",
              "      <td>4500</td>\n",
              "      <td>128</td>\n",
              "      <td>6.53</td>\n",
              "      <td>4.5</td>\n",
              "      <td>16999</td>\n",
              "    </tr>\n",
              "    <tr>\n",
              "      <th>4</th>\n",
              "      <td>8.0</td>\n",
              "      <td>64</td>\n",
              "      <td>4300</td>\n",
              "      <td>128</td>\n",
              "      <td>6.50</td>\n",
              "      <td>4.4</td>\n",
              "      <td>17999</td>\n",
              "    </tr>\n",
              "    <tr>\n",
              "      <th>...</th>\n",
              "      <td>...</td>\n",
              "      <td>...</td>\n",
              "      <td>...</td>\n",
              "      <td>...</td>\n",
              "      <td>...</td>\n",
              "      <td>...</td>\n",
              "      <td>...</td>\n",
              "    </tr>\n",
              "    <tr>\n",
              "      <th>310</th>\n",
              "      <td>4.0</td>\n",
              "      <td>16</td>\n",
              "      <td>3500</td>\n",
              "      <td>64</td>\n",
              "      <td>6.00</td>\n",
              "      <td>4.4</td>\n",
              "      <td>19500</td>\n",
              "    </tr>\n",
              "    <tr>\n",
              "      <th>311</th>\n",
              "      <td>1.0</td>\n",
              "      <td>8</td>\n",
              "      <td>2700</td>\n",
              "      <td>16</td>\n",
              "      <td>5.00</td>\n",
              "      <td>4.3</td>\n",
              "      <td>5449</td>\n",
              "    </tr>\n",
              "    <tr>\n",
              "      <th>312</th>\n",
              "      <td>4.0</td>\n",
              "      <td>13</td>\n",
              "      <td>3180</td>\n",
              "      <td>64</td>\n",
              "      <td>5.70</td>\n",
              "      <td>4.3</td>\n",
              "      <td>13990</td>\n",
              "    </tr>\n",
              "    <tr>\n",
              "      <th>313</th>\n",
              "      <td>42.0</td>\n",
              "      <td>3</td>\n",
              "      <td>1100</td>\n",
              "      <td>42</td>\n",
              "      <td>2.40</td>\n",
              "      <td>2.1</td>\n",
              "      <td>12999</td>\n",
              "    </tr>\n",
              "    <tr>\n",
              "      <th>314</th>\n",
              "      <td>4.0</td>\n",
              "      <td>13</td>\n",
              "      <td>3750</td>\n",
              "      <td>64</td>\n",
              "      <td>6.20</td>\n",
              "      <td>4.6</td>\n",
              "      <td>14074</td>\n",
              "    </tr>\n",
              "  </tbody>\n",
              "</table>\n",
              "<p>315 rows × 7 columns</p>\n",
              "</div>"
            ],
            "text/plain": [
              "      Ram  New_back_camera  battery  Internal_storage  display  rating  price\n",
              "0     4.0               12     5000                64     6.22     4.4   9799\n",
              "1     4.0               48     5000               128     6.50     4.5  11999\n",
              "2     4.0               48     5000               128     6.50     4.5  11999\n",
              "3     6.0               64     4500               128     6.53     4.5  16999\n",
              "4     8.0               64     4300               128     6.50     4.4  17999\n",
              "..    ...              ...      ...               ...      ...     ...    ...\n",
              "310   4.0               16     3500                64     6.00     4.4  19500\n",
              "311   1.0                8     2700                16     5.00     4.3   5449\n",
              "312   4.0               13     3180                64     5.70     4.3  13990\n",
              "313  42.0                3     1100                42     2.40     2.1  12999\n",
              "314   4.0               13     3750                64     6.20     4.6  14074\n",
              "\n",
              "[315 rows x 7 columns]"
            ]
          },
          "metadata": {
            "tags": []
          },
          "execution_count": 242
        }
      ]
    },
    {
      "cell_type": "markdown",
      "metadata": {
        "id": "z8kZB4jY_vqI",
        "colab_type": "text"
      },
      "source": [
        "# **REMOVING OUTLIERS FROM EACH FEATURE**"
      ]
    },
    {
      "cell_type": "code",
      "metadata": {
        "id": "j57YDtDn_4hG",
        "colab_type": "code",
        "colab": {
          "base_uri": "https://localhost:8080/",
          "height": 34
        },
        "outputId": "b7c71dca-464d-43dd-a3c4-a63e0627dc31"
      },
      "source": [
        "Q1 = np.quantile(df['Ram'],0.25)\n",
        "Q3 = np.quantile(df['Ram'],0.75)\n",
        "IQR = Q3-Q1\n",
        "LB = Q1-(1.5*IQR)\n",
        "UB = Q3+(1.5*IQR)\n",
        "print(LB,UB,IQR)\n",
        "#df.drop(df[ (df.Ram > UB) | (df.Ram < LB) ].index , inplace=True)"
      ],
      "execution_count": 243,
      "outputs": [
        {
          "output_type": "stream",
          "text": [
            "-2.0 14.0 4.0\n"
          ],
          "name": "stdout"
        }
      ]
    },
    {
      "cell_type": "code",
      "metadata": {
        "id": "zOfR2JE3AUcL",
        "colab_type": "code",
        "colab": {
          "base_uri": "https://localhost:8080/",
          "height": 419
        },
        "outputId": "339e235a-ea75-4738-e2d1-9ccff1fb68aa"
      },
      "source": [
        "df.drop(df[ (df.Ram > UB) | (df.Ram < LB) ].index , inplace=True)\n",
        "df"
      ],
      "execution_count": 244,
      "outputs": [
        {
          "output_type": "execute_result",
          "data": {
            "text/html": [
              "<div>\n",
              "<style scoped>\n",
              "    .dataframe tbody tr th:only-of-type {\n",
              "        vertical-align: middle;\n",
              "    }\n",
              "\n",
              "    .dataframe tbody tr th {\n",
              "        vertical-align: top;\n",
              "    }\n",
              "\n",
              "    .dataframe thead th {\n",
              "        text-align: right;\n",
              "    }\n",
              "</style>\n",
              "<table border=\"1\" class=\"dataframe\">\n",
              "  <thead>\n",
              "    <tr style=\"text-align: right;\">\n",
              "      <th></th>\n",
              "      <th>Ram</th>\n",
              "      <th>New_back_camera</th>\n",
              "      <th>battery</th>\n",
              "      <th>Internal_storage</th>\n",
              "      <th>display</th>\n",
              "      <th>rating</th>\n",
              "      <th>price</th>\n",
              "    </tr>\n",
              "  </thead>\n",
              "  <tbody>\n",
              "    <tr>\n",
              "      <th>0</th>\n",
              "      <td>4.0</td>\n",
              "      <td>12</td>\n",
              "      <td>5000</td>\n",
              "      <td>64</td>\n",
              "      <td>6.22</td>\n",
              "      <td>4.4</td>\n",
              "      <td>9799</td>\n",
              "    </tr>\n",
              "    <tr>\n",
              "      <th>1</th>\n",
              "      <td>4.0</td>\n",
              "      <td>48</td>\n",
              "      <td>5000</td>\n",
              "      <td>128</td>\n",
              "      <td>6.50</td>\n",
              "      <td>4.5</td>\n",
              "      <td>11999</td>\n",
              "    </tr>\n",
              "    <tr>\n",
              "      <th>2</th>\n",
              "      <td>4.0</td>\n",
              "      <td>48</td>\n",
              "      <td>5000</td>\n",
              "      <td>128</td>\n",
              "      <td>6.50</td>\n",
              "      <td>4.5</td>\n",
              "      <td>11999</td>\n",
              "    </tr>\n",
              "    <tr>\n",
              "      <th>3</th>\n",
              "      <td>6.0</td>\n",
              "      <td>64</td>\n",
              "      <td>4500</td>\n",
              "      <td>128</td>\n",
              "      <td>6.53</td>\n",
              "      <td>4.5</td>\n",
              "      <td>16999</td>\n",
              "    </tr>\n",
              "    <tr>\n",
              "      <th>4</th>\n",
              "      <td>8.0</td>\n",
              "      <td>64</td>\n",
              "      <td>4300</td>\n",
              "      <td>128</td>\n",
              "      <td>6.50</td>\n",
              "      <td>4.4</td>\n",
              "      <td>17999</td>\n",
              "    </tr>\n",
              "    <tr>\n",
              "      <th>...</th>\n",
              "      <td>...</td>\n",
              "      <td>...</td>\n",
              "      <td>...</td>\n",
              "      <td>...</td>\n",
              "      <td>...</td>\n",
              "      <td>...</td>\n",
              "      <td>...</td>\n",
              "    </tr>\n",
              "    <tr>\n",
              "      <th>309</th>\n",
              "      <td>4.0</td>\n",
              "      <td>16</td>\n",
              "      <td>3260</td>\n",
              "      <td>64</td>\n",
              "      <td>6.30</td>\n",
              "      <td>4.5</td>\n",
              "      <td>24000</td>\n",
              "    </tr>\n",
              "    <tr>\n",
              "      <th>310</th>\n",
              "      <td>4.0</td>\n",
              "      <td>16</td>\n",
              "      <td>3500</td>\n",
              "      <td>64</td>\n",
              "      <td>6.00</td>\n",
              "      <td>4.4</td>\n",
              "      <td>19500</td>\n",
              "    </tr>\n",
              "    <tr>\n",
              "      <th>311</th>\n",
              "      <td>1.0</td>\n",
              "      <td>8</td>\n",
              "      <td>2700</td>\n",
              "      <td>16</td>\n",
              "      <td>5.00</td>\n",
              "      <td>4.3</td>\n",
              "      <td>5449</td>\n",
              "    </tr>\n",
              "    <tr>\n",
              "      <th>312</th>\n",
              "      <td>4.0</td>\n",
              "      <td>13</td>\n",
              "      <td>3180</td>\n",
              "      <td>64</td>\n",
              "      <td>5.70</td>\n",
              "      <td>4.3</td>\n",
              "      <td>13990</td>\n",
              "    </tr>\n",
              "    <tr>\n",
              "      <th>314</th>\n",
              "      <td>4.0</td>\n",
              "      <td>13</td>\n",
              "      <td>3750</td>\n",
              "      <td>64</td>\n",
              "      <td>6.20</td>\n",
              "      <td>4.6</td>\n",
              "      <td>14074</td>\n",
              "    </tr>\n",
              "  </tbody>\n",
              "</table>\n",
              "<p>263 rows × 7 columns</p>\n",
              "</div>"
            ],
            "text/plain": [
              "     Ram  New_back_camera  battery  Internal_storage  display  rating  price\n",
              "0    4.0               12     5000                64     6.22     4.4   9799\n",
              "1    4.0               48     5000               128     6.50     4.5  11999\n",
              "2    4.0               48     5000               128     6.50     4.5  11999\n",
              "3    6.0               64     4500               128     6.53     4.5  16999\n",
              "4    8.0               64     4300               128     6.50     4.4  17999\n",
              "..   ...              ...      ...               ...      ...     ...    ...\n",
              "309  4.0               16     3260                64     6.30     4.5  24000\n",
              "310  4.0               16     3500                64     6.00     4.4  19500\n",
              "311  1.0                8     2700                16     5.00     4.3   5449\n",
              "312  4.0               13     3180                64     5.70     4.3  13990\n",
              "314  4.0               13     3750                64     6.20     4.6  14074\n",
              "\n",
              "[263 rows x 7 columns]"
            ]
          },
          "metadata": {
            "tags": []
          },
          "execution_count": 244
        }
      ]
    },
    {
      "cell_type": "code",
      "metadata": {
        "id": "yOgTFXslAfOu",
        "colab_type": "code",
        "colab": {
          "base_uri": "https://localhost:8080/",
          "height": 34
        },
        "outputId": "b6ebb15b-c87d-4475-927c-633c7ea6306f"
      },
      "source": [
        "Q1 = np.quantile(df['New_back_camera'],0.25)\n",
        "Q3 = np.quantile(df['New_back_camera'],0.75)\n",
        "IQR = Q3-Q1\n",
        "LB = Q1-(1.5*IQR)\n",
        "UB = Q3+(1.5*IQR)\n",
        "print(LB,UB,IQR)\n",
        "#df.drop(df[ (df.New_back_camera > UB) | (df.New_back_camera < LB) ].index , inplace=True)"
      ],
      "execution_count": 245,
      "outputs": [
        {
          "output_type": "stream",
          "text": [
            "-39.5 100.5 35.0\n"
          ],
          "name": "stdout"
        }
      ]
    },
    {
      "cell_type": "code",
      "metadata": {
        "id": "7RJRtzqfBkN7",
        "colab_type": "code",
        "colab": {
          "base_uri": "https://localhost:8080/",
          "height": 419
        },
        "outputId": "e3341d52-f5eb-462c-98f9-c07f91183a80"
      },
      "source": [
        "df.drop(df[ (df.New_back_camera > UB) | (df.New_back_camera < LB) ].index , inplace=True)\n",
        "df"
      ],
      "execution_count": 246,
      "outputs": [
        {
          "output_type": "execute_result",
          "data": {
            "text/html": [
              "<div>\n",
              "<style scoped>\n",
              "    .dataframe tbody tr th:only-of-type {\n",
              "        vertical-align: middle;\n",
              "    }\n",
              "\n",
              "    .dataframe tbody tr th {\n",
              "        vertical-align: top;\n",
              "    }\n",
              "\n",
              "    .dataframe thead th {\n",
              "        text-align: right;\n",
              "    }\n",
              "</style>\n",
              "<table border=\"1\" class=\"dataframe\">\n",
              "  <thead>\n",
              "    <tr style=\"text-align: right;\">\n",
              "      <th></th>\n",
              "      <th>Ram</th>\n",
              "      <th>New_back_camera</th>\n",
              "      <th>battery</th>\n",
              "      <th>Internal_storage</th>\n",
              "      <th>display</th>\n",
              "      <th>rating</th>\n",
              "      <th>price</th>\n",
              "    </tr>\n",
              "  </thead>\n",
              "  <tbody>\n",
              "    <tr>\n",
              "      <th>0</th>\n",
              "      <td>4.0</td>\n",
              "      <td>12</td>\n",
              "      <td>5000</td>\n",
              "      <td>64</td>\n",
              "      <td>6.22</td>\n",
              "      <td>4.4</td>\n",
              "      <td>9799</td>\n",
              "    </tr>\n",
              "    <tr>\n",
              "      <th>1</th>\n",
              "      <td>4.0</td>\n",
              "      <td>48</td>\n",
              "      <td>5000</td>\n",
              "      <td>128</td>\n",
              "      <td>6.50</td>\n",
              "      <td>4.5</td>\n",
              "      <td>11999</td>\n",
              "    </tr>\n",
              "    <tr>\n",
              "      <th>2</th>\n",
              "      <td>4.0</td>\n",
              "      <td>48</td>\n",
              "      <td>5000</td>\n",
              "      <td>128</td>\n",
              "      <td>6.50</td>\n",
              "      <td>4.5</td>\n",
              "      <td>11999</td>\n",
              "    </tr>\n",
              "    <tr>\n",
              "      <th>3</th>\n",
              "      <td>6.0</td>\n",
              "      <td>64</td>\n",
              "      <td>4500</td>\n",
              "      <td>128</td>\n",
              "      <td>6.53</td>\n",
              "      <td>4.5</td>\n",
              "      <td>16999</td>\n",
              "    </tr>\n",
              "    <tr>\n",
              "      <th>4</th>\n",
              "      <td>8.0</td>\n",
              "      <td>64</td>\n",
              "      <td>4300</td>\n",
              "      <td>128</td>\n",
              "      <td>6.50</td>\n",
              "      <td>4.4</td>\n",
              "      <td>17999</td>\n",
              "    </tr>\n",
              "    <tr>\n",
              "      <th>...</th>\n",
              "      <td>...</td>\n",
              "      <td>...</td>\n",
              "      <td>...</td>\n",
              "      <td>...</td>\n",
              "      <td>...</td>\n",
              "      <td>...</td>\n",
              "      <td>...</td>\n",
              "    </tr>\n",
              "    <tr>\n",
              "      <th>309</th>\n",
              "      <td>4.0</td>\n",
              "      <td>16</td>\n",
              "      <td>3260</td>\n",
              "      <td>64</td>\n",
              "      <td>6.30</td>\n",
              "      <td>4.5</td>\n",
              "      <td>24000</td>\n",
              "    </tr>\n",
              "    <tr>\n",
              "      <th>310</th>\n",
              "      <td>4.0</td>\n",
              "      <td>16</td>\n",
              "      <td>3500</td>\n",
              "      <td>64</td>\n",
              "      <td>6.00</td>\n",
              "      <td>4.4</td>\n",
              "      <td>19500</td>\n",
              "    </tr>\n",
              "    <tr>\n",
              "      <th>311</th>\n",
              "      <td>1.0</td>\n",
              "      <td>8</td>\n",
              "      <td>2700</td>\n",
              "      <td>16</td>\n",
              "      <td>5.00</td>\n",
              "      <td>4.3</td>\n",
              "      <td>5449</td>\n",
              "    </tr>\n",
              "    <tr>\n",
              "      <th>312</th>\n",
              "      <td>4.0</td>\n",
              "      <td>13</td>\n",
              "      <td>3180</td>\n",
              "      <td>64</td>\n",
              "      <td>5.70</td>\n",
              "      <td>4.3</td>\n",
              "      <td>13990</td>\n",
              "    </tr>\n",
              "    <tr>\n",
              "      <th>314</th>\n",
              "      <td>4.0</td>\n",
              "      <td>13</td>\n",
              "      <td>3750</td>\n",
              "      <td>64</td>\n",
              "      <td>6.20</td>\n",
              "      <td>4.6</td>\n",
              "      <td>14074</td>\n",
              "    </tr>\n",
              "  </tbody>\n",
              "</table>\n",
              "<p>257 rows × 7 columns</p>\n",
              "</div>"
            ],
            "text/plain": [
              "     Ram  New_back_camera  battery  Internal_storage  display  rating  price\n",
              "0    4.0               12     5000                64     6.22     4.4   9799\n",
              "1    4.0               48     5000               128     6.50     4.5  11999\n",
              "2    4.0               48     5000               128     6.50     4.5  11999\n",
              "3    6.0               64     4500               128     6.53     4.5  16999\n",
              "4    8.0               64     4300               128     6.50     4.4  17999\n",
              "..   ...              ...      ...               ...      ...     ...    ...\n",
              "309  4.0               16     3260                64     6.30     4.5  24000\n",
              "310  4.0               16     3500                64     6.00     4.4  19500\n",
              "311  1.0                8     2700                16     5.00     4.3   5449\n",
              "312  4.0               13     3180                64     5.70     4.3  13990\n",
              "314  4.0               13     3750                64     6.20     4.6  14074\n",
              "\n",
              "[257 rows x 7 columns]"
            ]
          },
          "metadata": {
            "tags": []
          },
          "execution_count": 246
        }
      ]
    },
    {
      "cell_type": "code",
      "metadata": {
        "id": "qjTdy3RCCIel",
        "colab_type": "code",
        "colab": {
          "base_uri": "https://localhost:8080/",
          "height": 34
        },
        "outputId": "2e34031d-3546-4803-bb61-4e3494a22c89"
      },
      "source": [
        "Q1 = np.quantile(df['battery'],0.25)\n",
        "Q3 = np.quantile(df['battery'],0.75)\n",
        "IQR = Q3-Q1\n",
        "LB = Q1-(1.5*IQR)\n",
        "UB = Q3+(1.5*IQR)\n",
        "print(LB,UB,IQR)\n"
      ],
      "execution_count": 247,
      "outputs": [
        {
          "output_type": "stream",
          "text": [
            "1805.0 5685.0 970.0\n"
          ],
          "name": "stdout"
        }
      ]
    },
    {
      "cell_type": "code",
      "metadata": {
        "id": "rkap6ptNC7eI",
        "colab_type": "code",
        "colab": {
          "base_uri": "https://localhost:8080/",
          "height": 419
        },
        "outputId": "9a786374-d16d-4b2f-f6a5-b96e6dfc632a"
      },
      "source": [
        "df.drop(df[ (df.battery > UB) | (df.battery < LB) ].index , inplace=True)\n",
        "df"
      ],
      "execution_count": 248,
      "outputs": [
        {
          "output_type": "execute_result",
          "data": {
            "text/html": [
              "<div>\n",
              "<style scoped>\n",
              "    .dataframe tbody tr th:only-of-type {\n",
              "        vertical-align: middle;\n",
              "    }\n",
              "\n",
              "    .dataframe tbody tr th {\n",
              "        vertical-align: top;\n",
              "    }\n",
              "\n",
              "    .dataframe thead th {\n",
              "        text-align: right;\n",
              "    }\n",
              "</style>\n",
              "<table border=\"1\" class=\"dataframe\">\n",
              "  <thead>\n",
              "    <tr style=\"text-align: right;\">\n",
              "      <th></th>\n",
              "      <th>Ram</th>\n",
              "      <th>New_back_camera</th>\n",
              "      <th>battery</th>\n",
              "      <th>Internal_storage</th>\n",
              "      <th>display</th>\n",
              "      <th>rating</th>\n",
              "      <th>price</th>\n",
              "    </tr>\n",
              "  </thead>\n",
              "  <tbody>\n",
              "    <tr>\n",
              "      <th>0</th>\n",
              "      <td>4.0</td>\n",
              "      <td>12</td>\n",
              "      <td>5000</td>\n",
              "      <td>64</td>\n",
              "      <td>6.22</td>\n",
              "      <td>4.4</td>\n",
              "      <td>9799</td>\n",
              "    </tr>\n",
              "    <tr>\n",
              "      <th>1</th>\n",
              "      <td>4.0</td>\n",
              "      <td>48</td>\n",
              "      <td>5000</td>\n",
              "      <td>128</td>\n",
              "      <td>6.50</td>\n",
              "      <td>4.5</td>\n",
              "      <td>11999</td>\n",
              "    </tr>\n",
              "    <tr>\n",
              "      <th>2</th>\n",
              "      <td>4.0</td>\n",
              "      <td>48</td>\n",
              "      <td>5000</td>\n",
              "      <td>128</td>\n",
              "      <td>6.50</td>\n",
              "      <td>4.5</td>\n",
              "      <td>11999</td>\n",
              "    </tr>\n",
              "    <tr>\n",
              "      <th>3</th>\n",
              "      <td>6.0</td>\n",
              "      <td>64</td>\n",
              "      <td>4500</td>\n",
              "      <td>128</td>\n",
              "      <td>6.53</td>\n",
              "      <td>4.5</td>\n",
              "      <td>16999</td>\n",
              "    </tr>\n",
              "    <tr>\n",
              "      <th>4</th>\n",
              "      <td>8.0</td>\n",
              "      <td>64</td>\n",
              "      <td>4300</td>\n",
              "      <td>128</td>\n",
              "      <td>6.50</td>\n",
              "      <td>4.4</td>\n",
              "      <td>17999</td>\n",
              "    </tr>\n",
              "    <tr>\n",
              "      <th>...</th>\n",
              "      <td>...</td>\n",
              "      <td>...</td>\n",
              "      <td>...</td>\n",
              "      <td>...</td>\n",
              "      <td>...</td>\n",
              "      <td>...</td>\n",
              "      <td>...</td>\n",
              "    </tr>\n",
              "    <tr>\n",
              "      <th>309</th>\n",
              "      <td>4.0</td>\n",
              "      <td>16</td>\n",
              "      <td>3260</td>\n",
              "      <td>64</td>\n",
              "      <td>6.30</td>\n",
              "      <td>4.5</td>\n",
              "      <td>24000</td>\n",
              "    </tr>\n",
              "    <tr>\n",
              "      <th>310</th>\n",
              "      <td>4.0</td>\n",
              "      <td>16</td>\n",
              "      <td>3500</td>\n",
              "      <td>64</td>\n",
              "      <td>6.00</td>\n",
              "      <td>4.4</td>\n",
              "      <td>19500</td>\n",
              "    </tr>\n",
              "    <tr>\n",
              "      <th>311</th>\n",
              "      <td>1.0</td>\n",
              "      <td>8</td>\n",
              "      <td>2700</td>\n",
              "      <td>16</td>\n",
              "      <td>5.00</td>\n",
              "      <td>4.3</td>\n",
              "      <td>5449</td>\n",
              "    </tr>\n",
              "    <tr>\n",
              "      <th>312</th>\n",
              "      <td>4.0</td>\n",
              "      <td>13</td>\n",
              "      <td>3180</td>\n",
              "      <td>64</td>\n",
              "      <td>5.70</td>\n",
              "      <td>4.3</td>\n",
              "      <td>13990</td>\n",
              "    </tr>\n",
              "    <tr>\n",
              "      <th>314</th>\n",
              "      <td>4.0</td>\n",
              "      <td>13</td>\n",
              "      <td>3750</td>\n",
              "      <td>64</td>\n",
              "      <td>6.20</td>\n",
              "      <td>4.6</td>\n",
              "      <td>14074</td>\n",
              "    </tr>\n",
              "  </tbody>\n",
              "</table>\n",
              "<p>251 rows × 7 columns</p>\n",
              "</div>"
            ],
            "text/plain": [
              "     Ram  New_back_camera  battery  Internal_storage  display  rating  price\n",
              "0    4.0               12     5000                64     6.22     4.4   9799\n",
              "1    4.0               48     5000               128     6.50     4.5  11999\n",
              "2    4.0               48     5000               128     6.50     4.5  11999\n",
              "3    6.0               64     4500               128     6.53     4.5  16999\n",
              "4    8.0               64     4300               128     6.50     4.4  17999\n",
              "..   ...              ...      ...               ...      ...     ...    ...\n",
              "309  4.0               16     3260                64     6.30     4.5  24000\n",
              "310  4.0               16     3500                64     6.00     4.4  19500\n",
              "311  1.0                8     2700                16     5.00     4.3   5449\n",
              "312  4.0               13     3180                64     5.70     4.3  13990\n",
              "314  4.0               13     3750                64     6.20     4.6  14074\n",
              "\n",
              "[251 rows x 7 columns]"
            ]
          },
          "metadata": {
            "tags": []
          },
          "execution_count": 248
        }
      ]
    },
    {
      "cell_type": "code",
      "metadata": {
        "id": "4bGotv7RD9Rk",
        "colab_type": "code",
        "colab": {
          "base_uri": "https://localhost:8080/",
          "height": 34
        },
        "outputId": "84a838cb-31fe-4a25-f776-a2915153c66f"
      },
      "source": [
        "Q1 = np.quantile(df['Internal_storage'],0.25)\n",
        "Q3 = np.quantile(df['Internal_storage'],0.75)\n",
        "IQR = Q3-Q1\n",
        "LB = Q1-(1.5*IQR)\n",
        "UB = Q3+(1.5*IQR)\n",
        "print(LB,UB,IQR)\n"
      ],
      "execution_count": 249,
      "outputs": [
        {
          "output_type": "stream",
          "text": [
            "-112.0 272.0 96.0\n"
          ],
          "name": "stdout"
        }
      ]
    },
    {
      "cell_type": "code",
      "metadata": {
        "id": "zxhLRX20JXAB",
        "colab_type": "code",
        "colab": {
          "base_uri": "https://localhost:8080/",
          "height": 419
        },
        "outputId": "806cbc1d-aaf2-444b-a15e-3dd66fb8e0a3"
      },
      "source": [
        "df.drop(df[ (df.Internal_storage > UB) | (df.Internal_storage < LB) ].index , inplace=True)\n",
        "df"
      ],
      "execution_count": 250,
      "outputs": [
        {
          "output_type": "execute_result",
          "data": {
            "text/html": [
              "<div>\n",
              "<style scoped>\n",
              "    .dataframe tbody tr th:only-of-type {\n",
              "        vertical-align: middle;\n",
              "    }\n",
              "\n",
              "    .dataframe tbody tr th {\n",
              "        vertical-align: top;\n",
              "    }\n",
              "\n",
              "    .dataframe thead th {\n",
              "        text-align: right;\n",
              "    }\n",
              "</style>\n",
              "<table border=\"1\" class=\"dataframe\">\n",
              "  <thead>\n",
              "    <tr style=\"text-align: right;\">\n",
              "      <th></th>\n",
              "      <th>Ram</th>\n",
              "      <th>New_back_camera</th>\n",
              "      <th>battery</th>\n",
              "      <th>Internal_storage</th>\n",
              "      <th>display</th>\n",
              "      <th>rating</th>\n",
              "      <th>price</th>\n",
              "    </tr>\n",
              "  </thead>\n",
              "  <tbody>\n",
              "    <tr>\n",
              "      <th>0</th>\n",
              "      <td>4.0</td>\n",
              "      <td>12</td>\n",
              "      <td>5000</td>\n",
              "      <td>64</td>\n",
              "      <td>6.22</td>\n",
              "      <td>4.4</td>\n",
              "      <td>9799</td>\n",
              "    </tr>\n",
              "    <tr>\n",
              "      <th>1</th>\n",
              "      <td>4.0</td>\n",
              "      <td>48</td>\n",
              "      <td>5000</td>\n",
              "      <td>128</td>\n",
              "      <td>6.50</td>\n",
              "      <td>4.5</td>\n",
              "      <td>11999</td>\n",
              "    </tr>\n",
              "    <tr>\n",
              "      <th>2</th>\n",
              "      <td>4.0</td>\n",
              "      <td>48</td>\n",
              "      <td>5000</td>\n",
              "      <td>128</td>\n",
              "      <td>6.50</td>\n",
              "      <td>4.5</td>\n",
              "      <td>11999</td>\n",
              "    </tr>\n",
              "    <tr>\n",
              "      <th>3</th>\n",
              "      <td>6.0</td>\n",
              "      <td>64</td>\n",
              "      <td>4500</td>\n",
              "      <td>128</td>\n",
              "      <td>6.53</td>\n",
              "      <td>4.5</td>\n",
              "      <td>16999</td>\n",
              "    </tr>\n",
              "    <tr>\n",
              "      <th>4</th>\n",
              "      <td>8.0</td>\n",
              "      <td>64</td>\n",
              "      <td>4300</td>\n",
              "      <td>128</td>\n",
              "      <td>6.50</td>\n",
              "      <td>4.4</td>\n",
              "      <td>17999</td>\n",
              "    </tr>\n",
              "    <tr>\n",
              "      <th>...</th>\n",
              "      <td>...</td>\n",
              "      <td>...</td>\n",
              "      <td>...</td>\n",
              "      <td>...</td>\n",
              "      <td>...</td>\n",
              "      <td>...</td>\n",
              "      <td>...</td>\n",
              "    </tr>\n",
              "    <tr>\n",
              "      <th>309</th>\n",
              "      <td>4.0</td>\n",
              "      <td>16</td>\n",
              "      <td>3260</td>\n",
              "      <td>64</td>\n",
              "      <td>6.30</td>\n",
              "      <td>4.5</td>\n",
              "      <td>24000</td>\n",
              "    </tr>\n",
              "    <tr>\n",
              "      <th>310</th>\n",
              "      <td>4.0</td>\n",
              "      <td>16</td>\n",
              "      <td>3500</td>\n",
              "      <td>64</td>\n",
              "      <td>6.00</td>\n",
              "      <td>4.4</td>\n",
              "      <td>19500</td>\n",
              "    </tr>\n",
              "    <tr>\n",
              "      <th>311</th>\n",
              "      <td>1.0</td>\n",
              "      <td>8</td>\n",
              "      <td>2700</td>\n",
              "      <td>16</td>\n",
              "      <td>5.00</td>\n",
              "      <td>4.3</td>\n",
              "      <td>5449</td>\n",
              "    </tr>\n",
              "    <tr>\n",
              "      <th>312</th>\n",
              "      <td>4.0</td>\n",
              "      <td>13</td>\n",
              "      <td>3180</td>\n",
              "      <td>64</td>\n",
              "      <td>5.70</td>\n",
              "      <td>4.3</td>\n",
              "      <td>13990</td>\n",
              "    </tr>\n",
              "    <tr>\n",
              "      <th>314</th>\n",
              "      <td>4.0</td>\n",
              "      <td>13</td>\n",
              "      <td>3750</td>\n",
              "      <td>64</td>\n",
              "      <td>6.20</td>\n",
              "      <td>4.6</td>\n",
              "      <td>14074</td>\n",
              "    </tr>\n",
              "  </tbody>\n",
              "</table>\n",
              "<p>248 rows × 7 columns</p>\n",
              "</div>"
            ],
            "text/plain": [
              "     Ram  New_back_camera  battery  Internal_storage  display  rating  price\n",
              "0    4.0               12     5000                64     6.22     4.4   9799\n",
              "1    4.0               48     5000               128     6.50     4.5  11999\n",
              "2    4.0               48     5000               128     6.50     4.5  11999\n",
              "3    6.0               64     4500               128     6.53     4.5  16999\n",
              "4    8.0               64     4300               128     6.50     4.4  17999\n",
              "..   ...              ...      ...               ...      ...     ...    ...\n",
              "309  4.0               16     3260                64     6.30     4.5  24000\n",
              "310  4.0               16     3500                64     6.00     4.4  19500\n",
              "311  1.0                8     2700                16     5.00     4.3   5449\n",
              "312  4.0               13     3180                64     5.70     4.3  13990\n",
              "314  4.0               13     3750                64     6.20     4.6  14074\n",
              "\n",
              "[248 rows x 7 columns]"
            ]
          },
          "metadata": {
            "tags": []
          },
          "execution_count": 250
        }
      ]
    },
    {
      "cell_type": "code",
      "metadata": {
        "id": "VmPmuuMxNmSt",
        "colab_type": "code",
        "colab": {
          "base_uri": "https://localhost:8080/",
          "height": 34
        },
        "outputId": "d4dc825d-f889-4d1f-9a2b-ce1ca48827a8"
      },
      "source": [
        "Q1 = np.quantile(df['display'],0.25)\n",
        "Q3 = np.quantile(df['display'],0.75)\n",
        "IQR = Q3-Q1\n",
        "LB = Q1-(1.5*IQR)\n",
        "UB = Q3+(1.5*IQR)\n",
        "print(LB,UB,IQR)"
      ],
      "execution_count": 251,
      "outputs": [
        {
          "output_type": "stream",
          "text": [
            "5.333749999999998 7.043750000000003 0.4275000000000011\n"
          ],
          "name": "stdout"
        }
      ]
    },
    {
      "cell_type": "code",
      "metadata": {
        "id": "BHqHZ9jPN8d2",
        "colab_type": "code",
        "colab": {
          "base_uri": "https://localhost:8080/",
          "height": 419
        },
        "outputId": "49112622-e42d-41f7-ab05-32f9577de6e8"
      },
      "source": [
        "\n",
        "df.drop(df[ (df.display > UB) | (df.display < LB) ].index , inplace=True)\n",
        "df"
      ],
      "execution_count": 252,
      "outputs": [
        {
          "output_type": "execute_result",
          "data": {
            "text/html": [
              "<div>\n",
              "<style scoped>\n",
              "    .dataframe tbody tr th:only-of-type {\n",
              "        vertical-align: middle;\n",
              "    }\n",
              "\n",
              "    .dataframe tbody tr th {\n",
              "        vertical-align: top;\n",
              "    }\n",
              "\n",
              "    .dataframe thead th {\n",
              "        text-align: right;\n",
              "    }\n",
              "</style>\n",
              "<table border=\"1\" class=\"dataframe\">\n",
              "  <thead>\n",
              "    <tr style=\"text-align: right;\">\n",
              "      <th></th>\n",
              "      <th>Ram</th>\n",
              "      <th>New_back_camera</th>\n",
              "      <th>battery</th>\n",
              "      <th>Internal_storage</th>\n",
              "      <th>display</th>\n",
              "      <th>rating</th>\n",
              "      <th>price</th>\n",
              "    </tr>\n",
              "  </thead>\n",
              "  <tbody>\n",
              "    <tr>\n",
              "      <th>0</th>\n",
              "      <td>4.0</td>\n",
              "      <td>12</td>\n",
              "      <td>5000</td>\n",
              "      <td>64</td>\n",
              "      <td>6.22</td>\n",
              "      <td>4.4</td>\n",
              "      <td>9799</td>\n",
              "    </tr>\n",
              "    <tr>\n",
              "      <th>1</th>\n",
              "      <td>4.0</td>\n",
              "      <td>48</td>\n",
              "      <td>5000</td>\n",
              "      <td>128</td>\n",
              "      <td>6.50</td>\n",
              "      <td>4.5</td>\n",
              "      <td>11999</td>\n",
              "    </tr>\n",
              "    <tr>\n",
              "      <th>2</th>\n",
              "      <td>4.0</td>\n",
              "      <td>48</td>\n",
              "      <td>5000</td>\n",
              "      <td>128</td>\n",
              "      <td>6.50</td>\n",
              "      <td>4.5</td>\n",
              "      <td>11999</td>\n",
              "    </tr>\n",
              "    <tr>\n",
              "      <th>3</th>\n",
              "      <td>6.0</td>\n",
              "      <td>64</td>\n",
              "      <td>4500</td>\n",
              "      <td>128</td>\n",
              "      <td>6.53</td>\n",
              "      <td>4.5</td>\n",
              "      <td>16999</td>\n",
              "    </tr>\n",
              "    <tr>\n",
              "      <th>4</th>\n",
              "      <td>8.0</td>\n",
              "      <td>64</td>\n",
              "      <td>4300</td>\n",
              "      <td>128</td>\n",
              "      <td>6.50</td>\n",
              "      <td>4.4</td>\n",
              "      <td>17999</td>\n",
              "    </tr>\n",
              "    <tr>\n",
              "      <th>...</th>\n",
              "      <td>...</td>\n",
              "      <td>...</td>\n",
              "      <td>...</td>\n",
              "      <td>...</td>\n",
              "      <td>...</td>\n",
              "      <td>...</td>\n",
              "      <td>...</td>\n",
              "    </tr>\n",
              "    <tr>\n",
              "      <th>308</th>\n",
              "      <td>4.0</td>\n",
              "      <td>13</td>\n",
              "      <td>3000</td>\n",
              "      <td>64</td>\n",
              "      <td>5.84</td>\n",
              "      <td>4.3</td>\n",
              "      <td>14500</td>\n",
              "    </tr>\n",
              "    <tr>\n",
              "      <th>309</th>\n",
              "      <td>4.0</td>\n",
              "      <td>16</td>\n",
              "      <td>3260</td>\n",
              "      <td>64</td>\n",
              "      <td>6.30</td>\n",
              "      <td>4.5</td>\n",
              "      <td>24000</td>\n",
              "    </tr>\n",
              "    <tr>\n",
              "      <th>310</th>\n",
              "      <td>4.0</td>\n",
              "      <td>16</td>\n",
              "      <td>3500</td>\n",
              "      <td>64</td>\n",
              "      <td>6.00</td>\n",
              "      <td>4.4</td>\n",
              "      <td>19500</td>\n",
              "    </tr>\n",
              "    <tr>\n",
              "      <th>312</th>\n",
              "      <td>4.0</td>\n",
              "      <td>13</td>\n",
              "      <td>3180</td>\n",
              "      <td>64</td>\n",
              "      <td>5.70</td>\n",
              "      <td>4.3</td>\n",
              "      <td>13990</td>\n",
              "    </tr>\n",
              "    <tr>\n",
              "      <th>314</th>\n",
              "      <td>4.0</td>\n",
              "      <td>13</td>\n",
              "      <td>3750</td>\n",
              "      <td>64</td>\n",
              "      <td>6.20</td>\n",
              "      <td>4.6</td>\n",
              "      <td>14074</td>\n",
              "    </tr>\n",
              "  </tbody>\n",
              "</table>\n",
              "<p>227 rows × 7 columns</p>\n",
              "</div>"
            ],
            "text/plain": [
              "     Ram  New_back_camera  battery  Internal_storage  display  rating  price\n",
              "0    4.0               12     5000                64     6.22     4.4   9799\n",
              "1    4.0               48     5000               128     6.50     4.5  11999\n",
              "2    4.0               48     5000               128     6.50     4.5  11999\n",
              "3    6.0               64     4500               128     6.53     4.5  16999\n",
              "4    8.0               64     4300               128     6.50     4.4  17999\n",
              "..   ...              ...      ...               ...      ...     ...    ...\n",
              "308  4.0               13     3000                64     5.84     4.3  14500\n",
              "309  4.0               16     3260                64     6.30     4.5  24000\n",
              "310  4.0               16     3500                64     6.00     4.4  19500\n",
              "312  4.0               13     3180                64     5.70     4.3  13990\n",
              "314  4.0               13     3750                64     6.20     4.6  14074\n",
              "\n",
              "[227 rows x 7 columns]"
            ]
          },
          "metadata": {
            "tags": []
          },
          "execution_count": 252
        }
      ]
    },
    {
      "cell_type": "code",
      "metadata": {
        "id": "3HICbvWwUWl-",
        "colab_type": "code",
        "colab": {
          "base_uri": "https://localhost:8080/",
          "height": 34
        },
        "outputId": "13a21a64-ead7-4d63-9ef0-64d78c5427e3"
      },
      "source": [
        "Q1 = np.quantile(df['rating'],0.25)\n",
        "Q3 = np.quantile(df['rating'],0.75)\n",
        "IQR = Q3-Q1\n",
        "LB = Q1-(1.5*IQR)\n",
        "UB = Q3+(1.5*IQR)\n",
        "print(LB,UB,IQR)"
      ],
      "execution_count": 253,
      "outputs": [
        {
          "output_type": "stream",
          "text": [
            "3.9999999999999996 4.800000000000001 0.20000000000000018\n"
          ],
          "name": "stdout"
        }
      ]
    },
    {
      "cell_type": "code",
      "metadata": {
        "id": "Ri156PrjUpDb",
        "colab_type": "code",
        "colab": {
          "base_uri": "https://localhost:8080/",
          "height": 419
        },
        "outputId": "081dabf3-e325-406f-e29c-92274e7457ae"
      },
      "source": [
        "df.drop(df[ (df.rating > UB) | (df.rating < LB) ].index , inplace=True)\n",
        "df"
      ],
      "execution_count": 254,
      "outputs": [
        {
          "output_type": "execute_result",
          "data": {
            "text/html": [
              "<div>\n",
              "<style scoped>\n",
              "    .dataframe tbody tr th:only-of-type {\n",
              "        vertical-align: middle;\n",
              "    }\n",
              "\n",
              "    .dataframe tbody tr th {\n",
              "        vertical-align: top;\n",
              "    }\n",
              "\n",
              "    .dataframe thead th {\n",
              "        text-align: right;\n",
              "    }\n",
              "</style>\n",
              "<table border=\"1\" class=\"dataframe\">\n",
              "  <thead>\n",
              "    <tr style=\"text-align: right;\">\n",
              "      <th></th>\n",
              "      <th>Ram</th>\n",
              "      <th>New_back_camera</th>\n",
              "      <th>battery</th>\n",
              "      <th>Internal_storage</th>\n",
              "      <th>display</th>\n",
              "      <th>rating</th>\n",
              "      <th>price</th>\n",
              "    </tr>\n",
              "  </thead>\n",
              "  <tbody>\n",
              "    <tr>\n",
              "      <th>0</th>\n",
              "      <td>4.0</td>\n",
              "      <td>12</td>\n",
              "      <td>5000</td>\n",
              "      <td>64</td>\n",
              "      <td>6.22</td>\n",
              "      <td>4.4</td>\n",
              "      <td>9799</td>\n",
              "    </tr>\n",
              "    <tr>\n",
              "      <th>1</th>\n",
              "      <td>4.0</td>\n",
              "      <td>48</td>\n",
              "      <td>5000</td>\n",
              "      <td>128</td>\n",
              "      <td>6.50</td>\n",
              "      <td>4.5</td>\n",
              "      <td>11999</td>\n",
              "    </tr>\n",
              "    <tr>\n",
              "      <th>2</th>\n",
              "      <td>4.0</td>\n",
              "      <td>48</td>\n",
              "      <td>5000</td>\n",
              "      <td>128</td>\n",
              "      <td>6.50</td>\n",
              "      <td>4.5</td>\n",
              "      <td>11999</td>\n",
              "    </tr>\n",
              "    <tr>\n",
              "      <th>3</th>\n",
              "      <td>6.0</td>\n",
              "      <td>64</td>\n",
              "      <td>4500</td>\n",
              "      <td>128</td>\n",
              "      <td>6.53</td>\n",
              "      <td>4.5</td>\n",
              "      <td>16999</td>\n",
              "    </tr>\n",
              "    <tr>\n",
              "      <th>4</th>\n",
              "      <td>8.0</td>\n",
              "      <td>64</td>\n",
              "      <td>4300</td>\n",
              "      <td>128</td>\n",
              "      <td>6.50</td>\n",
              "      <td>4.4</td>\n",
              "      <td>17999</td>\n",
              "    </tr>\n",
              "    <tr>\n",
              "      <th>...</th>\n",
              "      <td>...</td>\n",
              "      <td>...</td>\n",
              "      <td>...</td>\n",
              "      <td>...</td>\n",
              "      <td>...</td>\n",
              "      <td>...</td>\n",
              "      <td>...</td>\n",
              "    </tr>\n",
              "    <tr>\n",
              "      <th>308</th>\n",
              "      <td>4.0</td>\n",
              "      <td>13</td>\n",
              "      <td>3000</td>\n",
              "      <td>64</td>\n",
              "      <td>5.84</td>\n",
              "      <td>4.3</td>\n",
              "      <td>14500</td>\n",
              "    </tr>\n",
              "    <tr>\n",
              "      <th>309</th>\n",
              "      <td>4.0</td>\n",
              "      <td>16</td>\n",
              "      <td>3260</td>\n",
              "      <td>64</td>\n",
              "      <td>6.30</td>\n",
              "      <td>4.5</td>\n",
              "      <td>24000</td>\n",
              "    </tr>\n",
              "    <tr>\n",
              "      <th>310</th>\n",
              "      <td>4.0</td>\n",
              "      <td>16</td>\n",
              "      <td>3500</td>\n",
              "      <td>64</td>\n",
              "      <td>6.00</td>\n",
              "      <td>4.4</td>\n",
              "      <td>19500</td>\n",
              "    </tr>\n",
              "    <tr>\n",
              "      <th>312</th>\n",
              "      <td>4.0</td>\n",
              "      <td>13</td>\n",
              "      <td>3180</td>\n",
              "      <td>64</td>\n",
              "      <td>5.70</td>\n",
              "      <td>4.3</td>\n",
              "      <td>13990</td>\n",
              "    </tr>\n",
              "    <tr>\n",
              "      <th>314</th>\n",
              "      <td>4.0</td>\n",
              "      <td>13</td>\n",
              "      <td>3750</td>\n",
              "      <td>64</td>\n",
              "      <td>6.20</td>\n",
              "      <td>4.6</td>\n",
              "      <td>14074</td>\n",
              "    </tr>\n",
              "  </tbody>\n",
              "</table>\n",
              "<p>214 rows × 7 columns</p>\n",
              "</div>"
            ],
            "text/plain": [
              "     Ram  New_back_camera  battery  Internal_storage  display  rating  price\n",
              "0    4.0               12     5000                64     6.22     4.4   9799\n",
              "1    4.0               48     5000               128     6.50     4.5  11999\n",
              "2    4.0               48     5000               128     6.50     4.5  11999\n",
              "3    6.0               64     4500               128     6.53     4.5  16999\n",
              "4    8.0               64     4300               128     6.50     4.4  17999\n",
              "..   ...              ...      ...               ...      ...     ...    ...\n",
              "308  4.0               13     3000                64     5.84     4.3  14500\n",
              "309  4.0               16     3260                64     6.30     4.5  24000\n",
              "310  4.0               16     3500                64     6.00     4.4  19500\n",
              "312  4.0               13     3180                64     5.70     4.3  13990\n",
              "314  4.0               13     3750                64     6.20     4.6  14074\n",
              "\n",
              "[214 rows x 7 columns]"
            ]
          },
          "metadata": {
            "tags": []
          },
          "execution_count": 254
        }
      ]
    },
    {
      "cell_type": "code",
      "metadata": {
        "id": "VqQaqqAkU5lu",
        "colab_type": "code",
        "colab": {
          "base_uri": "https://localhost:8080/",
          "height": 34
        },
        "outputId": "7bd97d2c-ec6f-444b-f5a1-e789ccc05855"
      },
      "source": [
        "\n",
        "Q1 = np.quantile(df['price'],0.25)\n",
        "Q3 = np.quantile(df['price'],0.75)\n",
        "IQR = Q3-Q1\n",
        "LB = Q1-(1.5*IQR)\n",
        "UB = Q3+(1.5*IQR)\n",
        "print(LB,UB,IQR)"
      ],
      "execution_count": 255,
      "outputs": [
        {
          "output_type": "stream",
          "text": [
            "-4686.625 42810.375 11874.25\n"
          ],
          "name": "stdout"
        }
      ]
    },
    {
      "cell_type": "code",
      "metadata": {
        "id": "Ruewwz5oV20L",
        "colab_type": "code",
        "colab": {
          "base_uri": "https://localhost:8080/",
          "height": 419
        },
        "outputId": "2eb58460-abda-4c2f-e2dc-651bc475004a"
      },
      "source": [
        "df.drop(df[ (df.price > UB) | (df.price < LB) ].index , inplace=True)\n",
        "df"
      ],
      "execution_count": 256,
      "outputs": [
        {
          "output_type": "execute_result",
          "data": {
            "text/html": [
              "<div>\n",
              "<style scoped>\n",
              "    .dataframe tbody tr th:only-of-type {\n",
              "        vertical-align: middle;\n",
              "    }\n",
              "\n",
              "    .dataframe tbody tr th {\n",
              "        vertical-align: top;\n",
              "    }\n",
              "\n",
              "    .dataframe thead th {\n",
              "        text-align: right;\n",
              "    }\n",
              "</style>\n",
              "<table border=\"1\" class=\"dataframe\">\n",
              "  <thead>\n",
              "    <tr style=\"text-align: right;\">\n",
              "      <th></th>\n",
              "      <th>Ram</th>\n",
              "      <th>New_back_camera</th>\n",
              "      <th>battery</th>\n",
              "      <th>Internal_storage</th>\n",
              "      <th>display</th>\n",
              "      <th>rating</th>\n",
              "      <th>price</th>\n",
              "    </tr>\n",
              "  </thead>\n",
              "  <tbody>\n",
              "    <tr>\n",
              "      <th>0</th>\n",
              "      <td>4.0</td>\n",
              "      <td>12</td>\n",
              "      <td>5000</td>\n",
              "      <td>64</td>\n",
              "      <td>6.22</td>\n",
              "      <td>4.4</td>\n",
              "      <td>9799</td>\n",
              "    </tr>\n",
              "    <tr>\n",
              "      <th>1</th>\n",
              "      <td>4.0</td>\n",
              "      <td>48</td>\n",
              "      <td>5000</td>\n",
              "      <td>128</td>\n",
              "      <td>6.50</td>\n",
              "      <td>4.5</td>\n",
              "      <td>11999</td>\n",
              "    </tr>\n",
              "    <tr>\n",
              "      <th>2</th>\n",
              "      <td>4.0</td>\n",
              "      <td>48</td>\n",
              "      <td>5000</td>\n",
              "      <td>128</td>\n",
              "      <td>6.50</td>\n",
              "      <td>4.5</td>\n",
              "      <td>11999</td>\n",
              "    </tr>\n",
              "    <tr>\n",
              "      <th>3</th>\n",
              "      <td>6.0</td>\n",
              "      <td>64</td>\n",
              "      <td>4500</td>\n",
              "      <td>128</td>\n",
              "      <td>6.53</td>\n",
              "      <td>4.5</td>\n",
              "      <td>16999</td>\n",
              "    </tr>\n",
              "    <tr>\n",
              "      <th>4</th>\n",
              "      <td>8.0</td>\n",
              "      <td>64</td>\n",
              "      <td>4300</td>\n",
              "      <td>128</td>\n",
              "      <td>6.50</td>\n",
              "      <td>4.4</td>\n",
              "      <td>17999</td>\n",
              "    </tr>\n",
              "    <tr>\n",
              "      <th>...</th>\n",
              "      <td>...</td>\n",
              "      <td>...</td>\n",
              "      <td>...</td>\n",
              "      <td>...</td>\n",
              "      <td>...</td>\n",
              "      <td>...</td>\n",
              "      <td>...</td>\n",
              "    </tr>\n",
              "    <tr>\n",
              "      <th>308</th>\n",
              "      <td>4.0</td>\n",
              "      <td>13</td>\n",
              "      <td>3000</td>\n",
              "      <td>64</td>\n",
              "      <td>5.84</td>\n",
              "      <td>4.3</td>\n",
              "      <td>14500</td>\n",
              "    </tr>\n",
              "    <tr>\n",
              "      <th>309</th>\n",
              "      <td>4.0</td>\n",
              "      <td>16</td>\n",
              "      <td>3260</td>\n",
              "      <td>64</td>\n",
              "      <td>6.30</td>\n",
              "      <td>4.5</td>\n",
              "      <td>24000</td>\n",
              "    </tr>\n",
              "    <tr>\n",
              "      <th>310</th>\n",
              "      <td>4.0</td>\n",
              "      <td>16</td>\n",
              "      <td>3500</td>\n",
              "      <td>64</td>\n",
              "      <td>6.00</td>\n",
              "      <td>4.4</td>\n",
              "      <td>19500</td>\n",
              "    </tr>\n",
              "    <tr>\n",
              "      <th>312</th>\n",
              "      <td>4.0</td>\n",
              "      <td>13</td>\n",
              "      <td>3180</td>\n",
              "      <td>64</td>\n",
              "      <td>5.70</td>\n",
              "      <td>4.3</td>\n",
              "      <td>13990</td>\n",
              "    </tr>\n",
              "    <tr>\n",
              "      <th>314</th>\n",
              "      <td>4.0</td>\n",
              "      <td>13</td>\n",
              "      <td>3750</td>\n",
              "      <td>64</td>\n",
              "      <td>6.20</td>\n",
              "      <td>4.6</td>\n",
              "      <td>14074</td>\n",
              "    </tr>\n",
              "  </tbody>\n",
              "</table>\n",
              "<p>197 rows × 7 columns</p>\n",
              "</div>"
            ],
            "text/plain": [
              "     Ram  New_back_camera  battery  Internal_storage  display  rating  price\n",
              "0    4.0               12     5000                64     6.22     4.4   9799\n",
              "1    4.0               48     5000               128     6.50     4.5  11999\n",
              "2    4.0               48     5000               128     6.50     4.5  11999\n",
              "3    6.0               64     4500               128     6.53     4.5  16999\n",
              "4    8.0               64     4300               128     6.50     4.4  17999\n",
              "..   ...              ...      ...               ...      ...     ...    ...\n",
              "308  4.0               13     3000                64     5.84     4.3  14500\n",
              "309  4.0               16     3260                64     6.30     4.5  24000\n",
              "310  4.0               16     3500                64     6.00     4.4  19500\n",
              "312  4.0               13     3180                64     5.70     4.3  13990\n",
              "314  4.0               13     3750                64     6.20     4.6  14074\n",
              "\n",
              "[197 rows x 7 columns]"
            ]
          },
          "metadata": {
            "tags": []
          },
          "execution_count": 256
        }
      ]
    },
    {
      "cell_type": "code",
      "metadata": {
        "id": "J2GiSfDE0DKO",
        "colab_type": "code",
        "colab": {
          "base_uri": "https://localhost:8080/",
          "height": 419
        },
        "outputId": "7834641c-b552-46c9-f01b-fedc6d12a6cb"
      },
      "source": [
        "df"
      ],
      "execution_count": 257,
      "outputs": [
        {
          "output_type": "execute_result",
          "data": {
            "text/html": [
              "<div>\n",
              "<style scoped>\n",
              "    .dataframe tbody tr th:only-of-type {\n",
              "        vertical-align: middle;\n",
              "    }\n",
              "\n",
              "    .dataframe tbody tr th {\n",
              "        vertical-align: top;\n",
              "    }\n",
              "\n",
              "    .dataframe thead th {\n",
              "        text-align: right;\n",
              "    }\n",
              "</style>\n",
              "<table border=\"1\" class=\"dataframe\">\n",
              "  <thead>\n",
              "    <tr style=\"text-align: right;\">\n",
              "      <th></th>\n",
              "      <th>Ram</th>\n",
              "      <th>New_back_camera</th>\n",
              "      <th>battery</th>\n",
              "      <th>Internal_storage</th>\n",
              "      <th>display</th>\n",
              "      <th>rating</th>\n",
              "      <th>price</th>\n",
              "    </tr>\n",
              "  </thead>\n",
              "  <tbody>\n",
              "    <tr>\n",
              "      <th>0</th>\n",
              "      <td>4.0</td>\n",
              "      <td>12</td>\n",
              "      <td>5000</td>\n",
              "      <td>64</td>\n",
              "      <td>6.22</td>\n",
              "      <td>4.4</td>\n",
              "      <td>9799</td>\n",
              "    </tr>\n",
              "    <tr>\n",
              "      <th>1</th>\n",
              "      <td>4.0</td>\n",
              "      <td>48</td>\n",
              "      <td>5000</td>\n",
              "      <td>128</td>\n",
              "      <td>6.50</td>\n",
              "      <td>4.5</td>\n",
              "      <td>11999</td>\n",
              "    </tr>\n",
              "    <tr>\n",
              "      <th>2</th>\n",
              "      <td>4.0</td>\n",
              "      <td>48</td>\n",
              "      <td>5000</td>\n",
              "      <td>128</td>\n",
              "      <td>6.50</td>\n",
              "      <td>4.5</td>\n",
              "      <td>11999</td>\n",
              "    </tr>\n",
              "    <tr>\n",
              "      <th>3</th>\n",
              "      <td>6.0</td>\n",
              "      <td>64</td>\n",
              "      <td>4500</td>\n",
              "      <td>128</td>\n",
              "      <td>6.53</td>\n",
              "      <td>4.5</td>\n",
              "      <td>16999</td>\n",
              "    </tr>\n",
              "    <tr>\n",
              "      <th>4</th>\n",
              "      <td>8.0</td>\n",
              "      <td>64</td>\n",
              "      <td>4300</td>\n",
              "      <td>128</td>\n",
              "      <td>6.50</td>\n",
              "      <td>4.4</td>\n",
              "      <td>17999</td>\n",
              "    </tr>\n",
              "    <tr>\n",
              "      <th>...</th>\n",
              "      <td>...</td>\n",
              "      <td>...</td>\n",
              "      <td>...</td>\n",
              "      <td>...</td>\n",
              "      <td>...</td>\n",
              "      <td>...</td>\n",
              "      <td>...</td>\n",
              "    </tr>\n",
              "    <tr>\n",
              "      <th>308</th>\n",
              "      <td>4.0</td>\n",
              "      <td>13</td>\n",
              "      <td>3000</td>\n",
              "      <td>64</td>\n",
              "      <td>5.84</td>\n",
              "      <td>4.3</td>\n",
              "      <td>14500</td>\n",
              "    </tr>\n",
              "    <tr>\n",
              "      <th>309</th>\n",
              "      <td>4.0</td>\n",
              "      <td>16</td>\n",
              "      <td>3260</td>\n",
              "      <td>64</td>\n",
              "      <td>6.30</td>\n",
              "      <td>4.5</td>\n",
              "      <td>24000</td>\n",
              "    </tr>\n",
              "    <tr>\n",
              "      <th>310</th>\n",
              "      <td>4.0</td>\n",
              "      <td>16</td>\n",
              "      <td>3500</td>\n",
              "      <td>64</td>\n",
              "      <td>6.00</td>\n",
              "      <td>4.4</td>\n",
              "      <td>19500</td>\n",
              "    </tr>\n",
              "    <tr>\n",
              "      <th>312</th>\n",
              "      <td>4.0</td>\n",
              "      <td>13</td>\n",
              "      <td>3180</td>\n",
              "      <td>64</td>\n",
              "      <td>5.70</td>\n",
              "      <td>4.3</td>\n",
              "      <td>13990</td>\n",
              "    </tr>\n",
              "    <tr>\n",
              "      <th>314</th>\n",
              "      <td>4.0</td>\n",
              "      <td>13</td>\n",
              "      <td>3750</td>\n",
              "      <td>64</td>\n",
              "      <td>6.20</td>\n",
              "      <td>4.6</td>\n",
              "      <td>14074</td>\n",
              "    </tr>\n",
              "  </tbody>\n",
              "</table>\n",
              "<p>197 rows × 7 columns</p>\n",
              "</div>"
            ],
            "text/plain": [
              "     Ram  New_back_camera  battery  Internal_storage  display  rating  price\n",
              "0    4.0               12     5000                64     6.22     4.4   9799\n",
              "1    4.0               48     5000               128     6.50     4.5  11999\n",
              "2    4.0               48     5000               128     6.50     4.5  11999\n",
              "3    6.0               64     4500               128     6.53     4.5  16999\n",
              "4    8.0               64     4300               128     6.50     4.4  17999\n",
              "..   ...              ...      ...               ...      ...     ...    ...\n",
              "308  4.0               13     3000                64     5.84     4.3  14500\n",
              "309  4.0               16     3260                64     6.30     4.5  24000\n",
              "310  4.0               16     3500                64     6.00     4.4  19500\n",
              "312  4.0               13     3180                64     5.70     4.3  13990\n",
              "314  4.0               13     3750                64     6.20     4.6  14074\n",
              "\n",
              "[197 rows x 7 columns]"
            ]
          },
          "metadata": {
            "tags": []
          },
          "execution_count": 257
        }
      ]
    },
    {
      "cell_type": "markdown",
      "metadata": {
        "id": "26dQrClKNNYz",
        "colab_type": "text"
      },
      "source": [
        "# **Multiple Linear Regression Model**"
      ]
    },
    {
      "cell_type": "code",
      "metadata": {
        "id": "AkWFxH6IiIcj",
        "colab_type": "code",
        "colab": {
          "base_uri": "https://localhost:8080/",
          "height": 34
        },
        "outputId": "5e3bfac9-8575-449f-e434-7a940133f170"
      },
      "source": [
        "x = df.iloc[:, :-1]\n",
        "y = df.iloc[:, -1] \n",
        "\n",
        "from sklearn.model_selection import train_test_split\n",
        "X_train ,X_test ,Y_train,Y_test = train_test_split(x,y, test_size = 0.2,random_state = 1)\n",
        "\n",
        "from sklearn.preprocessing import StandardScaler\n",
        "sc = StandardScaler()\n",
        "X_train = sc.fit_transform(X_train)\n",
        "X_test = sc.transform(X_test)\n",
        "\n",
        "from sklearn.linear_model import LinearRegression\n",
        "regressor = LinearRegression()\n",
        "regressor.fit(X_train,Y_train)\n",
        "\n",
        "y_pred = regressor.predict(X_test)\n",
        "y_pred\n",
        "\n",
        "from sklearn.metrics import r2_score\n",
        "score=r2_score(Y_test,y_pred)\n",
        "\n",
        "print(score)"
      ],
      "execution_count": 258,
      "outputs": [
        {
          "output_type": "stream",
          "text": [
            "0.7771531542270143\n"
          ],
          "name": "stdout"
        }
      ]
    },
    {
      "cell_type": "markdown",
      "metadata": {
        "id": "-nT950tJNUCJ",
        "colab_type": "text"
      },
      "source": [
        "# **Random Forest Regression Model :-**"
      ]
    },
    {
      "cell_type": "code",
      "metadata": {
        "id": "MtjUHJQdXU1m",
        "colab_type": "code",
        "colab": {
          "base_uri": "https://localhost:8080/",
          "height": 34
        },
        "outputId": "c745a151-9eea-4164-99ec-cc17bc3cc0c0"
      },
      "source": [
        "x = df.iloc[:, :-1]\n",
        "y = df.iloc[:, -1] \n",
        "\n",
        " #Splitting the dataset into test and train datasets\n",
        "from sklearn.model_selection import train_test_split\n",
        "X_train ,X_test ,Y_train,Y_test = train_test_split(x,y, test_size = 0.2,random_state = 1)\n",
        "\n",
        "#Normalizing the features with Feature scaling\n",
        "from sklearn.preprocessing import StandardScaler\n",
        "sc = StandardScaler()\n",
        "X_train = sc.fit_transform(X_train)\n",
        "X_test = sc.transform(X_test)\n",
        "\n",
        "#Training the dataset on Random forest regression model\n",
        "from sklearn.ensemble import RandomForestRegressor\n",
        "regressor = RandomForestRegressor(n_estimators= 10 , random_state=50)\n",
        "regressor.fit(X_train,Y_train)\n",
        "\n",
        "y_pred = regressor.predict((X_test))\n",
        "y_pred\n",
        "\n",
        "#calculating R2_score\n",
        "from sklearn.metrics import r2_score\n",
        "score=r2_score(Y_test,y_pred)\n",
        "\n",
        "print(score)"
      ],
      "execution_count": 269,
      "outputs": [
        {
          "output_type": "stream",
          "text": [
            "0.8840594970476678\n"
          ],
          "name": "stdout"
        }
      ]
    }
  ]
}